{
 "cells": [
  {
   "cell_type": "markdown",
   "metadata": {},
   "source": [
    "# Warm up\n",
    "\n",
    "The code below showcases a convolutional network in Keras. It was designed to classify 100x100 rgb images into 10 classes.\n",
    "This network... quite frankly, it sucks. Can you guess what's the problem? Is there just one problem?"
   ]
  },
  {
   "cell_type": "code",
   "execution_count": 1,
   "metadata": {},
   "outputs": [],
   "source": [
    "import keras\n",
    "import keras.layers as L\n",
    "import keras.initializers as init\n",
    "import tensorflow as tf"
   ]
  },
  {
   "cell_type": "code",
   "execution_count": 3,
   "metadata": {},
   "outputs": [],
   "source": [
    "net = keras.models.Sequential()\n",
    "\n",
    "net.add(L.InputLayer([100, 100, 3]))\n",
    "\n",
    "net.add(L.Conv2D(filters=512, kernel_size=(3, 3), \n",
    "                 kernel_initializer=init.zeros()))\n",
    "net.add(L.Activation('relu'))\n",
    "\n",
    "net.add(L.Conv2D(filters=128, kernel_size=(3, 3), \n",
    "                 kernel_initializer=init.zeros()))\n",
    "net.add(L.Activation('relu'))\n",
    "\n",
    "net.add(L.Conv2D(filters=32, kernel_size=(3, 3), \n",
    "                 kernel_initializer=init.zeros()))\n",
    "net.add(L.Activation('relu'))\n",
    "\n",
    "net.add(L.MaxPool2D(pool_size=(6, 6)))\n",
    "\n",
    "net.add(L.Conv2D(filters=8, kernel_size=(10, 10), \n",
    "                 kernel_initializer=init.RandomNormal(), padding='same'))\n",
    "net.add(L.Activation('relu'))\n",
    "\n",
    "\n",
    "net.add(L.Conv2D(filters=8, kernel_size=(10, 10), \n",
    "                 kernel_initializer=init.RandomNormal(), padding='same'))\n",
    "net.add(L.Activation('relu'))\n",
    "\n",
    "net.add(L.MaxPool2D(pool_size=(3, 3)))\n",
    "\n",
    "net.add(L.Flatten()) # convert 3d tensor to a vector of features\n",
    "\n",
    "net.add(L.Dense(units=512))\n",
    "net.add(L.Activation('softmax'))\n",
    "\n",
    "net.add(L.Dropout(rate=0.5))\n",
    "\n",
    "net.add(L.Dense(units=512))\n",
    "net.add(L.Activation('softmax'))\n",
    "\n",
    "net.add(L.Dense(units=10))\n",
    "net.add(L.Activation('sigmoid'))\n",
    "net.add(L.Dropout(rate=0.5))"
   ]
  },
  {
   "cell_type": "markdown",
   "metadata": {},
   "source": [
    "* [Conv2D](https://keras.io/layers/convolutional/#conv2d) - performs convolution:\n",
    "    * filters: number of output channels;\n",
    "    * kernel_size: an integer or tuple/list of 2 integers, specifying the width and height of the 2D convolution window;\n",
    "    * padding: padding=\"same\" adds zero padding to the input, so that the output has the same width and height, padding='valid' performs convolution only in locations where kernel and the input fully overlap;\n",
    "    * activation: \"relu\", \"tanh\", etc.\n",
    "    * input_shape: shape of input.\n",
    "* [MaxPooling2D](https://keras.io/layers/pooling/#maxpooling2d) - performs 2D max pooling.\n",
    "* [Flatten](https://keras.io/layers/core/#flatten) - flattens the input, does not affect the batch size.\n",
    "* [Dense](https://keras.io/layers/core/#dense) - fully-connected layer.\n",
    "    * Activation - applies an activation function.\n",
    "* [LeakyReLU](https://keras.io/layers/advanced-activations/#leakyrelu) - applies leaky relu activation.\n",
    "* [Dropout](https://keras.io/layers/core/#dropout) - applies dropout."
   ]
  },
  {
   "cell_type": "markdown",
   "metadata": {},
   "source": [
    "## Book of grudges\n",
    "* zero init for weights will cause symmetry effect\n",
    "* Too many filters for first 3x3 convolution - will lead to enormous matrix while there's just not enough relevant combinations of 3x3 images (overkill).\n",
    "* Usually the further you go, the more filters you need.\n",
    "* large filters (10x10 is generally a bad pactice, and you definitely need more than 10 of them\n",
    "* the second of 10x10 convolution gets 8x6x6 image as input, so it's technically unable to perform such convolution.\n",
    "* Softmax nonlinearity effectively makes only 1 or a few neurons from the entire layer to \"fire\", rendering 512-neuron layer almost useless. Softmax at the output layer is okay though\n",
    "* Dropout after probability prediciton is just lame. A few random classes get probability of 0, so your probabilities no longer sum to 1 and crossentropy goes -inf."
   ]
  },
  {
   "cell_type": "code",
   "execution_count": null,
   "metadata": {},
   "outputs": [],
   "source": []
  },
  {
   "cell_type": "markdown",
   "metadata": {},
   "source": [
    "In this exercise you have to train a new Convolutional Neural Network from scratch for the classification of images.\n",
    "\n",
    "1. For this we will use the Keras library.\n",
    "2. The aim is to achieve 99% accuracy (on validation/test set) the MNIST dataset http://yann.lecun.com/exdb/mnist/.\n",
    "3. We have provided a basic Keras implementation of a CNN.\n",
    "4. You are allowed to do whatever you want (except copy pasting) with the network as long as it is explained in your report.\n",
    "5. Feel free to change the architecture of the network as well as parameters (e.g. learning rate, kernel sizes, ...).\n",
    "6. You can try to guess parameters manually of you want, just make sure that it performs better than 99% on the validation set.\n",
    "7. Sketch the final network architecture in your report.\n",
    "8. Make sure you train the network on the GPU, otherwise it will be too slow.\n",
    "9. Explain the plots: learning curve, accuracy wrt epoch."
   ]
  },
  {
   "cell_type": "code",
   "execution_count": 1,
   "metadata": {},
   "outputs": [],
   "source": [
    "import keras\n",
    "import keras.layers as L\n",
    "import keras.initializers as init\n",
    "import tensorflow as tf\n",
    "from keras.datasets import mnist"
   ]
  },
  {
   "cell_type": "code",
   "execution_count": 13,
   "metadata": {},
   "outputs": [
    {
     "name": "stdout",
     "output_type": "stream",
     "text": [
      "Model: \"sequential_3\"\n",
      "_________________________________________________________________\n",
      "Layer (type)                 Output Shape              Param #   \n",
      "=================================================================\n",
      "conv2d_5 (Conv2D)            (None, 26, 26, 8)         80        \n",
      "_________________________________________________________________\n",
      "conv2d_6 (Conv2D)            (None, 22, 22, 16)        3216      \n",
      "_________________________________________________________________\n",
      "batch_normalization_5 (Batch (None, 22, 22, 16)        64        \n",
      "_________________________________________________________________\n",
      "max_pooling2d_3 (MaxPooling2 (None, 11, 11, 16)        0         \n",
      "_________________________________________________________________\n",
      "dropout_3 (Dropout)          (None, 11, 11, 16)        0         \n",
      "_________________________________________________________________\n",
      "flatten_3 (Flatten)          (None, 1936)              0         \n",
      "_________________________________________________________________\n",
      "dense_6 (Dense)              (None, 100)               193700    \n",
      "_________________________________________________________________\n",
      "batch_normalization_6 (Batch (None, 100)               400       \n",
      "_________________________________________________________________\n",
      "dropout_4 (Dropout)          (None, 100)               0         \n",
      "_________________________________________________________________\n",
      "dense_7 (Dense)              (None, 10)                1010      \n",
      "=================================================================\n",
      "Total params: 198,470\n",
      "Trainable params: 198,238\n",
      "Non-trainable params: 232\n",
      "_________________________________________________________________\n"
     ]
    }
   ],
   "source": [
    "(X_train, y_train), (X_test, y_test) = mnist.load_data()\n",
    "\n",
    "X_train = X_train.reshape((X_train.shape[0], 28, 28, 1))\n",
    "X_test = X_test.reshape((X_test.shape[0], 28, 28, 1))\n",
    "\n",
    "X_trainX = X_train / 255.0\n",
    "X_testX = X_test / 255.0\n",
    "\n",
    "model = tf.keras.models.Sequential()\n",
    "\n",
    "model.add(L.Conv2D(8, (3, 3), activation='relu', kernel_initializer=init.RandomNormal(stddev=0.1), input_shape=(28, 28, 1)))\n",
    "model.add(L.Conv2D(16, (5, 5), activation='relu', kernel_initializer=init.RandomNormal(stddev=0.1), input_shape=(28, 28, 1)))\n",
    "model.add(L.BatchNormalization())\n",
    "model.add(L.MaxPooling2D((2, 2)))\n",
    "model.add(L.Dropout(0.20))\n",
    "\n",
    "model.add(L.Flatten())\n",
    "model.add(L.Dense(100, activation='elu', kernel_initializer=init.RandomNormal(stddev=0.1)))\n",
    "model.add(L.BatchNormalization())\n",
    "model.add(L.Dropout(0.20))\n",
    "\n",
    "model.add(L.Dense(10, activation='softmax'))\n",
    "\n",
    "model.summary()"
   ]
  },
  {
   "cell_type": "code",
   "execution_count": 14,
   "metadata": {},
   "outputs": [
    {
     "name": "stdout",
     "output_type": "stream",
     "text": [
      "Epoch 1/20\n",
      "120/120 [==============================] - 17s 136ms/step - loss: 0.8936 - accuracy: 0.7270 - val_loss: 0.1442 - val_accuracy: 0.9555\n",
      "Epoch 2/20\n",
      "120/120 [==============================] - 16s 135ms/step - loss: 0.1462 - accuracy: 0.9570 - val_loss: 0.0644 - val_accuracy: 0.9798\n",
      "Epoch 3/20\n",
      "120/120 [==============================] - 16s 134ms/step - loss: 0.0911 - accuracy: 0.9732 - val_loss: 0.0499 - val_accuracy: 0.9844\n",
      "Epoch 4/20\n",
      "120/120 [==============================] - 16s 135ms/step - loss: 0.0678 - accuracy: 0.9802 - val_loss: 0.0438 - val_accuracy: 0.9859\n",
      "Epoch 5/20\n",
      "120/120 [==============================] - 16s 135ms/step - loss: 0.0537 - accuracy: 0.9841 - val_loss: 0.0372 - val_accuracy: 0.9886\n",
      "Epoch 6/20\n",
      "120/120 [==============================] - 16s 136ms/step - loss: 0.0481 - accuracy: 0.9861 - val_loss: 0.0417 - val_accuracy: 0.9871\n",
      "Epoch 7/20\n",
      "120/120 [==============================] - 16s 137ms/step - loss: 0.0403 - accuracy: 0.9869 - val_loss: 0.0336 - val_accuracy: 0.9884\n",
      "Epoch 8/20\n",
      "120/120 [==============================] - 16s 134ms/step - loss: 0.0339 - accuracy: 0.9895 - val_loss: 0.0322 - val_accuracy: 0.9888\n",
      "Epoch 9/20\n",
      "120/120 [==============================] - 17s 138ms/step - loss: 0.0319 - accuracy: 0.9901 - val_loss: 0.0308 - val_accuracy: 0.9904\n",
      "Epoch 10/20\n",
      "120/120 [==============================] - 16s 136ms/step - loss: 0.0267 - accuracy: 0.9915 - val_loss: 0.0321 - val_accuracy: 0.9891\n",
      "Epoch 11/20\n",
      "120/120 [==============================] - 16s 137ms/step - loss: 0.0257 - accuracy: 0.9919 - val_loss: 0.0276 - val_accuracy: 0.9900\n",
      "Epoch 12/20\n",
      "120/120 [==============================] - 17s 138ms/step - loss: 0.0233 - accuracy: 0.9927 - val_loss: 0.0312 - val_accuracy: 0.9898\n",
      "Epoch 13/20\n",
      "120/120 [==============================] - 19s 162ms/step - loss: 0.0208 - accuracy: 0.9933 - val_loss: 0.0285 - val_accuracy: 0.9906\n",
      "Epoch 14/20\n",
      "120/120 [==============================] - 19s 157ms/step - loss: 0.0202 - accuracy: 0.9934 - val_loss: 0.0267 - val_accuracy: 0.9912\n",
      "Epoch 15/20\n",
      "120/120 [==============================] - 17s 139ms/step - loss: 0.0176 - accuracy: 0.9946 - val_loss: 0.0328 - val_accuracy: 0.9897\n",
      "Epoch 16/20\n",
      "120/120 [==============================] - 16s 136ms/step - loss: 0.0165 - accuracy: 0.9948 - val_loss: 0.0315 - val_accuracy: 0.9900\n",
      "Epoch 17/20\n",
      "120/120 [==============================] - 16s 137ms/step - loss: 0.0143 - accuracy: 0.9960 - val_loss: 0.0280 - val_accuracy: 0.9910\n",
      "Epoch 18/20\n",
      "120/120 [==============================] - 17s 138ms/step - loss: 0.0133 - accuracy: 0.9960 - val_loss: 0.0267 - val_accuracy: 0.9914\n",
      "Epoch 19/20\n",
      "120/120 [==============================] - 17s 143ms/step - loss: 0.0136 - accuracy: 0.9957 - val_loss: 0.0281 - val_accuracy: 0.9914\n",
      "Epoch 20/20\n",
      "120/120 [==============================] - 18s 148ms/step - loss: 0.0135 - accuracy: 0.9955 - val_loss: 0.0270 - val_accuracy: 0.9911\n"
     ]
    }
   ],
   "source": [
    "loss_function = tf.keras.losses.SparseCategoricalCrossentropy(from_logits=True)\n",
    "\n",
    "model.compile(optimizer = keras.optimizers.Adam(), loss=loss_function, metrics=['accuracy'])\n",
    "training_history = model.fit(X_train, y_train, epochs=20, batch_size=500, validation_data=(X_test, y_test))"
   ]
  },
  {
   "cell_type": "code",
   "execution_count": 16,
   "metadata": {},
   "outputs": [
    {
     "name": "stdout",
     "output_type": "stream",
     "text": [
      "313/313 [==============================] - 1s 3ms/step - loss: 0.0270 - accuracy: 0.9911\n"
     ]
    },
    {
     "data": {
      "text/plain": [
       "[0.026964688673615456, 0.991100013256073]"
      ]
     },
     "execution_count": 16,
     "metadata": {},
     "output_type": "execute_result"
    }
   ],
   "source": [
    "model.evaluate(X_test, y_test)"
   ]
  },
  {
   "cell_type": "code",
   "execution_count": null,
   "metadata": {},
   "outputs": [],
   "source": [
    "# voila - 99% accuracy in (in fact 10) 20 epochs without hyperparameter tuning"
   ]
  },
  {
   "cell_type": "code",
   "execution_count": 5,
   "metadata": {},
   "outputs": [],
   "source": [
    "\n"
   ]
  },
  {
   "cell_type": "markdown",
   "metadata": {},
   "source": [
    "# Insights\n",
    "\n",
    "1. here as a good training I'm just adding all the layers that I know (conv, pooling, droupout, batchnormalization etc.)\n",
    "2. after dozens of trainings with different parameters of these layers I found out that using one conv layer gives around 98.5% of accuracy on the test data;\n",
    "3. adding one more conv layer + batch normalization between immediately improves this to 99% even without tuning of optimizer hyperparameters in 10 epochs. \n",
    "\n",
    "This was a very interesting experience, as due to small size of data I was able to play a lot with the layers, hyperparameters (e.g. number of filters, etc.) "
   ]
  },
  {
   "cell_type": "markdown",
   "metadata": {},
   "source": [
    "# Going bigger"
   ]
  },
  {
   "cell_type": "code",
   "execution_count": null,
   "metadata": {},
   "outputs": [],
   "source": []
  },
  {
   "cell_type": "markdown",
   "metadata": {},
   "source": [
    "* Use `tf.keras.datasets.cifar10.load_data()` to get the data\n",
    "* split to 70 - 30 train / val using `train_test_split`\n",
    "* normalize the input like $x_{\\text{norm}} = \\frac{x}{255} - 0.5$\n",
    "* We need to convert class labels to one-hot encoded vectors. Use `keras.utils.to_categorical`."
   ]
  },
  {
   "cell_type": "code",
   "execution_count": 15,
   "metadata": {},
   "outputs": [],
   "source": [
    "# normalize inputs\n",
    "# convert class labels to one-hot encoded, should have shape (?, NUM_CLASSES)\n",
    "y_train = ### YOUR CODE HERE\n",
    "y_test = ### YOUR CODE HERE\n",
    "\n",
    "x_val = ### YOUR CODE HERE\n",
    "x_val = ### YOUR CODE HERE\n",
    "\n",
    "y_test = ### YOUR CODE HERE\n",
    "y_test = ### YOUR CODE HERE"
   ]
  },
  {
   "cell_type": "code",
   "execution_count": null,
   "metadata": {},
   "outputs": [],
   "source": []
  },
  {
   "cell_type": "code",
   "execution_count": null,
   "metadata": {},
   "outputs": [],
   "source": [
    "# as this is repeating the next file I'll imput everything directly in the Assignment4_CNNs2.ipynb notebook"
   ]
  },
  {
   "cell_type": "code",
   "execution_count": 30,
   "metadata": {},
   "outputs": [],
   "source": []
  }
 ],
 "metadata": {
  "kernelspec": {
   "display_name": "Python 3",
   "language": "python",
   "name": "python3"
  },
  "language_info": {
   "codemirror_mode": {
    "name": "ipython",
    "version": 3
   },
   "file_extension": ".py",
   "mimetype": "text/x-python",
   "name": "python",
   "nbconvert_exporter": "python",
   "pygments_lexer": "ipython3",
   "version": "3.8.3"
  }
 },
 "nbformat": 4,
 "nbformat_minor": 4
}
