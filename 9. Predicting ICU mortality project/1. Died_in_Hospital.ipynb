{
 "cells": [
  {
   "cell_type": "markdown",
   "metadata": {},
   "source": [
    "## Build a classification model for Survival.csv dataset\n",
    "Find dataset describtion here\n",
    "https://physionet.org/content/challenge-2012/1.0.0/\n"
   ]
  },
  {
   "cell_type": "code",
   "execution_count": 1,
   "metadata": {},
   "outputs": [],
   "source": [
    "# Create a table to compere all classification models LR, LDA, QDA, DT, NB, SVM, Ansamble models\n",
    "# Save the model in pickle format.\n",
    "# Create predict.py file which will load the model and predict on the test.csv file\n",
    "# Your code should be able to run from the command line having test argument\n",
    "# And should save the predictions.npy which are the probabilities of the class being true.\n",
    "# Ex. python predict.py --test test.csv "
   ]
  },
  {
   "cell_type": "code",
   "execution_count": 2,
   "metadata": {},
   "outputs": [],
   "source": [
    "import pandas as pd\n",
    "import numpy as np\n",
    "survival = pd.read_csv(\"Survival_dataset.csv\")"
   ]
  },
  {
   "cell_type": "code",
   "execution_count": 3,
   "metadata": {},
   "outputs": [],
   "source": [
    "from sklearn.model_selection import train_test_split\n",
    "\n",
    "X = survival[survival.columns.difference([\"In-hospital_death\"])]\n",
    "y = survival['In-hospital_death']\n",
    "\n",
    "X_train, X_test, y_train, y_test = train_test_split(X, y, test_size=0.1, random_state=42)"
   ]
  },
  {
   "cell_type": "code",
   "execution_count": 4,
   "metadata": {},
   "outputs": [],
   "source": [
    "X_train.reset_index(drop=True, inplace=True)\n",
    "y_train.reset_index(drop=True, inplace=True)\n",
    "train = pd.concat([X_train, y_train], axis=1)"
   ]
  },
  {
   "cell_type": "code",
   "execution_count": 5,
   "metadata": {},
   "outputs": [],
   "source": [
    "X_test = X_test.drop(['Survival', 'Length_of_stay'], axis=1)\n",
    "X_test.reset_index(drop=True, inplace=True)\n",
    "X_test.to_csv('test.csv', index=False)\n",
    "y_test.reset_index(drop=True, inplace=True)"
   ]
  },
  {
   "cell_type": "code",
   "execution_count": 6,
   "metadata": {},
   "outputs": [],
   "source": [
    "# drop the columns with more than 60% NAs\n",
    "moreThan = []\n",
    "for feature in train:\n",
    "    if train[feature].isna().sum() / train.shape[0] > 0.6:\n",
    "        moreThan.append(feature)\n",
    "train.drop(moreThan, axis=1, inplace=True)"
   ]
  },
  {
   "cell_type": "code",
   "execution_count": 7,
   "metadata": {},
   "outputs": [],
   "source": [
    "# drop the rows with more than 40% NAs\n",
    "drop_index = []\n",
    "for i in range(len(train)):\n",
    "    if train.loc[i].isna().sum() / train.shape[1] > 0.4:\n",
    "        drop_index.append(i)\n",
    "train.drop(index=drop_index, axis=0, inplace=True)\n",
    "train.reset_index(drop=True, inplace=True)"
   ]
  },
  {
   "cell_type": "code",
   "execution_count": 8,
   "metadata": {},
   "outputs": [],
   "source": [
    "# drop meaningless or redundant features\n",
    "NISysABP = ['NISysABP_first', 'NISysABP_last', 'NISysABP_lowest', 'NISysABP_highest', 'NISysABP_median']\n",
    "NIDiasABP = ['NIDiasABP_first', 'NIDiasABP_last', 'NIDiasABP_lowest', 'NIDiasABP_highest', 'NIDiasABP_median']\n",
    "NIMAP = ['NIMAP_first', 'NIMAP_last', 'NIMAP_lowest', 'NIMAP_highest', 'NIMAP_median']\n",
    "\n",
    "train.drop(NIMAP, axis=1, inplace=True)\n",
    "train.drop(NISysABP, axis=1, inplace=True) \n",
    "train.drop(NIDiasABP, axis=1, inplace=True) \n",
    "\n",
    "train.drop(['recordid', 'MechVentStartTime'], axis=1, inplace=True)"
   ]
  },
  {
   "cell_type": "code",
   "execution_count": 9,
   "metadata": {},
   "outputs": [],
   "source": [
    "# BUN/Creatinine\n",
    "train['BUN/Creatinine_first'] = train.BUN_first / train.Creatinine_first\n",
    "train['BUN/Creatinine_last'] = train.BUN_last / train.Creatinine_last\n",
    "# train = train.drop(['BUN_first', 'BUN_last', 'Creatinine_first', 'Creatinine_last'], axis=1)"
   ]
  },
  {
   "cell_type": "code",
   "execution_count": 10,
   "metadata": {},
   "outputs": [],
   "source": [
    "# drop the observations representing people higher than 272 sm \n",
    "drop_height = []\n",
    "for i in range(len(train)):\n",
    "    if not np.isnan(train.loc[i]['Height']) and train.loc[i]['Height'] > 220:\n",
    "        drop_height.append(i)\n",
    "train.drop(index=drop_height, axis=0, inplace=True)\n",
    "train.reset_index(drop=True, inplace=True)"
   ]
  },
  {
   "cell_type": "code",
   "execution_count": 11,
   "metadata": {},
   "outputs": [],
   "source": [
    "# replace -1 values with NAN in 'SAPS-I' and 'SOFA' features\n",
    "train['SAPS-I'] = train['SAPS-I'].map(lambda v: np.nan if v == -1 else v)\n",
    "train['SOFA'] = train['SOFA'].map(lambda v: np.nan if v == -1 else v)"
   ]
  },
  {
   "cell_type": "code",
   "execution_count": 12,
   "metadata": {},
   "outputs": [],
   "source": [
    "train.Glucose_first = train.Glucose_first.map(lambda v: 4 if v >= 300 else (3 if v <= 15 else (2 if v <= 40 else 1)))\n",
    "train.Glucose_last = train.Glucose_last.map(lambda v: 4 if v >= 300 else (3 if v <= 15 else (2 if v <= 40 else 1)))\n",
    "# train = train.drop(['Glucose_lowest', 'Glucose_highest', 'Glucose_median'], axis=1)"
   ]
  },
  {
   "cell_type": "code",
   "execution_count": 13,
   "metadata": {},
   "outputs": [],
   "source": [
    "train.HR_first = train.HR_first.map(lambda v: 1 if 60 <= v <= 100 else(2 if v < 60 else 3))\n",
    "train.HR_last = train.HR_last.map(lambda v: 1 if 60 <= v <= 100 else(2 if v < 60 else 3))\n",
    "# train = train.drop(['HR_highest', 'HR_lowest', 'HR_median'], axis=1)"
   ]
  },
  {
   "cell_type": "code",
   "execution_count": 14,
   "metadata": {},
   "outputs": [],
   "source": [
    "train['PaO2/FiO2_first'] = train.PaO2_first / train.FiO2_first\n",
    "train['PaO2/FiO2_last'] = train.PaO2_last / train.FiO2_last\n",
    "train['PaCO2/FiO2_first'] = train.PaCO2_first / train.FiO2_first\n",
    "train['PaCO2/FiO2_last'] = train.PaCO2_last / train.FiO2_last\n",
    "# train = train.drop(['PaO2_first', 'PaO2_last', 'PaCO2_last', 'PaCO2_last', 'FiO2_first', 'FiO2_last'], axis=1)"
   ]
  },
  {
   "cell_type": "code",
   "execution_count": 15,
   "metadata": {},
   "outputs": [],
   "source": [
    "import pickle\n",
    "min_max_dict = dict()\n",
    "for feature in train.columns.difference(['In-hospital_death']):\n",
    "    df = train[feature][train[feature].notna()]\n",
    "    min_max_dict[feature] = df.min(), df.max()\n",
    "    train[feature] = train[feature].map(lambda v: (v-df.min())/(df.max()-df.min()))\n",
    "\n",
    "fileObj = open('min_max.obj', 'wb')\n",
    "pickle.dump(min_max_dict, fileObj)\n",
    "fileObj.close()"
   ]
  },
  {
   "cell_type": "code",
   "execution_count": 16,
   "metadata": {},
   "outputs": [],
   "source": [
    "from sklearn.impute import KNNImputer\n",
    "\n",
    "imputer = KNNImputer()\n",
    "imputer.fit(train) \n",
    "\n",
    "train = pd.DataFrame(data=imputer.transform(train), columns=train.columns)"
   ]
  },
  {
   "cell_type": "code",
   "execution_count": 17,
   "metadata": {},
   "outputs": [],
   "source": [
    "X_train = train[train.columns.difference(['In-hospital_death', 'Survival', 'Length_of_stay'])]\n",
    "X_train.sort_index(axis=1, inplace=True)\n",
    "X_train.reset_index(drop=True, inplace=True)\n",
    "X_train.to_csv('X_train.csv', index=False)\n",
    "\n",
    "y_train = train['In-hospital_death']\n",
    "y_train.reset_index(drop=True, inplace=True)"
   ]
  },
  {
   "cell_type": "code",
   "execution_count": 18,
   "metadata": {},
   "outputs": [
    {
     "data": {
      "text/plain": [
       "1.0    2936\n",
       "0.0    2936\n",
       "Name: In-hospital_death, dtype: int64"
      ]
     },
     "execution_count": 18,
     "metadata": {},
     "output_type": "execute_result"
    }
   ],
   "source": [
    "from sklearn.utils import resample\n",
    "\n",
    "df_majority = train[train['In-hospital_death'] == 0]\n",
    "df_minority = train[train['In-hospital_death'] == 1]\n",
    "\n",
    "df_minority_upsampled = resample(df_minority,\n",
    "                                 replace=True,     # sample with replacement\n",
    "                                 n_samples=len(df_majority),    # to match majority class\n",
    "                                 random_state=123) # reproducible results\n",
    "# Combine majority class with upsampled minority class\n",
    "train = pd.concat([df_majority, df_minority_upsampled])\n",
    "# Display new class counts\n",
    "train['In-hospital_death'].value_counts()"
   ]
  },
  {
   "cell_type": "code",
   "execution_count": 19,
   "metadata": {},
   "outputs": [],
   "source": [
    "X_train_upsampled = train[train.columns.difference(['In-hospital_death', 'Survival', 'Length_of_stay'])]\n",
    "X_train_upsampled.reset_index(drop=True, inplace=True)\n",
    "X_train_upsampled.sort_index(axis=1, inplace=True)\n",
    "\n",
    "y_train_upsampled = train['In-hospital_death']\n",
    "y_train_upsampled.reset_index(drop=True, inplace=True)"
   ]
  },
  {
   "cell_type": "code",
   "execution_count": 20,
   "metadata": {},
   "outputs": [],
   "source": [
    "test = pd.read_csv('test.csv')\n",
    "test_length = test.shape[0]"
   ]
  },
  {
   "cell_type": "code",
   "execution_count": 21,
   "metadata": {},
   "outputs": [],
   "source": [
    "test['BUN/Creatinine_first'] = test.BUN_first / test.Creatinine_first\n",
    "test['BUN/Creatinine_last'] = test.BUN_last / test.Creatinine_last\n",
    "\n",
    "test['SAPS-I'] = test['SAPS-I'].map(lambda v: np.nan if v == -1 else v)\n",
    "test['SOFA'] = test['SOFA'].map(lambda v: np.nan if v == -1 else v)\n",
    "\n",
    "test.Glucose_first = test.Glucose_first.map(lambda v: 4 if v >= 300 else (3 if v <= 15 else (2 if v <= 40 else 1)))\n",
    "test.Glucose_last = test.Glucose_last.map(lambda v: 4 if v >= 300 else (3 if v <= 15 else (2 if v <= 40 else 1)))\n",
    "\n",
    "test.HR_first = test.HR_first.map(lambda v: 1 if 60 <= v <= 100 else(2 if v < 60 else 3))\n",
    "test.HR_last = test.HR_last.map(lambda v: 1 if 60 <= v <= 100 else(2 if v < 60 else 3))\n",
    "\n",
    "test['PaO2/FiO2_first'] = test.PaO2_first / test.FiO2_first\n",
    "test['PaO2/FiO2_last'] = test.PaO2_last / test.FiO2_last\n",
    "test['PaCO2/FiO2_first'] = test.PaCO2_first / test.FiO2_first\n",
    "test['PaCO2/FiO2_last'] = test.PaCO2_last / test.FiO2_last\n",
    "\n",
    "useless = []\n",
    "for feature in test:\n",
    "    if feature not in X_train.columns:\n",
    "        useless.append(feature)\n",
    "test.drop(useless, axis=1, inplace=True)   \n",
    "test.sort_index(axis=1, inplace=True)"
   ]
  },
  {
   "cell_type": "code",
   "execution_count": 22,
   "metadata": {},
   "outputs": [],
   "source": [
    "fileObj = open('min_max.obj', 'rb')\n",
    "min_max_dict = pickle.load(fileObj)\n",
    "fileObj.close()\n",
    "\n",
    "for feature in test:\n",
    "    test[feature] = test[feature].map(lambda v: (v-min_max_dict[feature][0])/(min_max_dict[feature][1]-min_max_dict[feature][0]))"
   ]
  },
  {
   "cell_type": "code",
   "execution_count": 23,
   "metadata": {},
   "outputs": [],
   "source": [
    "temp = pd.concat([X_train, test])"
   ]
  },
  {
   "cell_type": "code",
   "execution_count": 24,
   "metadata": {},
   "outputs": [],
   "source": [
    "from sklearn.impute import KNNImputer\n",
    "\n",
    "imputer = KNNImputer()\n",
    "imputer.fit(temp) \n",
    "\n",
    "temp = pd.DataFrame(data=imputer.transform(temp), columns=temp.columns)"
   ]
  },
  {
   "cell_type": "code",
   "execution_count": 25,
   "metadata": {},
   "outputs": [],
   "source": [
    "X_test = temp.tail(test_length)\n",
    "X_test.reset_index(drop=True, inplace=True)"
   ]
  },
  {
   "cell_type": "markdown",
   "metadata": {},
   "source": [
    "### Start the training of the models from here. \n",
    "### Now we have X_train, y_train, X_train_upsampled, y_train_upsampled,  X_test,  and y_test"
   ]
  },
  {
   "cell_type": "code",
   "execution_count": 26,
   "metadata": {},
   "outputs": [
    {
     "name": "stderr",
     "output_type": "stream",
     "text": [
      "Matplotlib created a temporary config/cache directory at /tmp/matplotlib-gnnk9wit because the default path (/home/gevorg/.config/matplotlib) is not a writable directory; it is highly recommended to set the MPLCONFIGDIR environment variable to a writable directory, in particular to speed up the import of Matplotlib and to better support multiprocessing.\n"
     ]
    },
    {
     "name": "stdout",
     "output_type": "stream",
     "text": [
      "accuracy: 0.9\n",
      "mcc: 0.5328584003487588\n",
      "precision: 0.78125\n",
      "recall: 0.43103448275862066\n",
      "f1_score: 0.5555555555555556\n",
      "auc_precision_recall:  0.5776408805570155\n"
     ]
    },
    {
     "data": {
      "image/png": "[encoded data removed]",
      "text/plain": [
       "<Figure size 432x288 with 1 Axes>"
      ]
     },
     "metadata": {
      "needs_background": "light"
     },
     "output_type": "display_data"
    }
   ],
   "source": [
    "from sklearn.metrics import matthews_corrcoef, accuracy_score, average_precision_score, precision_recall_curve, auc, precision_score, recall_score, f1_score\n",
    "import matplotlib.pyplot as plt\n",
    "from xgboost import XGBClassifier\n",
    "\n",
    "# fit model no training data\n",
    "model = XGBClassifier(use_label_encoder=False)\n",
    "model.fit(X_train, y_train, eval_metric='logloss')\n",
    "\n",
    "# make predictions for test data\n",
    "y_pred = model.predict(X_test)\n",
    "predictions = [round(value) for value in y_pred]\n",
    "\n",
    "# evaluate predictions\n",
    "y_score = model.predict_proba(X_test)[:, 1]\n",
    "\n",
    "acc = accuracy_score(y_test, predictions)\n",
    "print(\"accuracy:\", acc)\n",
    "\n",
    "mcc = matthews_corrcoef(y_test, predictions)\n",
    "print('mcc:', mcc)\n",
    "\n",
    "precision1 = precision_score(y_test, predictions)\n",
    "print('precision:', precision1)\n",
    "\n",
    "recall1 = recall_score(y_test, predictions)\n",
    "print('recall:', recall1)\n",
    "\n",
    "f1 = f1_score(y_test, predictions)\n",
    "print('f1_score:', f1)\n",
    "\n",
    "precision, recall, threshold = precision_recall_curve(y_test, y_score)\n",
    "auc_precision_recall = auc(recall, precision)\n",
    "print('auc_precision_recall: ', auc_precision_recall)\n",
    "\n",
    "metrics = np.array([acc, mcc, precision1, recall1, f1, auc_precision_recall, False], dtype=object).reshape((1,7))\n",
    "df = pd.DataFrame(metrics, index=['XGBoost'], \n",
    "                  columns=['accuracy', 'mcc', 'precision', 'recall', 'f1', 'auc_precision_recall', 'Upsampled'])\n",
    "\n",
    "plt.plot(recall, precision)\n",
    "plt.show()"
   ]
  },
  {
   "cell_type": "code",
   "execution_count": 27,
   "metadata": {},
   "outputs": [],
   "source": [
    "# from sklearn.ensemble import GradientBoostingClassifier\n",
    "# from sklearn.model_selection import RandomizedSearchCV\n",
    "# from sklearn.model_selection import KFold\n",
    "\n",
    "# model = GradientBoostingClassifier()\n",
    "\n",
    "# kfold = KFold(n_splits=3, shuffle=True, random_state=0)\n",
    "\n",
    "# distributions = dict(loss = ['deviance', 'exponential'], \n",
    "#                      learning_rate = list(np.arange(0.02, 2, 0.02)), \n",
    "#                      n_estimators = list(range(100, 5000, 200)), \n",
    "#                      subsample = list(np.round(np.arange(0.2, 1.2, 0.2), 2)), \n",
    "#                      criterion = ['friedman_mse', 'mse', 'mae'],\n",
    "#                      max_features = ['auto', 'sqrt', 'log2', None], \n",
    "#                      max_depth = [2, 3, 4, 5])\n",
    "\n",
    "# rscv = RandomizedSearchCV(estimator=model, param_distributions=distributions, \n",
    "#                           cv=kfold, scoring='f1', n_jobs=-1, random_state=0)\n",
    "\n",
    "# best_score = 0\n",
    "# best_params = None\n",
    "# for _ in range(10):\n",
    "#     search = rscv.fit(X_train, y_train)\n",
    "#     if search.best_score_ > best_score:\n",
    "#         best_score = search.best_score_\n",
    "#         best_params = search.best_params_\n",
    "\n",
    "# print('best_score', best_score)\n",
    "# print('best_params', best_params)"
   ]
  },
  {
   "cell_type": "code",
   "execution_count": 28,
   "metadata": {},
   "outputs": [
    {
     "name": "stdout",
     "output_type": "stream",
     "text": [
      "accuracy: 0.83\n",
      "mcc: 0.3143778987699133\n",
      "precision: 0.41379310344827586\n",
      "recall: 0.41379310344827586\n",
      "f1_score: 0.41379310344827586\n",
      "auc_precision_recall:  0.3741060722624884\n"
     ]
    },
    {
     "data": {
      "image/png": "[encoded data removed]",
      "text/plain": [
       "<Figure size 432x288 with 1 Axes>"
      ]
     },
     "metadata": {
      "needs_background": "light"
     },
     "output_type": "display_data"
    }
   ],
   "source": [
    "from sklearn.ensemble import GradientBoostingClassifier\n",
    "\n",
    "model = GradientBoostingClassifier(n_estimators=4700, loss='deviance', learning_rate=0.28, \n",
    "                                    max_features='sqrt', subsample=0.6, max_depth=2, random_state=0)\n",
    "\n",
    "model.fit(X_train, y_train)\n",
    "\n",
    "y_pred = model.predict(X_test)\n",
    "\n",
    "# evaluate predictions\n",
    "y_score = model.predict_proba(X_test)[:, 1]\n",
    "\n",
    "acc = accuracy_score(y_test, y_pred)\n",
    "print(\"accuracy:\", acc)\n",
    "\n",
    "mcc = matthews_corrcoef(y_test, y_pred)\n",
    "print('mcc:', mcc)\n",
    "\n",
    "precision1 = precision_score(y_test, y_pred)\n",
    "print('precision:', precision1)\n",
    "\n",
    "recall1 = recall_score(y_test, y_pred)\n",
    "print('recall:', recall1)\n",
    "\n",
    "f1 = f1_score(y_test, y_pred)\n",
    "print('f1_score:', f1)\n",
    "\n",
    "precision, recall, threshold = precision_recall_curve(y_test, y_score)\n",
    "auc_precision_recall = auc(recall, precision)\n",
    "print('auc_precision_recall: ', auc_precision_recall)\n",
    "\n",
    "metrics = np.array([acc, mcc, precision1, recall1, f1, auc_precision_recall, False], dtype=object).reshape((1,7))\n",
    "df1 = pd.DataFrame(metrics, index=['Gradient_Boosting'], columns=df.columns)\n",
    "df = pd.concat([df, df1], axis=0)\n",
    "\n",
    "plt.plot(recall, precision)\n",
    "plt.show()"
   ]
  },
  {
   "cell_type": "code",
   "execution_count": 29,
   "metadata": {},
   "outputs": [],
   "source": [
    "# from sklearn.model_selection import RandomizedSearchCV\n",
    "# from sklearn.model_selection import KFold\n",
    "# from sklearn.ensemble import AdaBoostClassifier\n",
    "# from sklearn.ensemble import RandomForestClassifier\n",
    "\n",
    "# model = RandomForestClassifier(random_state=0)\n",
    "\n",
    "# model = AdaBoostClassifier(base_estimator=model, random_state=0)\n",
    "\n",
    "# kfold = KFold(n_splits=3, shuffle=True, random_state=0)\n",
    "\n",
    "# distributions = dict(n_estimators = list(range(50, 5000, 50)), \n",
    "#                      learning_rate = list(np.round(np.arange(0.02, 1, 0.02), 2)), \n",
    "#                      algorithm = ['SAMME.R', 'SAMME'])\n",
    "\n",
    "# rscv = RandomizedSearchCV(estimator=model, param_distributions=distributions, \n",
    "#                           cv=kfold, scoring='f1', n_jobs=-1, random_state=0)\n",
    "\n",
    "# best_score = 0\n",
    "# best_params = None\n",
    "# for _ in range(500):\n",
    "#     search = rscv.fit(X_train, y_train)\n",
    "#     if search.best_score_ > best_score:\n",
    "#         best_score = search.best_score_\n",
    "#         best_params = search.best_params_\n",
    "\n",
    "# print('best_score', best_score)\n",
    "# print('best_params', best_params)"
   ]
  },
  {
   "cell_type": "code",
   "execution_count": 30,
   "metadata": {},
   "outputs": [
    {
     "name": "stdout",
     "output_type": "stream",
     "text": [
      "accuracy: 0.8775\n",
      "mcc: 0.36718886798651496\n",
      "precision: 0.8\n",
      "recall: 0.20689655172413793\n",
      "f1_score: 0.3287671232876712\n",
      "auc_precision_recall:  0.5896954567226846\n"
     ]
    },
    {
     "data": {
      "image/png": "[encoded data removed]",
      "text/plain": [
       "<Figure size 432x288 with 1 Axes>"
      ]
     },
     "metadata": {
      "needs_background": "light"
     },
     "output_type": "display_data"
    }
   ],
   "source": [
    "from sklearn.ensemble import AdaBoostClassifier\n",
    "from sklearn.ensemble import RandomForestClassifier\n",
    "\n",
    "model = RandomForestClassifier(random_state=0)\n",
    "\n",
    "model = AdaBoostClassifier(base_estimator=model, n_estimators=3000, learning_rate=0.56, random_state=0)\n",
    "\n",
    "model.fit(X_train, y_train)\n",
    "\n",
    "y_pred = model.predict(X_test)\n",
    "\n",
    "# evaluate predictions\n",
    "y_score = model.predict_proba(X_test)[:, 1]\n",
    "\n",
    "acc = accuracy_score(y_test, y_pred)\n",
    "print(\"accuracy:\", acc)\n",
    "\n",
    "mcc = matthews_corrcoef(y_test, y_pred)\n",
    "print('mcc:', mcc)\n",
    "\n",
    "precision1 = precision_score(y_test, y_pred)\n",
    "print('precision:', precision1)\n",
    "\n",
    "recall1 = recall_score(y_test, y_pred)\n",
    "print('recall:', recall1)\n",
    "\n",
    "f1 = f1_score(y_test, y_pred)\n",
    "print('f1_score:', f1)\n",
    "\n",
    "precision, recall, threshold = precision_recall_curve(y_test, y_score)\n",
    "auc_precision_recall = auc(recall, precision)\n",
    "print('auc_precision_recall: ', auc_precision_recall)\n",
    "\n",
    "metrics = np.array([acc, mcc, precision1, recall1, f1, auc_precision_recall, False], dtype=object).reshape((1,7))\n",
    "df1 = pd.DataFrame(metrics, index=['AdaBoost_RF'], columns=df.columns)\n",
    "df = pd.concat([df, df1], axis=0)\n",
    "\n",
    "plt.plot(recall, precision)\n",
    "plt.show()"
   ]
  },
  {
   "cell_type": "code",
   "execution_count": 31,
   "metadata": {},
   "outputs": [],
   "source": [
    "# from sklearn.model_selection import RandomizedSearchCV\n",
    "# from sklearn.model_selection import KFold\n",
    "# from sklearn.svm import SVC\n",
    "\n",
    "# model = SVC(random_state=0, probability=True)\n",
    "\n",
    "# kfold = KFold(n_splits=3, shuffle=True, random_state=0)\n",
    "\n",
    "# distributions = dict(C=list(np.round(np.arange(0.1, 1, 0.1), 2)) + list(range(1, 10, 1)) + list(range(10, 110, 10)),\n",
    "#                      kernel = ['rbf', 'poly', 'sigmoid'],\n",
    "#                      degree = list(range(1, 11, 1)),\n",
    "#                      gamma = ['scale', 'auto'],\n",
    "#                      coef0 = list(np.round(np.arange(0, 1.1, 0.1), 2)), \n",
    "#                      decision_function_shape = ['ovo', 'ovr'])\n",
    "\n",
    "# rscv = RandomizedSearchCV(estimator=model, param_distributions=distributions, \n",
    "#                           cv=kfold, scoring='f1', n_jobs=-1, random_state=0)\n",
    "\n",
    "# best_score = 0\n",
    "# best_params = None\n",
    "# for _ in range(100):\n",
    "#     search = rscv.fit(X_train, y_train)\n",
    "#     if search.best_score_ > best_score:\n",
    "#         best_score = search.best_score_\n",
    "#         best_params = search.best_params_\n",
    "\n",
    "# print('best_score', best_score)\n",
    "# print('best_params', best_params)"
   ]
  },
  {
   "cell_type": "code",
   "execution_count": 32,
   "metadata": {},
   "outputs": [
    {
     "name": "stdout",
     "output_type": "stream",
     "text": [
      "accuracy: 0.8525\n",
      "mcc: 0.34773080487926517\n",
      "precision: 0.4888888888888889\n",
      "recall: 0.3793103448275862\n",
      "f1_score: 0.4271844660194175\n",
      "auc_precision_recall:  0.4569500598793847\n"
     ]
    },
    {
     "data": {
      "image/png": "[encoded data removed]",
      "text/plain": [
       "<Figure size 432x288 with 1 Axes>"
      ]
     },
     "metadata": {
      "needs_background": "light"
     },
     "output_type": "display_data"
    }
   ],
   "source": [
    "from sklearn.svm import SVC\n",
    "\n",
    "model = SVC(random_state=0, probability=True, kernel='poly', gamma='scale', degree=8,\n",
    "            decision_function_shape='ovo', coef0=0.0, C=60)\n",
    "\n",
    "model.fit(X_train, y_train)\n",
    "y_pred = model.predict(X_test)\n",
    "\n",
    "# evaluate predictions\n",
    "y_score = model.predict_proba(X_test)[:, 1]\n",
    "\n",
    "acc = accuracy_score(y_test, y_pred)\n",
    "print(\"accuracy:\", acc)\n",
    "\n",
    "mcc = matthews_corrcoef(y_test, y_pred)\n",
    "print('mcc:', mcc)\n",
    "\n",
    "precision1 = precision_score(y_test, y_pred)\n",
    "print('precision:', precision1)\n",
    "\n",
    "recall1 = recall_score(y_test, y_pred)\n",
    "print('recall:', recall1)\n",
    "\n",
    "f1 = f1_score(y_test, y_pred)\n",
    "print('f1_score:', f1)\n",
    "\n",
    "precision, recall, threshold = precision_recall_curve(y_test, y_score)\n",
    "auc_precision_recall = auc(recall, precision)\n",
    "print('auc_precision_recall: ', auc_precision_recall)\n",
    "\n",
    "metrics = np.array([acc, mcc, precision1, recall1, f1, auc_precision_recall, False], dtype=object).reshape((1,7))\n",
    "df1 = pd.DataFrame(metrics, index=['SVC'], columns=df.columns)\n",
    "df = pd.concat([df, df1], axis=0)\n",
    "\n",
    "plt.plot(recall, precision)\n",
    "plt.show()"
   ]
  },
  {
   "cell_type": "code",
   "execution_count": 33,
   "metadata": {},
   "outputs": [
    {
     "name": "stdout",
     "output_type": "stream",
     "text": [
      "accuracy: 0.89\n",
      "mcc: 0.46124403179646195\n",
      "precision: 0.8181818181818182\n",
      "recall: 0.3103448275862069\n",
      "f1_score: 0.45000000000000007\n",
      "auc_precision_recall:  0.5976485044751556\n"
     ]
    },
    {
     "data": {
      "image/png": "[encoded data removed]",
      "text/plain": [
       "<Figure size 432x288 with 1 Axes>"
      ]
     },
     "metadata": {
      "needs_background": "light"
     },
     "output_type": "display_data"
    }
   ],
   "source": [
    "from sklearn.ensemble import RandomForestClassifier\n",
    "from sklearn.ensemble import StackingClassifier\n",
    "from sklearn.svm import SVC\n",
    "\n",
    "rf = RandomForestClassifier(random_state=0)\n",
    "svc = SVC(random_state=0, probability=True)\n",
    "\n",
    "estimators = [('rf', rf), ('svc', svc)]\n",
    "\n",
    "model = StackingClassifier(estimators=estimators, final_estimator = svc, passthrough=True)\n",
    "\n",
    "model.fit(X_train, y_train)\n",
    "\n",
    "y_pred = model.predict(X_test)\n",
    "y_score = model.predict_proba(X_test)[:, 1]\n",
    "\n",
    "acc = accuracy_score(y_test, y_pred)\n",
    "print(\"accuracy:\", acc)\n",
    "\n",
    "mcc = matthews_corrcoef(y_test, y_pred)\n",
    "print('mcc:', mcc)\n",
    "\n",
    "precision1 = precision_score(y_test, y_pred)\n",
    "print('precision:', precision1)\n",
    "\n",
    "recall1 = recall_score(y_test, y_pred)\n",
    "print('recall:', recall1)\n",
    "\n",
    "f1 = f1_score(y_test, y_pred)\n",
    "print('f1_score:', f1)\n",
    "\n",
    "precision, recall, threshold = precision_recall_curve(y_test, y_score)\n",
    "auc_precision_recall = auc(recall, precision)\n",
    "print('auc_precision_recall: ', auc_precision_recall)\n",
    "\n",
    "metrics = np.array([acc, mcc, precision1, recall1, f1, auc_precision_recall, False], dtype=object).reshape((1,7))\n",
    "df1 = pd.DataFrame(metrics, index=['Stacking_RandomForest_SVC'], columns=df.columns)\n",
    "df = pd.concat([df, df1], axis=0)\n",
    "\n",
    "plt.plot(recall, precision)\n",
    "plt.show()"
   ]
  },
  {
   "cell_type": "code",
   "execution_count": 34,
   "metadata": {},
   "outputs": [],
   "source": [
    "# from sklearn.model_selection import RandomizedSearchCV\n",
    "# from sklearn.model_selection import KFold\n",
    "# from sklearn.tree import DecisionTreeClassifier\n",
    "\n",
    "# model = DecisionTreeClassifier(random_state=0, class_weight='balanced')\n",
    "\n",
    "# kfold = KFold(n_splits=3, shuffle=True, random_state=0)\n",
    "\n",
    "# distributions = dict(criterion = ['gini', 'entropy'], min_samples_split = list(range(2, 100, 2)),\n",
    "#                      max_features = ['sqrt', 'log2'], max_leaf_nodes = list(range(10, 55, 5)) + [None])\n",
    "\n",
    "# rscv = RandomizedSearchCV(estimator=model, param_distributions=distributions, \n",
    "#                           cv=kfold, scoring='f1', n_jobs=-1, random_state=0)\n",
    "\n",
    "# best_score = 0\n",
    "# best_params = None\n",
    "# for _ in range(100):\n",
    "#     search = rscv.fit(X_train, y_train)\n",
    "#     if search.best_score_ > best_score:\n",
    "#         best_score = search.best_score_\n",
    "#         best_params = search.best_params_\n",
    "\n",
    "# print('best_score', best_score)\n",
    "# print('best_params', best_params)"
   ]
  },
  {
   "cell_type": "code",
   "execution_count": 35,
   "metadata": {},
   "outputs": [
    {
     "name": "stdout",
     "output_type": "stream",
     "text": [
      "accuracy: 0.71\n",
      "mcc: 0.2985764477292745\n",
      "precision: 0.2898550724637681\n",
      "recall: 0.6896551724137931\n",
      "f1_score: 0.40816326530612246\n",
      "auc_precision_recall:  0.31621346842957676\n"
     ]
    },
    {
     "data": {
      "image/png": "[encoded data removed]",
      "text/plain": [
       "<Figure size 432x288 with 1 Axes>"
      ]
     },
     "metadata": {
      "needs_background": "light"
     },
     "output_type": "display_data"
    }
   ],
   "source": [
    "from sklearn.tree import DecisionTreeClassifier\n",
    "\n",
    "model = DecisionTreeClassifier(random_state=0, \n",
    "                               class_weight=\"balanced\", \n",
    "                               min_samples_split=6,\n",
    "                               max_leaf_nodes=45,\n",
    "                               max_features='log2',\n",
    "                               criterion='gini')\n",
    "model.fit(X_train, y_train)\n",
    "y_pred = model.predict(X_test)\n",
    "\n",
    "# evaluate predictions\n",
    "y_score = model.predict_proba(X_test)[:, 1]\n",
    "\n",
    "acc = accuracy_score(y_test, y_pred)\n",
    "print(\"accuracy:\", acc)\n",
    "\n",
    "mcc = matthews_corrcoef(y_test, y_pred)\n",
    "print('mcc:', mcc)\n",
    "\n",
    "precision1 = precision_score(y_test, y_pred)\n",
    "print('precision:', precision1)\n",
    "\n",
    "recall1 = recall_score(y_test, y_pred)\n",
    "print('recall:', recall1)\n",
    "\n",
    "f1 = f1_score(y_test, y_pred)\n",
    "print('f1_score:', f1)\n",
    "\n",
    "precision, recall, threshold = precision_recall_curve(y_test, y_score)\n",
    "auc_precision_recall = auc(recall, precision)\n",
    "print('auc_precision_recall: ', auc_precision_recall)\n",
    "\n",
    "metrics = np.array([acc, mcc, precision1, recall1, f1, auc_precision_recall, False], dtype=object).reshape((1,7))\n",
    "df1 = pd.DataFrame(metrics, index=['Decision_Tree_Classifier'], columns=df.columns)\n",
    "df = pd.concat([df, df1], axis=0)\n",
    "\n",
    "plt.plot(recall, precision)\n",
    "plt.show()"
   ]
  },
  {
   "cell_type": "code",
   "execution_count": 36,
   "metadata": {},
   "outputs": [
    {
     "name": "stdout",
     "output_type": "stream",
     "text": [
      "accuracy: 0.71\n",
      "mcc: 0.2985764477292745\n",
      "precision: 0.2898550724637681\n",
      "recall: 0.6896551724137931\n",
      "f1_score: 0.40816326530612246\n",
      "auc_precision_recall:  0.505226067744089\n"
     ]
    },
    {
     "data": {
      "image/png": "[encoded data removed]",
      "text/plain": [
       "<Figure size 432x288 with 1 Axes>"
      ]
     },
     "metadata": {
      "needs_background": "light"
     },
     "output_type": "display_data"
    }
   ],
   "source": [
    "from sklearn.discriminant_analysis import LinearDiscriminantAnalysis\n",
    "\n",
    "model = LinearDiscriminantAnalysis(tol=0.0001, store_covariance=True, solver='lsqr', shrinkage=0.8)\n",
    "\n",
    "#fit the model\n",
    "model.fit(X_train_upsampled, y_train_upsampled)\n",
    "\n",
    "y_score = model.predict_proba(X_test)[:, 1]\n",
    "\n",
    "acc = accuracy_score(y_test, y_pred)\n",
    "print(\"accuracy:\", acc)\n",
    "\n",
    "mcc = matthews_corrcoef(y_test, y_pred)\n",
    "print('mcc:', mcc)\n",
    "\n",
    "precision1 = precision_score(y_test, y_pred)\n",
    "print('precision:', precision1)\n",
    "\n",
    "recall1 = recall_score(y_test, y_pred)\n",
    "print('recall:', recall1)\n",
    "\n",
    "f1 = f1_score(y_test, y_pred)\n",
    "print('f1_score:', f1)\n",
    "\n",
    "precision, recall, threshold = precision_recall_curve(y_test, y_score)\n",
    "auc_precision_recall = auc(recall, precision)\n",
    "print('auc_precision_recall: ', auc_precision_recall)\n",
    "\n",
    "metrics = np.array([acc, mcc, precision1, recall1, f1, auc_precision_recall, True], dtype=object).reshape((1,7))\n",
    "df1 = pd.DataFrame(metrics, index=['LDA'], columns=df.columns)\n",
    "df = pd.concat([df, df1], axis=0)\n",
    "\n",
    "plt.plot(recall, precision)\n",
    "plt.show()"
   ]
  },
  {
   "cell_type": "code",
   "execution_count": 37,
   "metadata": {},
   "outputs": [
    {
     "name": "stderr",
     "output_type": "stream",
     "text": [
      "/home/gevorg/anaconda3/lib/python3.8/site-packages/sklearn/discriminant_analysis.py:715: UserWarning: Variables are collinear\n",
      "  warnings.warn(\"Variables are collinear\")\n"
     ]
    },
    {
     "name": "stdout",
     "output_type": "stream",
     "text": [
      "accuracy: 0.71\n",
      "mcc: 0.2985764477292745\n",
      "precision: 0.2898550724637681\n",
      "recall: 0.6896551724137931\n",
      "f1_score: 0.40816326530612246\n",
      "auc_precision_recall:  0.5098907366795719\n"
     ]
    },
    {
     "data": {
      "image/png": "[encoded data removed]",
      "text/plain": [
       "<Figure size 432x288 with 1 Axes>"
      ]
     },
     "metadata": {
      "needs_background": "light"
     },
     "output_type": "display_data"
    }
   ],
   "source": [
    "from sklearn.discriminant_analysis import QuadraticDiscriminantAnalysis\n",
    "\n",
    "model = QuadraticDiscriminantAnalysis(reg_param=0.2, store_covariance=False, tol=0.7)\n",
    "\n",
    "model.fit(X_train_upsampled, y_train_upsampled)\n",
    "\n",
    "y_score = model.predict_proba(X_test)[:, 1]\n",
    "\n",
    "acc = accuracy_score(y_test, y_pred)\n",
    "print(\"accuracy:\", acc)\n",
    "\n",
    "mcc = matthews_corrcoef(y_test, y_pred)\n",
    "print('mcc:', mcc)\n",
    "\n",
    "precision1 = precision_score(y_test, y_pred)\n",
    "print('precision:', precision1)\n",
    "\n",
    "recall1 = recall_score(y_test, y_pred)\n",
    "print('recall:', recall1)\n",
    "\n",
    "f1 = f1_score(y_test, y_pred)\n",
    "print('f1_score:', f1)\n",
    "\n",
    "precision, recall, threshold = precision_recall_curve(y_test, y_score)\n",
    "auc_precision_recall = auc(recall, precision)\n",
    "print('auc_precision_recall: ', auc_precision_recall)\n",
    "\n",
    "metrics = np.array([acc, mcc, precision1, recall1, f1, auc_precision_recall, True], dtype=object).reshape((1,7))\n",
    "df1 = pd.DataFrame(metrics, index=['QDA'], columns=df.columns)\n",
    "df = pd.concat([df, df1], axis=0)\n",
    "\n",
    "plt.plot(recall, precision)\n",
    "plt.show()"
   ]
  },
  {
   "cell_type": "code",
   "execution_count": 38,
   "metadata": {},
   "outputs": [
    {
     "name": "stdout",
     "output_type": "stream",
     "text": [
      "accuracy: 0.71\n",
      "mcc: 0.2985764477292745\n",
      "precision: 0.2898550724637681\n",
      "recall: 0.6896551724137931\n",
      "f1_score: 0.40816326530612246\n",
      "auc_precision_recall:  0.44684284331890656\n"
     ]
    },
    {
     "data": {
      "image/png": "[encoded data removed]",
      "text/plain": [
       "<Figure size 432x288 with 1 Axes>"
      ]
     },
     "metadata": {
      "needs_background": "light"
     },
     "output_type": "display_data"
    }
   ],
   "source": [
    "from sklearn.neighbors import KNeighborsClassifier\n",
    "\n",
    "model = KNeighborsClassifier(n_neighbors=3, algorithm='auto', weights ='uniform')\n",
    "\n",
    "model.fit(X_train_upsampled, y_train_upsampled)\n",
    "\n",
    "y_score = model.predict_proba(X_test)[:, 1]\n",
    "\n",
    "acc = accuracy_score(y_test, y_pred)\n",
    "print(\"accuracy:\", acc)\n",
    "\n",
    "mcc = matthews_corrcoef(y_test, y_pred)\n",
    "print('mcc:', mcc)\n",
    "\n",
    "precision1 = precision_score(y_test, y_pred)\n",
    "print('precision:', precision1)\n",
    "\n",
    "recall1 = recall_score(y_test, y_pred)\n",
    "print('recall:', recall1)\n",
    "\n",
    "f1 = f1_score(y_test, y_pred)\n",
    "print('f1_score:', f1)\n",
    "\n",
    "precision, recall, threshold = precision_recall_curve(y_test, y_score)\n",
    "auc_precision_recall = auc(recall, precision)\n",
    "print('auc_precision_recall: ', auc_precision_recall)\n",
    "\n",
    "metrics = np.array([acc, mcc, precision1, recall1, f1, auc_precision_recall, True], dtype=object).reshape((1,7))\n",
    "df1 = pd.DataFrame(metrics, index=['KNeighbors'], columns=df.columns)\n",
    "df = pd.concat([df, df1], axis=0)\n",
    "\n",
    "plt.plot(recall, precision)\n",
    "plt.show()"
   ]
  },
  {
   "cell_type": "code",
   "execution_count": 39,
   "metadata": {},
   "outputs": [
    {
     "name": "stdout",
     "output_type": "stream",
     "text": [
      "accuracy: 0.71\n",
      "mcc: 0.2985764477292745\n",
      "precision: 0.2898550724637681\n",
      "recall: 0.6896551724137931\n",
      "f1_score: 0.40816326530612246\n",
      "auc_precision_recall:  0.5752723633849047\n"
     ]
    },
    {
     "data": {
      "image/png": "[encoded data removed]",
      "text/plain": [
       "<Figure size 432x288 with 1 Axes>"
      ]
     },
     "metadata": {
      "needs_background": "light"
     },
     "output_type": "display_data"
    }
   ],
   "source": [
    "from sklearn.linear_model import LogisticRegression\n",
    "\n",
    "model = LogisticRegression(C=12, max_iter= 1500, penalty= 'l2', tol= 0.0001)\n",
    "\n",
    "model.fit(X_train_upsampled, y_train_upsampled)\n",
    "\n",
    "y_score = model.predict_proba(X_test)[:, 1]\n",
    "\n",
    "acc = accuracy_score(y_test, y_pred)\n",
    "print(\"accuracy:\", acc)\n",
    "\n",
    "mcc = matthews_corrcoef(y_test, y_pred)\n",
    "print('mcc:', mcc)\n",
    "\n",
    "precision1 = precision_score(y_test, y_pred)\n",
    "print('precision:', precision1)\n",
    "\n",
    "recall1 = recall_score(y_test, y_pred)\n",
    "print('recall:', recall1)\n",
    "\n",
    "f1 = f1_score(y_test, y_pred)\n",
    "print('f1_score:', f1)\n",
    "\n",
    "precision, recall, threshold = precision_recall_curve(y_test, y_score)\n",
    "auc_precision_recall = auc(recall, precision)\n",
    "print('auc_precision_recall: ', auc_precision_recall)\n",
    "\n",
    "metrics = np.array([acc, mcc, precision1, recall1, f1, auc_precision_recall, True], dtype=object).reshape((1,7))\n",
    "df1 = pd.DataFrame(metrics, index=['Logistic Regression'], columns=df.columns)\n",
    "df = pd.concat([df, df1], axis=0)\n",
    "\n",
    "plt.plot(recall, precision)\n",
    "plt.show()"
   ]
  },
  {
   "cell_type": "code",
   "execution_count": 40,
   "metadata": {},
   "outputs": [
    {
     "name": "stdout",
     "output_type": "stream",
     "text": [
      "accuracy: 0.71\n",
      "mcc: 0.2985764477292745\n",
      "precision: 0.2898550724637681\n",
      "recall: 0.6896551724137931\n",
      "f1_score: 0.40816326530612246\n",
      "auc_precision_recall:  0.4585227361122432\n"
     ]
    },
    {
     "data": {
      "image/png": "[encoded data removed]",
      "text/plain": [
       "<Figure size 432x288 with 1 Axes>"
      ]
     },
     "metadata": {
      "needs_background": "light"
     },
     "output_type": "display_data"
    }
   ],
   "source": [
    "from sklearn.naive_bayes import MultinomialNB\n",
    "\n",
    "model = MultinomialNB(alpha=1)\n",
    "\n",
    "model.fit(X_train_upsampled, y_train_upsampled)\n",
    "\n",
    "y_score = model.predict_proba(X_test)[:, 1]\n",
    "\n",
    "acc = accuracy_score(y_test, y_pred)\n",
    "print(\"accuracy:\", acc)\n",
    "\n",
    "mcc = matthews_corrcoef(y_test, y_pred)\n",
    "print('mcc:', mcc)\n",
    "\n",
    "precision1 = precision_score(y_test, y_pred)\n",
    "print('precision:', precision1)\n",
    "\n",
    "recall1 = recall_score(y_test, y_pred)\n",
    "print('recall:', recall1)\n",
    "\n",
    "f1 = f1_score(y_test, y_pred)\n",
    "print('f1_score:', f1)\n",
    "\n",
    "precision, recall, threshold = precision_recall_curve(y_test, y_score)\n",
    "auc_precision_recall = auc(recall, precision)\n",
    "print('auc_precision_recall: ', auc_precision_recall)\n",
    "\n",
    "metrics = np.array([acc, mcc, precision1, recall1, f1, auc_precision_recall, True], dtype=object).reshape((1,7))\n",
    "df1 = pd.DataFrame(metrics, index=['Multinomial NB'], columns=df.columns)\n",
    "df = pd.concat([df, df1], axis=0)\n",
    "\n",
    "plt.plot(recall, precision)\n",
    "plt.show()"
   ]
  },
  {
   "cell_type": "code",
   "execution_count": 41,
   "metadata": {},
   "outputs": [
    {
     "name": "stdout",
     "output_type": "stream",
     "text": [
      "accuracy: 0.8825\n",
      "mcc: 0.4504137619164424\n",
      "precision: 0.6571428571428571\n",
      "recall: 0.39655172413793105\n",
      "f1_score: 0.4946236559139785\n",
      "auc_precision_recall:  0.5660496972078812\n"
     ]
    },
    {
     "data": {
      "image/png": "[encoded data removed]",
      "text/plain": [
       "<Figure size 432x288 with 1 Axes>"
      ]
     },
     "metadata": {
      "needs_background": "light"
     },
     "output_type": "display_data"
    }
   ],
   "source": [
    "from sklearn.ensemble import AdaBoostClassifier\n",
    "\n",
    "model = LogisticRegression(C=12, max_iter= 1500, penalty= 'l2', tol= 0.0001)\n",
    "\n",
    "model = AdaBoostClassifier(base_estimator=model, n_estimators=3000, learning_rate=0.56, random_state=0)\n",
    "\n",
    "model.fit(X_train, y_train)\n",
    "\n",
    "y_pred = model.predict(X_test)\n",
    "\n",
    "# evaluate predictions\n",
    "y_score = model.predict_proba(X_test)[:, 1]\n",
    "\n",
    "acc = accuracy_score(y_test, y_pred)\n",
    "print(\"accuracy:\", acc)\n",
    "\n",
    "mcc = matthews_corrcoef(y_test, y_pred)\n",
    "print('mcc:', mcc)\n",
    "\n",
    "precision1 = precision_score(y_test, y_pred)\n",
    "print('precision:', precision1)\n",
    "\n",
    "recall1 = recall_score(y_test, y_pred)\n",
    "print('recall:', recall1)\n",
    "\n",
    "f1 = f1_score(y_test, y_pred)\n",
    "print('f1_score:', f1)\n",
    "\n",
    "precision, recall, threshold = precision_recall_curve(y_test, y_score)\n",
    "auc_precision_recall = auc(recall, precision)\n",
    "print('auc_precision_recall: ', auc_precision_recall)\n",
    "\n",
    "metrics = np.array([acc, mcc, precision1, recall1, f1, auc_precision_recall, False], dtype=object).reshape((1,7))\n",
    "df1 = pd.DataFrame(metrics, index=['AdaBoost_Logistic_Regression'], columns=df.columns)\n",
    "df = pd.concat([df, df1], axis=0)\n",
    "\n",
    "plt.plot(recall, precision)\n",
    "plt.show()"
   ]
  },
  {
   "cell_type": "code",
   "execution_count": 42,
   "metadata": {},
   "outputs": [],
   "source": [
    "# from catboost import CatBoostClassifier\n",
    "\n",
    "# grid = dict(iterations = list(range(5000, 30500, 500)),\n",
    "#             learning_rate = list(np.arange(0.1, 1.02, 0.02)),\n",
    "#             border_count = list(range(50, 100, 2)),\n",
    "#             rsm = list(np.round(np.arange(0.9, 1, 0.01), 2)),\n",
    "#             l2_leaf_reg = list(np.round(np.arange(3, 4, 0.1), 2)),\n",
    "#             one_hot_max_size = list(range(20, 55, 5)), \n",
    "#             depth = [2, 3, 4, 5, 6, 7])\n",
    "\n",
    "# model = CatBoostClassifier(loss_function='CrossEntropy', eval_metric='F1', logging_level='Silent', random_state=0)\n",
    "# result = model.randomized_search(param_distributions=grid, X=X_train, y=y_train, cv=5, train_size=0.9, n_iter=1000, plot=True)"
   ]
  },
  {
   "cell_type": "code",
   "execution_count": 43,
   "metadata": {},
   "outputs": [],
   "source": [
    "# result['params']"
   ]
  },
  {
   "cell_type": "code",
   "execution_count": 44,
   "metadata": {},
   "outputs": [
    {
     "name": "stdout",
     "output_type": "stream",
     "text": [
      "accuracy: 0.8975\n",
      "mcc: 0.5216950128793628\n",
      "precision: 0.7575757575757576\n",
      "recall: 0.43103448275862066\n",
      "f1_score: 0.5494505494505494\n",
      "auc_precision_recall:  0.6125596244777888\n"
     ]
    },
    {
     "data": {
      "image/png": "[encoded data removed]",
      "text/plain": [
       "<Figure size 432x288 with 1 Axes>"
      ]
     },
     "metadata": {
      "needs_background": "light"
     },
     "output_type": "display_data"
    }
   ],
   "source": [
    "from catboost import CatBoostClassifier\n",
    "\n",
    "model = CatBoostClassifier(iterations=10000, depth=3, learning_rate=0.44, loss_function='CrossEntropy',\n",
    "                           rsm = 0.9, border_count = 52, eval_metric =  'F1', l2_leaf_reg= 3.5, \n",
    "                           one_hot_max_size=30, random_seed = 502, logging_level='Silent')\n",
    "model.fit(X_train, y_train)\n",
    "\n",
    "y_pred = model.predict(X_test)\n",
    "\n",
    "# evaluate predictions\n",
    "y_score = model.predict_proba(X_test)[:, 1]\n",
    "\n",
    "acc = accuracy_score(y_test, y_pred)\n",
    "print(\"accuracy:\", acc)\n",
    "\n",
    "mcc = matthews_corrcoef(y_test, y_pred)\n",
    "print('mcc:', mcc)\n",
    "\n",
    "precision1 = precision_score(y_test, y_pred)\n",
    "print('precision:', precision1)\n",
    "\n",
    "recall1 = recall_score(y_test, y_pred)\n",
    "print('recall:', recall1)\n",
    "\n",
    "f1 = f1_score(y_test, y_pred)\n",
    "print('f1_score:', f1)\n",
    "\n",
    "precision, recall, threshold = precision_recall_curve(y_test, y_score)\n",
    "auc_precision_recall = auc(recall, precision)\n",
    "print('auc_precision_recall: ', auc_precision_recall)\n",
    "\n",
    "metrics = np.array([acc, mcc, precision1, recall1, f1, auc_precision_recall, False], dtype=object).reshape((1,7))\n",
    "df1 = pd.DataFrame(metrics, index=['CatBoostClassifier'], columns=df.columns)\n",
    "df = pd.concat([df, df1], axis=0)\n",
    "\n",
    "plt.plot(recall, precision)\n",
    "plt.show()"
   ]
  },
  {
   "cell_type": "code",
   "execution_count": 45,
   "metadata": {},
   "outputs": [
    {
     "name": "stdout",
     "output_type": "stream",
     "text": [
      "[19:26:11] WARNING: ../src/learner.cc:1061: Starting in XGBoost 1.3.0, the default evaluation metric used with the objective 'binary:logistic' was changed from 'error' to 'logloss'. Explicitly set eval_metric if you'd like to restore the old behavior.\n",
      "[19:26:13] WARNING: ../src/learner.cc:1061: Starting in XGBoost 1.3.0, the default evaluation metric used with the objective 'binary:logistic' was changed from 'error' to 'logloss'. Explicitly set eval_metric if you'd like to restore the old behavior.\n",
      "[19:26:15] WARNING: ../src/learner.cc:1061: Starting in XGBoost 1.3.0, the default evaluation metric used with the objective 'binary:logistic' was changed from 'error' to 'logloss'. Explicitly set eval_metric if you'd like to restore the old behavior.\n",
      "[19:26:16] WARNING: ../src/learner.cc:1061: Starting in XGBoost 1.3.0, the default evaluation metric used with the objective 'binary:logistic' was changed from 'error' to 'logloss'. Explicitly set eval_metric if you'd like to restore the old behavior.\n",
      "[19:26:18] WARNING: ../src/learner.cc:1061: Starting in XGBoost 1.3.0, the default evaluation metric used with the objective 'binary:logistic' was changed from 'error' to 'logloss'. Explicitly set eval_metric if you'd like to restore the old behavior.\n",
      "[19:26:19] WARNING: ../src/learner.cc:1061: Starting in XGBoost 1.3.0, the default evaluation metric used with the objective 'binary:logistic' was changed from 'error' to 'logloss'. Explicitly set eval_metric if you'd like to restore the old behavior.\n",
      "accuracy: 0.9025\n",
      "mcc: 0.5475023348125493\n",
      "precision: 0.7878787878787878\n",
      "recall: 0.4482758620689655\n",
      "f1_score: 0.5714285714285714\n",
      "auc_precision_recall:  0.5953165559831249\n"
     ]
    },
    {
     "data": {
      "image/png": "[encoded data removed]",
      "text/plain": [
       "<Figure size 432x288 with 1 Axes>"
      ]
     },
     "metadata": {
      "needs_background": "light"
     },
     "output_type": "display_data"
    }
   ],
   "source": [
    "from sklearn.ensemble import StackingClassifier\n",
    "\n",
    "lr = LogisticRegression(C=12, max_iter= 1500, penalty= 'l2', tol= 0.0001)\n",
    "xgb = XGBClassifier(use_label_encoder=False)\n",
    "\n",
    "estimators = [('xgb', xgb), ('lr', lr)]\n",
    "\n",
    "model = StackingClassifier(estimators=estimators, final_estimator = lr, passthrough=True)\n",
    "\n",
    "model.fit(X_train, y_train)\n",
    "\n",
    "y_pred = model.predict(X_test)\n",
    "y_score = model.predict_proba(X_test)[:, 1]\n",
    "\n",
    "acc = accuracy_score(y_test, y_pred)\n",
    "print(\"accuracy:\", acc)\n",
    "\n",
    "mcc = matthews_corrcoef(y_test, y_pred)\n",
    "print('mcc:', mcc)\n",
    "\n",
    "precision1 = precision_score(y_test, y_pred)\n",
    "print('precision:', precision1)\n",
    "\n",
    "recall1 = recall_score(y_test, y_pred)\n",
    "print('recall:', recall1)\n",
    "\n",
    "f1 = f1_score(y_test, y_pred)\n",
    "print('f1_score:', f1)\n",
    "\n",
    "precision, recall, threshold = precision_recall_curve(y_test, y_score)\n",
    "auc_precision_recall = auc(recall, precision)\n",
    "print('auc_precision_recall: ', auc_precision_recall)\n",
    "\n",
    "metrics = np.array([acc, mcc, precision1, recall1, f1, auc_precision_recall, False], dtype=object).reshape((1,7))\n",
    "df1 = pd.DataFrame(metrics, index=['Stacking_XGBoost_Logistic_Regression'], columns=df.columns)\n",
    "df = pd.concat([df, df1], axis=0)\n",
    "\n",
    "plt.plot(recall, precision)\n",
    "plt.show()"
   ]
  },
  {
   "cell_type": "code",
   "execution_count": 46,
   "metadata": {},
   "outputs": [
    {
     "name": "stdout",
     "output_type": "stream",
     "text": [
      "[19:26:24] WARNING: ../src/learner.cc:1061: Starting in XGBoost 1.3.0, the default evaluation metric used with the objective 'binary:logistic' was changed from 'error' to 'logloss'. Explicitly set eval_metric if you'd like to restore the old behavior.\n",
      "[19:27:00] WARNING: ../src/learner.cc:1061: Starting in XGBoost 1.3.0, the default evaluation metric used with the objective 'binary:logistic' was changed from 'error' to 'logloss'. Explicitly set eval_metric if you'd like to restore the old behavior.\n",
      "[19:27:02] WARNING: ../src/learner.cc:1061: Starting in XGBoost 1.3.0, the default evaluation metric used with the objective 'binary:logistic' was changed from 'error' to 'logloss'. Explicitly set eval_metric if you'd like to restore the old behavior.\n",
      "[19:27:03] WARNING: ../src/learner.cc:1061: Starting in XGBoost 1.3.0, the default evaluation metric used with the objective 'binary:logistic' was changed from 'error' to 'logloss'. Explicitly set eval_metric if you'd like to restore the old behavior.\n",
      "[19:27:05] WARNING: ../src/learner.cc:1061: Starting in XGBoost 1.3.0, the default evaluation metric used with the objective 'binary:logistic' was changed from 'error' to 'logloss'. Explicitly set eval_metric if you'd like to restore the old behavior.\n",
      "[19:27:06] WARNING: ../src/learner.cc:1061: Starting in XGBoost 1.3.0, the default evaluation metric used with the objective 'binary:logistic' was changed from 'error' to 'logloss'. Explicitly set eval_metric if you'd like to restore the old behavior.\n",
      "accuracy: 0.89\n",
      "mcc: 0.4757909333109789\n",
      "precision: 0.7333333333333333\n",
      "recall: 0.3793103448275862\n",
      "f1_score: 0.5\n",
      "auc_precision_recall:  0.5687062263849565\n"
     ]
    },
    {
     "data": {
      "image/png": "[encoded data removed]",
      "text/plain": [
       "<Figure size 432x288 with 1 Axes>"
      ]
     },
     "metadata": {
      "needs_background": "light"
     },
     "output_type": "display_data"
    }
   ],
   "source": [
    "from sklearn.ensemble import StackingClassifier\n",
    "\n",
    "lr = LogisticRegression(C=12, max_iter= 1500, penalty= 'l2', tol= 0.0001)\n",
    "xgb = XGBClassifier(use_label_encoder=False)\n",
    "cb = CatBoostClassifier(logging_level='Silent')\n",
    "gb = GradientBoostingClassifier(n_estimators=4700, loss='deviance', learning_rate=0.28, \n",
    "                                    max_features='sqrt', subsample=0.6, max_depth=2, random_state=0)\n",
    "\n",
    "estimators = [('xgb', xgb), ('lr', lr), ('cb', cb), ('gb', gb)]\n",
    "\n",
    "model = StackingClassifier(estimators=estimators, final_estimator = lr, passthrough=True)\n",
    "\n",
    "model.fit(X_train, y_train)\n",
    "\n",
    "y_pred = model.predict(X_test)\n",
    "y_score = model.predict_proba(X_test)[:, 1]\n",
    "\n",
    "acc = accuracy_score(y_test, y_pred)\n",
    "print(\"accuracy:\", acc)\n",
    "\n",
    "mcc = matthews_corrcoef(y_test, y_pred)\n",
    "print('mcc:', mcc)\n",
    "\n",
    "precision1 = precision_score(y_test, y_pred)\n",
    "print('precision:', precision1)\n",
    "\n",
    "recall1 = recall_score(y_test, y_pred)\n",
    "print('recall:', recall1)\n",
    "\n",
    "f1 = f1_score(y_test, y_pred)\n",
    "print('f1_score:', f1)\n",
    "\n",
    "precision, recall, threshold = precision_recall_curve(y_test, y_score)\n",
    "auc_precision_recall = auc(recall, precision)\n",
    "print('auc_precision_recall: ', auc_precision_recall)\n",
    "\n",
    "metrics = np.array([acc, mcc, precision1, recall1, f1, auc_precision_recall, False], dtype=object).reshape((1,7))\n",
    "df1 = pd.DataFrame(metrics, index=['Stacking_XGBoost_LogReg_Catboost_GradBoost'], columns=df.columns)\n",
    "df = pd.concat([df, df1], axis=0)\n",
    "\n",
    "plt.plot(recall, precision)\n",
    "plt.show()"
   ]
  },
  {
   "cell_type": "code",
   "execution_count": 47,
   "metadata": {},
   "outputs": [
    {
     "data": {
      "text/html": [
       "<div>\n",
       "<style scoped>\n",
       "    .dataframe tbody tr th:only-of-type {\n",
       "        vertical-align: middle;\n",
       "    }\n",
       "\n",
       "    .dataframe tbody tr th {\n",
       "        vertical-align: top;\n",
       "    }\n",
       "\n",
       "    .dataframe thead th {\n",
       "        text-align: right;\n",
       "    }\n",
       "</style>\n",
       "<table border=\"1\" class=\"dataframe\">\n",
       "  <thead>\n",
       "    <tr style=\"text-align: right;\">\n",
       "      <th></th>\n",
       "      <th>accuracy</th>\n",
       "      <th>mcc</th>\n",
       "      <th>precision</th>\n",
       "      <th>recall</th>\n",
       "      <th>f1</th>\n",
       "      <th>auc_precision_recall</th>\n",
       "      <th>Upsampled</th>\n",
       "    </tr>\n",
       "  </thead>\n",
       "  <tbody>\n",
       "    <tr>\n",
       "      <th>XGBoost</th>\n",
       "      <td>0.9</td>\n",
       "      <td>0.532858</td>\n",
       "      <td>0.78125</td>\n",
       "      <td>0.431034</td>\n",
       "      <td>0.555556</td>\n",
       "      <td>0.577641</td>\n",
       "      <td>False</td>\n",
       "    </tr>\n",
       "    <tr>\n",
       "      <th>Gradient_Boosting</th>\n",
       "      <td>0.83</td>\n",
       "      <td>0.314378</td>\n",
       "      <td>0.413793</td>\n",
       "      <td>0.413793</td>\n",
       "      <td>0.413793</td>\n",
       "      <td>0.374106</td>\n",
       "      <td>False</td>\n",
       "    </tr>\n",
       "    <tr>\n",
       "      <th>AdaBoost_RF</th>\n",
       "      <td>0.8775</td>\n",
       "      <td>0.367189</td>\n",
       "      <td>0.8</td>\n",
       "      <td>0.206897</td>\n",
       "      <td>0.328767</td>\n",
       "      <td>0.589695</td>\n",
       "      <td>False</td>\n",
       "    </tr>\n",
       "    <tr>\n",
       "      <th>SVC</th>\n",
       "      <td>0.8525</td>\n",
       "      <td>0.347731</td>\n",
       "      <td>0.488889</td>\n",
       "      <td>0.37931</td>\n",
       "      <td>0.427184</td>\n",
       "      <td>0.45695</td>\n",
       "      <td>False</td>\n",
       "    </tr>\n",
       "    <tr>\n",
       "      <th>Stacking_RandomForest_SVC</th>\n",
       "      <td>0.89</td>\n",
       "      <td>0.461244</td>\n",
       "      <td>0.818182</td>\n",
       "      <td>0.310345</td>\n",
       "      <td>0.45</td>\n",
       "      <td>0.597649</td>\n",
       "      <td>False</td>\n",
       "    </tr>\n",
       "    <tr>\n",
       "      <th>Decision_Tree_Classifier</th>\n",
       "      <td>0.71</td>\n",
       "      <td>0.298576</td>\n",
       "      <td>0.289855</td>\n",
       "      <td>0.689655</td>\n",
       "      <td>0.408163</td>\n",
       "      <td>0.316213</td>\n",
       "      <td>False</td>\n",
       "    </tr>\n",
       "    <tr>\n",
       "      <th>LDA</th>\n",
       "      <td>0.71</td>\n",
       "      <td>0.298576</td>\n",
       "      <td>0.289855</td>\n",
       "      <td>0.689655</td>\n",
       "      <td>0.408163</td>\n",
       "      <td>0.505226</td>\n",
       "      <td>True</td>\n",
       "    </tr>\n",
       "    <tr>\n",
       "      <th>QDA</th>\n",
       "      <td>0.71</td>\n",
       "      <td>0.298576</td>\n",
       "      <td>0.289855</td>\n",
       "      <td>0.689655</td>\n",
       "      <td>0.408163</td>\n",
       "      <td>0.509891</td>\n",
       "      <td>True</td>\n",
       "    </tr>\n",
       "    <tr>\n",
       "      <th>KNeighbors</th>\n",
       "      <td>0.71</td>\n",
       "      <td>0.298576</td>\n",
       "      <td>0.289855</td>\n",
       "      <td>0.689655</td>\n",
       "      <td>0.408163</td>\n",
       "      <td>0.446843</td>\n",
       "      <td>True</td>\n",
       "    </tr>\n",
       "    <tr>\n",
       "      <th>Logistic Regression</th>\n",
       "      <td>0.71</td>\n",
       "      <td>0.298576</td>\n",
       "      <td>0.289855</td>\n",
       "      <td>0.689655</td>\n",
       "      <td>0.408163</td>\n",
       "      <td>0.575272</td>\n",
       "      <td>True</td>\n",
       "    </tr>\n",
       "    <tr>\n",
       "      <th>Multinomial NB</th>\n",
       "      <td>0.71</td>\n",
       "      <td>0.298576</td>\n",
       "      <td>0.289855</td>\n",
       "      <td>0.689655</td>\n",
       "      <td>0.408163</td>\n",
       "      <td>0.458523</td>\n",
       "      <td>True</td>\n",
       "    </tr>\n",
       "    <tr>\n",
       "      <th>AdaBoost_Logistic_Regression</th>\n",
       "      <td>0.8825</td>\n",
       "      <td>0.450414</td>\n",
       "      <td>0.657143</td>\n",
       "      <td>0.396552</td>\n",
       "      <td>0.494624</td>\n",
       "      <td>0.56605</td>\n",
       "      <td>False</td>\n",
       "    </tr>\n",
       "    <tr>\n",
       "      <th>CatBoostClassifier</th>\n",
       "      <td>0.8975</td>\n",
       "      <td>0.521695</td>\n",
       "      <td>0.757576</td>\n",
       "      <td>0.431034</td>\n",
       "      <td>0.549451</td>\n",
       "      <td>0.61256</td>\n",
       "      <td>False</td>\n",
       "    </tr>\n",
       "    <tr>\n",
       "      <th>Stacking_XGBoost_Logistic_Regression</th>\n",
       "      <td>0.9025</td>\n",
       "      <td>0.547502</td>\n",
       "      <td>0.787879</td>\n",
       "      <td>0.448276</td>\n",
       "      <td>0.571429</td>\n",
       "      <td>0.595317</td>\n",
       "      <td>False</td>\n",
       "    </tr>\n",
       "    <tr>\n",
       "      <th>Stacking_XGBoost_LogReg_Catboost_GradBoost</th>\n",
       "      <td>0.89</td>\n",
       "      <td>0.475791</td>\n",
       "      <td>0.733333</td>\n",
       "      <td>0.37931</td>\n",
       "      <td>0.5</td>\n",
       "      <td>0.568706</td>\n",
       "      <td>False</td>\n",
       "    </tr>\n",
       "  </tbody>\n",
       "</table>\n",
       "</div>"
      ],
      "text/plain": [
       "                                           accuracy       mcc precision  \\\n",
       "XGBoost                                         0.9  0.532858   0.78125   \n",
       "Gradient_Boosting                              0.83  0.314378  0.413793   \n",
       "AdaBoost_RF                                  0.8775  0.367189       0.8   \n",
       "SVC                                          0.8525  0.347731  0.488889   \n",
       "Stacking_RandomForest_SVC                      0.89  0.461244  0.818182   \n",
       "Decision_Tree_Classifier                       0.71  0.298576  0.289855   \n",
       "LDA                                            0.71  0.298576  0.289855   \n",
       "QDA                                            0.71  0.298576  0.289855   \n",
       "KNeighbors                                     0.71  0.298576  0.289855   \n",
       "Logistic Regression                            0.71  0.298576  0.289855   \n",
       "Multinomial NB                                 0.71  0.298576  0.289855   \n",
       "AdaBoost_Logistic_Regression                 0.8825  0.450414  0.657143   \n",
       "CatBoostClassifier                           0.8975  0.521695  0.757576   \n",
       "Stacking_XGBoost_Logistic_Regression         0.9025  0.547502  0.787879   \n",
       "Stacking_XGBoost_LogReg_Catboost_GradBoost     0.89  0.475791  0.733333   \n",
       "\n",
       "                                              recall        f1  \\\n",
       "XGBoost                                     0.431034  0.555556   \n",
       "Gradient_Boosting                           0.413793  0.413793   \n",
       "AdaBoost_RF                                 0.206897  0.328767   \n",
       "SVC                                          0.37931  0.427184   \n",
       "Stacking_RandomForest_SVC                   0.310345      0.45   \n",
       "Decision_Tree_Classifier                    0.689655  0.408163   \n",
       "LDA                                         0.689655  0.408163   \n",
       "QDA                                         0.689655  0.408163   \n",
       "KNeighbors                                  0.689655  0.408163   \n",
       "Logistic Regression                         0.689655  0.408163   \n",
       "Multinomial NB                              0.689655  0.408163   \n",
       "AdaBoost_Logistic_Regression                0.396552  0.494624   \n",
       "CatBoostClassifier                          0.431034  0.549451   \n",
       "Stacking_XGBoost_Logistic_Regression        0.448276  0.571429   \n",
       "Stacking_XGBoost_LogReg_Catboost_GradBoost   0.37931       0.5   \n",
       "\n",
       "                                           auc_precision_recall Upsampled  \n",
       "XGBoost                                                0.577641     False  \n",
       "Gradient_Boosting                                      0.374106     False  \n",
       "AdaBoost_RF                                            0.589695     False  \n",
       "SVC                                                     0.45695     False  \n",
       "Stacking_RandomForest_SVC                              0.597649     False  \n",
       "Decision_Tree_Classifier                               0.316213     False  \n",
       "LDA                                                    0.505226      True  \n",
       "QDA                                                    0.509891      True  \n",
       "KNeighbors                                             0.446843      True  \n",
       "Logistic Regression                                    0.575272      True  \n",
       "Multinomial NB                                         0.458523      True  \n",
       "AdaBoost_Logistic_Regression                            0.56605     False  \n",
       "CatBoostClassifier                                      0.61256     False  \n",
       "Stacking_XGBoost_Logistic_Regression                   0.595317     False  \n",
       "Stacking_XGBoost_LogReg_Catboost_GradBoost             0.568706     False  "
      ]
     },
     "execution_count": 47,
     "metadata": {},
     "output_type": "execute_result"
    }
   ],
   "source": [
    "df"
   ]
  },
  {
   "cell_type": "code",
   "execution_count": 48,
   "metadata": {},
   "outputs": [],
   "source": [
    "import dataframe_image as dfi\n",
    "\n",
    "dfi.export(df, 'comparison.png')"
   ]
  },
  {
   "cell_type": "code",
   "execution_count": 49,
   "metadata": {},
   "outputs": [
    {
     "name": "stdout",
     "output_type": "stream",
     "text": [
      "[19:29:38] WARNING: ../src/learner.cc:1061: Starting in XGBoost 1.3.0, the default evaluation metric used with the objective 'binary:logistic' was changed from 'error' to 'logloss'. Explicitly set eval_metric if you'd like to restore the old behavior.\n",
      "[19:29:44] WARNING: ../src/learner.cc:1061: Starting in XGBoost 1.3.0, the default evaluation metric used with the objective 'binary:logistic' was changed from 'error' to 'logloss'. Explicitly set eval_metric if you'd like to restore the old behavior.\n",
      "[19:29:47] WARNING: ../src/learner.cc:1061: Starting in XGBoost 1.3.0, the default evaluation metric used with the objective 'binary:logistic' was changed from 'error' to 'logloss'. Explicitly set eval_metric if you'd like to restore the old behavior.\n",
      "[19:29:49] WARNING: ../src/learner.cc:1061: Starting in XGBoost 1.3.0, the default evaluation metric used with the objective 'binary:logistic' was changed from 'error' to 'logloss'. Explicitly set eval_metric if you'd like to restore the old behavior.\n",
      "[19:29:51] WARNING: ../src/learner.cc:1061: Starting in XGBoost 1.3.0, the default evaluation metric used with the objective 'binary:logistic' was changed from 'error' to 'logloss'. Explicitly set eval_metric if you'd like to restore the old behavior.\n",
      "[19:29:53] WARNING: ../src/learner.cc:1061: Starting in XGBoost 1.3.0, the default evaluation metric used with the objective 'binary:logistic' was changed from 'error' to 'logloss'. Explicitly set eval_metric if you'd like to restore the old behavior.\n"
     ]
    }
   ],
   "source": [
    "X = pd.concat([X_train, X_test])\n",
    "y = pd.concat([y_train, y_test])\n",
    "\n",
    "lr = LogisticRegression(C=12, max_iter= 1500, penalty= 'l2', tol= 0.0001)\n",
    "xgb = XGBClassifier(use_label_encoder=False)\n",
    "\n",
    "estimators = [('xgb', xgb), ('lr', lr)]\n",
    "\n",
    "model = StackingClassifier(estimators=estimators, final_estimator = lr, passthrough=True)\n",
    "\n",
    "model.fit(X, y)\n",
    "\n",
    "fileObj = open('model.obj', 'wb')\n",
    "pickle.dump(model, fileObj)\n",
    "fileObj.close()"
   ]
  }
 ],
 "metadata": {
  "kernelspec": {
   "display_name": "Python 3",
   "language": "python",
   "name": "python3"
  },
  "language_info": {
   "codemirror_mode": {
    "name": "ipython",
    "version": 3
   },
   "file_extension": ".py",
   "mimetype": "text/x-python",
   "name": "python",
   "nbconvert_exporter": "python",
   "pygments_lexer": "ipython3",
   "version": "3.8.5"
  }
 },
 "nbformat": 4,
 "nbformat_minor": 4
}
