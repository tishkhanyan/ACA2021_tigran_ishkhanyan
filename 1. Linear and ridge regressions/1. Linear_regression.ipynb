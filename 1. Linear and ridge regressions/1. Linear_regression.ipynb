{
 "cells": [
  {
   "cell_type": "code",
   "execution_count": 1,
   "metadata": {},
   "outputs": [],
   "source": [
    "import pandas as pd\n",
    "import numpy as np\n",
    "import matplotlib.pyplot as plt"
   ]
  },
  {
   "cell_type": "markdown",
   "metadata": {},
   "source": [
    "### Load the dataset from the file Ecommerce.csv"
   ]
  },
  {
   "cell_type": "markdown",
   "metadata": {},
   "source": [
    "```\n",
    "This dataset includes the following data for 200 online customers:\n",
    "\n",
    "- Email\n",
    "- Adress\n",
    "- Avatar\n",
    "- Avg Session Length (everage time they spent on usage)\n",
    "- Time on App (time they spent using the application)\n",
    "- Time on Website (time they spent using the website)\n",
    "- Length of Membership (for how long they have been a user)\n",
    "- Yearly Amount Spent (how much money they spend yearly)\n",
    "\n",
    "Yout goal will be to estimate the value of the Yearly Amount Spent using the feature(s) of the users\n",
    "```"
   ]
  },
  {
   "cell_type": "markdown",
   "metadata": {},
   "source": [
    "### Get rid of non-numerical columns of the dataset"
   ]
  },
  {
   "cell_type": "code",
   "execution_count": 2,
   "metadata": {},
   "outputs": [
    {
     "data": {
      "text/html": [
       "<div>\n",
       "<style scoped>\n",
       "    .dataframe tbody tr th:only-of-type {\n",
       "        vertical-align: middle;\n",
       "    }\n",
       "\n",
       "    .dataframe tbody tr th {\n",
       "        vertical-align: top;\n",
       "    }\n",
       "\n",
       "    .dataframe thead th {\n",
       "        text-align: right;\n",
       "    }\n",
       "</style>\n",
       "<table border=\"1\" class=\"dataframe\">\n",
       "  <thead>\n",
       "    <tr style=\"text-align: right;\">\n",
       "      <th></th>\n",
       "      <th>Email</th>\n",
       "      <th>Address</th>\n",
       "      <th>Avatar</th>\n",
       "      <th>Avg Session Length</th>\n",
       "      <th>Time on App</th>\n",
       "      <th>Time on Website</th>\n",
       "      <th>Length of Membership</th>\n",
       "      <th>Yearly Amount Spent</th>\n",
       "    </tr>\n",
       "  </thead>\n",
       "  <tbody>\n",
       "    <tr>\n",
       "      <th>0</th>\n",
       "      <td>mstephenson@fernandez.com</td>\n",
       "      <td>835 Frank TunnelWrightmouth, MI 82180-9605</td>\n",
       "      <td>Violet</td>\n",
       "      <td>34.497268</td>\n",
       "      <td>12.655651</td>\n",
       "      <td>39.577668</td>\n",
       "      <td>4.082621</td>\n",
       "      <td>587.951054</td>\n",
       "    </tr>\n",
       "    <tr>\n",
       "      <th>1</th>\n",
       "      <td>hduke@hotmail.com</td>\n",
       "      <td>4547 Archer CommonDiazchester, CA 06566-8576</td>\n",
       "      <td>DarkGreen</td>\n",
       "      <td>31.926272</td>\n",
       "      <td>11.109461</td>\n",
       "      <td>37.268959</td>\n",
       "      <td>2.664034</td>\n",
       "      <td>392.204933</td>\n",
       "    </tr>\n",
       "    <tr>\n",
       "      <th>2</th>\n",
       "      <td>pallen@yahoo.com</td>\n",
       "      <td>24645 Valerie Unions Suite 582Cobbborough, DC ...</td>\n",
       "      <td>Bisque</td>\n",
       "      <td>33.000915</td>\n",
       "      <td>11.330278</td>\n",
       "      <td>37.110597</td>\n",
       "      <td>4.104543</td>\n",
       "      <td>487.547505</td>\n",
       "    </tr>\n",
       "    <tr>\n",
       "      <th>3</th>\n",
       "      <td>riverarebecca@gmail.com</td>\n",
       "      <td>1414 David ThroughwayPort Jason, OH 22070-1220</td>\n",
       "      <td>SaddleBrown</td>\n",
       "      <td>34.305557</td>\n",
       "      <td>13.717514</td>\n",
       "      <td>36.721283</td>\n",
       "      <td>3.120179</td>\n",
       "      <td>581.852344</td>\n",
       "    </tr>\n",
       "    <tr>\n",
       "      <th>4</th>\n",
       "      <td>mstephens@davidson-herman.com</td>\n",
       "      <td>14023 Rodriguez PassagePort Jacobville, PR 372...</td>\n",
       "      <td>MediumAquaMarine</td>\n",
       "      <td>33.330673</td>\n",
       "      <td>12.795189</td>\n",
       "      <td>37.536653</td>\n",
       "      <td>4.446308</td>\n",
       "      <td>599.406092</td>\n",
       "    </tr>\n",
       "  </tbody>\n",
       "</table>\n",
       "</div>"
      ],
      "text/plain": [
       "                           Email  \\\n",
       "0      mstephenson@fernandez.com   \n",
       "1              hduke@hotmail.com   \n",
       "2               pallen@yahoo.com   \n",
       "3        riverarebecca@gmail.com   \n",
       "4  mstephens@davidson-herman.com   \n",
       "\n",
       "                                             Address            Avatar  \\\n",
       "0         835 Frank TunnelWrightmouth, MI 82180-9605            Violet   \n",
       "1       4547 Archer CommonDiazchester, CA 06566-8576         DarkGreen   \n",
       "2  24645 Valerie Unions Suite 582Cobbborough, DC ...            Bisque   \n",
       "3     1414 David ThroughwayPort Jason, OH 22070-1220       SaddleBrown   \n",
       "4  14023 Rodriguez PassagePort Jacobville, PR 372...  MediumAquaMarine   \n",
       "\n",
       "   Avg Session Length  Time on App  Time on Website  Length of Membership  \\\n",
       "0           34.497268    12.655651        39.577668              4.082621   \n",
       "1           31.926272    11.109461        37.268959              2.664034   \n",
       "2           33.000915    11.330278        37.110597              4.104543   \n",
       "3           34.305557    13.717514        36.721283              3.120179   \n",
       "4           33.330673    12.795189        37.536653              4.446308   \n",
       "\n",
       "   Yearly Amount Spent  \n",
       "0           587.951054  \n",
       "1           392.204933  \n",
       "2           487.547505  \n",
       "3           581.852344  \n",
       "4           599.406092  "
      ]
     },
     "execution_count": 2,
     "metadata": {},
     "output_type": "execute_result"
    }
   ],
   "source": [
    "df = pd.read_csv('Ecommerce.csv')\n",
    "\n",
    "df.head()"
   ]
  },
  {
   "cell_type": "code",
   "execution_count": 3,
   "metadata": {},
   "outputs": [
    {
     "data": {
      "text/html": [
       "<div>\n",
       "<style scoped>\n",
       "    .dataframe tbody tr th:only-of-type {\n",
       "        vertical-align: middle;\n",
       "    }\n",
       "\n",
       "    .dataframe tbody tr th {\n",
       "        vertical-align: top;\n",
       "    }\n",
       "\n",
       "    .dataframe thead th {\n",
       "        text-align: right;\n",
       "    }\n",
       "</style>\n",
       "<table border=\"1\" class=\"dataframe\">\n",
       "  <thead>\n",
       "    <tr style=\"text-align: right;\">\n",
       "      <th></th>\n",
       "      <th>Avg Session Length</th>\n",
       "      <th>Time on App</th>\n",
       "      <th>Time on Website</th>\n",
       "      <th>Length of Membership</th>\n",
       "      <th>Yearly Amount Spent</th>\n",
       "    </tr>\n",
       "  </thead>\n",
       "  <tbody>\n",
       "    <tr>\n",
       "      <th>0</th>\n",
       "      <td>34.497268</td>\n",
       "      <td>12.655651</td>\n",
       "      <td>39.577668</td>\n",
       "      <td>4.082621</td>\n",
       "      <td>587.951054</td>\n",
       "    </tr>\n",
       "    <tr>\n",
       "      <th>1</th>\n",
       "      <td>31.926272</td>\n",
       "      <td>11.109461</td>\n",
       "      <td>37.268959</td>\n",
       "      <td>2.664034</td>\n",
       "      <td>392.204933</td>\n",
       "    </tr>\n",
       "    <tr>\n",
       "      <th>2</th>\n",
       "      <td>33.000915</td>\n",
       "      <td>11.330278</td>\n",
       "      <td>37.110597</td>\n",
       "      <td>4.104543</td>\n",
       "      <td>487.547505</td>\n",
       "    </tr>\n",
       "    <tr>\n",
       "      <th>3</th>\n",
       "      <td>34.305557</td>\n",
       "      <td>13.717514</td>\n",
       "      <td>36.721283</td>\n",
       "      <td>3.120179</td>\n",
       "      <td>581.852344</td>\n",
       "    </tr>\n",
       "    <tr>\n",
       "      <th>4</th>\n",
       "      <td>33.330673</td>\n",
       "      <td>12.795189</td>\n",
       "      <td>37.536653</td>\n",
       "      <td>4.446308</td>\n",
       "      <td>599.406092</td>\n",
       "    </tr>\n",
       "  </tbody>\n",
       "</table>\n",
       "</div>"
      ],
      "text/plain": [
       "   Avg Session Length  Time on App  Time on Website  Length of Membership  \\\n",
       "0           34.497268    12.655651        39.577668              4.082621   \n",
       "1           31.926272    11.109461        37.268959              2.664034   \n",
       "2           33.000915    11.330278        37.110597              4.104543   \n",
       "3           34.305557    13.717514        36.721283              3.120179   \n",
       "4           33.330673    12.795189        37.536653              4.446308   \n",
       "\n",
       "   Yearly Amount Spent  \n",
       "0           587.951054  \n",
       "1           392.204933  \n",
       "2           487.547505  \n",
       "3           581.852344  \n",
       "4           599.406092  "
      ]
     },
     "execution_count": 3,
     "metadata": {},
     "output_type": "execute_result"
    }
   ],
   "source": [
    "del df[\"Email\"]\n",
    "del df[\"Address\"]\n",
    "del df[\"Avatar\"]\n",
    "df.head()"
   ]
  },
  {
   "cell_type": "markdown",
   "metadata": {},
   "source": [
    "### Use Yearly Amount Spent as your target variable. Plot the relationship of each of the numerical features with the target variable"
   ]
  },
  {
   "cell_type": "code",
   "execution_count": 4,
   "metadata": {},
   "outputs": [
    {
     "data": {
      "text/plain": [
       "Text(18.0, 0.5, 'Yearly Amount Spent')"
      ]
     },
     "execution_count": 4,
     "metadata": {},
     "output_type": "execute_result"
    },
    {
     "data": {
      "image/png": "[encoded data removed]",
      "text/plain": [
       "<Figure size 360x720 with 4 Axes>"
      ]
     },
     "metadata": {
      "needs_background": "light"
     },
     "output_type": "display_data"
    }
   ],
   "source": [
    "fig, axs = plt.subplots(4, 1)\n",
    "fig.set_figwidth(5)\n",
    "fig.set_figheight(10)\n",
    "fig.tight_layout(h_pad = 5)\n",
    "\n",
    "axs[0].scatter(df['Avg Session Length'], df['Yearly Amount Spent'])\n",
    "axs[0].set_xlabel('Avg Session Length')\n",
    "axs[0].set_ylabel('Yearly Amount Spent')\n",
    "\n",
    "axs[1].scatter(df['Time on App'], df['Yearly Amount Spent'])\n",
    "axs[1].set_xlabel('Time on App')\n",
    "axs[1].set_ylabel('Yearly Amount Spent')\n",
    "\n",
    "axs[2].scatter(df['Time on Website'], df['Yearly Amount Spent'])\n",
    "axs[2].set_xlabel('Time on Website')\n",
    "axs[2].set_ylabel('Yearly Amount Spent')\n",
    "\n",
    "axs[3].scatter(df['Length of Membership'], df['Yearly Amount Spent'])\n",
    "axs[3].set_xlabel('Length of Membership')\n",
    "axs[3].set_ylabel('Yearly Amount Spent')\n",
    "\n",
    "# there is an obvious linear connection betweek \"Length of Membership\" feature and \"Yearly Amount Spent\" target variable"
   ]
  },
  {
   "cell_type": "markdown",
   "metadata": {},
   "source": [
    "### Leave only one feature that has a linear relationship with the target variable."
   ]
  },
  {
   "cell_type": "code",
   "execution_count": 5,
   "metadata": {},
   "outputs": [
    {
     "data": {
      "text/html": [
       "<div>\n",
       "<style scoped>\n",
       "    .dataframe tbody tr th:only-of-type {\n",
       "        vertical-align: middle;\n",
       "    }\n",
       "\n",
       "    .dataframe tbody tr th {\n",
       "        vertical-align: top;\n",
       "    }\n",
       "\n",
       "    .dataframe thead th {\n",
       "        text-align: right;\n",
       "    }\n",
       "</style>\n",
       "<table border=\"1\" class=\"dataframe\">\n",
       "  <thead>\n",
       "    <tr style=\"text-align: right;\">\n",
       "      <th></th>\n",
       "      <th>Length of Membership</th>\n",
       "      <th>Yearly Amount Spent</th>\n",
       "    </tr>\n",
       "  </thead>\n",
       "  <tbody>\n",
       "    <tr>\n",
       "      <th>0</th>\n",
       "      <td>4.082621</td>\n",
       "      <td>587.951054</td>\n",
       "    </tr>\n",
       "    <tr>\n",
       "      <th>1</th>\n",
       "      <td>2.664034</td>\n",
       "      <td>392.204933</td>\n",
       "    </tr>\n",
       "    <tr>\n",
       "      <th>2</th>\n",
       "      <td>4.104543</td>\n",
       "      <td>487.547505</td>\n",
       "    </tr>\n",
       "    <tr>\n",
       "      <th>3</th>\n",
       "      <td>3.120179</td>\n",
       "      <td>581.852344</td>\n",
       "    </tr>\n",
       "    <tr>\n",
       "      <th>4</th>\n",
       "      <td>4.446308</td>\n",
       "      <td>599.406092</td>\n",
       "    </tr>\n",
       "    <tr>\n",
       "      <th>...</th>\n",
       "      <td>...</td>\n",
       "      <td>...</td>\n",
       "    </tr>\n",
       "    <tr>\n",
       "      <th>495</th>\n",
       "      <td>3.746573</td>\n",
       "      <td>573.847438</td>\n",
       "    </tr>\n",
       "    <tr>\n",
       "      <th>496</th>\n",
       "      <td>3.576526</td>\n",
       "      <td>529.049004</td>\n",
       "    </tr>\n",
       "    <tr>\n",
       "      <th>497</th>\n",
       "      <td>4.958264</td>\n",
       "      <td>551.620145</td>\n",
       "    </tr>\n",
       "    <tr>\n",
       "      <th>498</th>\n",
       "      <td>2.336485</td>\n",
       "      <td>456.469510</td>\n",
       "    </tr>\n",
       "    <tr>\n",
       "      <th>499</th>\n",
       "      <td>2.735160</td>\n",
       "      <td>497.778642</td>\n",
       "    </tr>\n",
       "  </tbody>\n",
       "</table>\n",
       "<p>500 rows × 2 columns</p>\n",
       "</div>"
      ],
      "text/plain": [
       "     Length of Membership  Yearly Amount Spent\n",
       "0                4.082621           587.951054\n",
       "1                2.664034           392.204933\n",
       "2                4.104543           487.547505\n",
       "3                3.120179           581.852344\n",
       "4                4.446308           599.406092\n",
       "..                    ...                  ...\n",
       "495              3.746573           573.847438\n",
       "496              3.576526           529.049004\n",
       "497              4.958264           551.620145\n",
       "498              2.336485           456.469510\n",
       "499              2.735160           497.778642\n",
       "\n",
       "[500 rows x 2 columns]"
      ]
     },
     "execution_count": 5,
     "metadata": {},
     "output_type": "execute_result"
    }
   ],
   "source": [
    "# obviously that is \"Length of Membership\" feature\n",
    "\n",
    "df = df[['Length of Membership', 'Yearly Amount Spent']]\n",
    "df"
   ]
  },
  {
   "cell_type": "markdown",
   "metadata": {},
   "source": [
    "### Divide the dataset into training and test sets with the ratio 80:20."
   ]
  },
  {
   "cell_type": "code",
   "execution_count": 6,
   "metadata": {},
   "outputs": [],
   "source": [
    "# using sklearn provided method. however, my algorithm written for k-fold cross-validation might be simplified and used as well\n",
    "from sklearn.model_selection import train_test_split\n",
    "xTrain, xTest, yTrain, yTest = train_test_split(df[df.columns.difference(['Yearly Amount Spent'])],df['Yearly Amount Spent'], test_size=0.2, random_state=42)"
   ]
  },
  {
   "cell_type": "markdown",
   "metadata": {},
   "source": [
    "### Use the resulting train and test sets with the next 2 functions to fit linear regression and plot the resulting regression line."
   ]
  },
  {
   "cell_type": "markdown",
   "metadata": {},
   "source": [
    "The first function is `fit_1d_linear_regression` that takes two vectors $x$ and $y$, and returns a numpy array ($\\beta_0, \\beta_1)$, where $\\beta_0$ is the intercept of the line, and $\\beta_1$ is the slope. "
   ]
  },
  {
   "cell_type": "code",
   "execution_count": 7,
   "metadata": {},
   "outputs": [],
   "source": [
    "def fit_1d_linear_regression(data_vector, response_vector):\n",
    "    \"\"\"\n",
    "    :param data_vector: A pandas series object (i.e. a column of a dataframe),\n",
    "                        where each element is a data point (x)\n",
    "    :param response_vector: A pandas series object (i.e. a column of a dataframe),\n",
    "                        where each element is label (y)\n",
    "    :return: numpy array beta of coefficients of the regression\n",
    "    Note: You can avoid the intercept for simplicity\n",
    "    \"\"\"\n",
    "    x_vector = data_vector.to_numpy() \n",
    "    y_vector = response_vector.to_numpy()\n",
    "    X_matrix = np.c_[np.ones((len(x_vector), 1)), x_vector] #adding 1-s to as a first column\n",
    "    \n",
    "    #TODO\n",
    "    beta_vector = np.linalg.inv(X_matrix.T.dot(X_matrix)).dot(X_matrix.T).dot(y_vector) #simply using the formula for regression\n",
    "    return beta_vector"
   ]
  },
  {
   "cell_type": "code",
   "execution_count": 12,
   "metadata": {},
   "outputs": [
    {
     "data": {
      "text/plain": [
       "array([271.3521128 ,  64.64010065])"
      ]
     },
     "execution_count": 12,
     "metadata": {},
     "output_type": "execute_result"
    }
   ],
   "source": [
    "# write fitted parameters in the fitted_vector\n",
    "fitted_vector = fit_1d_linear_regression(xTrain,yTrain)\n",
    "fitted_vector"
   ]
  },
  {
   "cell_type": "markdown",
   "metadata": {},
   "source": [
    "The second function is `plot_line` function, that takes $\\beta_0, \\beta_1, x, y$ and plots a scatter plot of the data, and the line $y = \\beta_0 + \\beta_1 x$. And saves the plot in `YOURNAME.png`"
   ]
  },
  {
   "cell_type": "code",
   "execution_count": 10,
   "metadata": {},
   "outputs": [],
   "source": [
    "def plot_fitted_line(b0: float,\n",
    "                     b1: float,\n",
    "                     x,\n",
    "                     y):\n",
    "    \"\"\"\n",
    "    :param b0: Intersept of line to plot\n",
    "    Note: avoid this if you don't have an intercept in the previous function\n",
    "    :param b1: Slope of the line to plot\n",
    "    :param x: A pandas series object (i.e. a column of a dataframe),\n",
    "                        where each element is a data point (x coordinates)\n",
    "    :param y: A pandas series object (i.e. a column of a dataframe),\n",
    "                        where each element is a label (y coordinates)\n",
    "    \"\"\"\n",
    "    plt.plot(x, y, 'o', color='black');\n",
    "    plt.plot(x, b0 + b1 * x);\n",
    "    \n",
    "    pass"
   ]
  },
  {
   "cell_type": "code",
   "execution_count": 11,
   "metadata": {},
   "outputs": [
    {
     "data": {
      "image/png": "[encoded data removed]",
      "text/plain": [
       "<Figure size 432x288 with 1 Axes>"
      ]
     },
     "metadata": {
      "needs_background": "light"
     },
     "output_type": "display_data"
    }
   ],
   "source": [
    "# making the needed plot\n",
    "\n",
    "plot_fitted_line(fitted_vector[0], fitted_vector[1], xTest, yTest)"
   ]
  },
  {
   "cell_type": "markdown",
   "metadata": {},
   "source": [
    "### Plot example"
   ]
  },
  {
   "attachments": {
    "image.png": {
     "image/png": "[encoded data removed]"
    }
   },
   "cell_type": "markdown",
   "metadata": {},
   "source": [
    "![image.png](attachment:image.png)"
   ]
  },
  {
   "cell_type": "markdown",
   "metadata": {},
   "source": [
    "### Now fit the linear regression to the data containing only 1 feature using sklearn and compare the results with your own fit_1d_linear_regression function"
   ]
  },
  {
   "cell_type": "code",
   "execution_count": 13,
   "metadata": {},
   "outputs": [
    {
     "data": {
      "text/plain": [
       "(271.35211280339314, array([64.64010065]))"
      ]
     },
     "execution_count": 13,
     "metadata": {},
     "output_type": "execute_result"
    }
   ],
   "source": [
    "from sklearn import linear_model\n",
    "from sklearn.metrics import mean_squared_error, mean_absolute_error, r2_score\n",
    "\n",
    "# Create linear regression object\n",
    "regr = linear_model.LinearRegression()\n",
    "\n",
    "# Train the model using the training data\n",
    "regr.fit(xTrain, yTrain)\n",
    "\n",
    "regr.intercept_, regr.coef_"
   ]
  },
  {
   "cell_type": "code",
   "execution_count": 14,
   "metadata": {},
   "outputs": [
    {
     "data": {
      "text/plain": [
       "array([271.3521128 ,  64.64010065])"
      ]
     },
     "execution_count": 14,
     "metadata": {},
     "output_type": "execute_result"
    }
   ],
   "source": [
    "# compare with mine\n",
    "\n",
    "fitted_vector"
   ]
  },
  {
   "cell_type": "code",
   "execution_count": 15,
   "metadata": {},
   "outputs": [],
   "source": [
    "# sklearn predictions\n",
    "y_pred = regr.predict(xTest)\n",
    "\n",
    "# my predictions on the test data\n",
    "y_pred_my = fitted_vector[0] + fitted_vector[1::].dot(xTest.T)"
   ]
  },
  {
   "cell_type": "markdown",
   "metadata": {},
   "source": [
    "### Use sklearn.metrics to calculate Mean absolute error, Mean squared error, Root mean squared error and R-squared for the results of your own function vs the sklearn regression results. Try to interprete your results."
   ]
  },
  {
   "cell_type": "code",
   "execution_count": 16,
   "metadata": {},
   "outputs": [
    {
     "name": "stdout",
     "output_type": "stream",
     "text": [
      "sklearn LinearRegression:\n",
      "Coefficients: \n",
      " 271.35211280339314 [64.64010065]\n",
      "Mean absolute error: 37.84\n",
      "Mean squared error: 2162.11\n",
      "Root mean squared error: 46.50\n",
      "R-squared: 0.56\n",
      " \n",
      "results of my algorithm:\n",
      "Coefficients: \n",
      " [271.3521128   64.64010065]\n",
      "Mean absolute error: 37.84\n",
      "Mean squared error: 2162.11\n",
      "Root mean squared error: 46.50\n",
      "R-squared: 0.56\n"
     ]
    }
   ],
   "source": [
    "print(\"sklearn LinearRegression:\")\n",
    "# The coefficients\n",
    "print('Coefficients: \\n', regr.intercept_, regr.coef_)\n",
    "# The mean squared error\n",
    "print('Mean absolute error: %.2f'\n",
    "      % mean_absolute_error(yTest, y_pred))\n",
    "\n",
    "print('Mean squared error: %.2f'\n",
    "      % mean_squared_error(yTest, y_pred))\n",
    "\n",
    "print('Root mean squared error: %.2f'\n",
    "      % np.sqrt(mean_squared_error(yTest, y_pred)))\n",
    "\n",
    "print('R-squared: %.2f'\n",
    "      % r2_score(yTest, y_pred))\n",
    "\n",
    "\n",
    "print(\" \")\n",
    "print(\"results of my algorithm:\")\n",
    "# The coefficients\n",
    "print('Coefficients: \\n', fit_1d_linear_regression(xTrain,yTrain))\n",
    "# The mean squared error\n",
    "print('Mean absolute error: %.2f'\n",
    "      % mean_absolute_error(yTest, y_pred_my))\n",
    "\n",
    "print('Mean squared error: %.2f'\n",
    "      % mean_squared_error(yTest, y_pred_my))\n",
    "\n",
    "print('Root mean squared error: %.2f'\n",
    "      % np.sqrt(mean_squared_error(yTest, y_pred_my)))\n",
    "\n",
    "print('R-squared: %.2f'\n",
    "      % r2_score(yTest, y_pred_my))"
   ]
  },
  {
   "cell_type": "markdown",
   "metadata": {},
   "source": [
    "### Fit linear regression to the data containing all numerical features using sklearn and use the same metrics to evaluate how good the model is."
   ]
  },
  {
   "cell_type": "code",
   "execution_count": 17,
   "metadata": {},
   "outputs": [
    {
     "data": {
      "text/plain": [
       "(-1044.257414636558,\n",
       " array([25.5962591 , 61.89682859, 38.78534598,  0.31038593]))"
      ]
     },
     "execution_count": 17,
     "metadata": {},
     "output_type": "execute_result"
    }
   ],
   "source": [
    "df = pd.read_csv('Ecommerce.csv')\n",
    "\n",
    "del df[\"Email\"]\n",
    "del df[\"Address\"]\n",
    "del df[\"Avatar\"]\n",
    "\n",
    "from sklearn.model_selection import train_test_split\n",
    "xTrain, xTest, yTrain, yTest = train_test_split(df[df.columns.difference(['Yearly Amount Spent'])],df['Yearly Amount Spent'], test_size=0.2, random_state=42)\n",
    "\n",
    "# Create linear regression object\n",
    "regr = linear_model.LinearRegression()\n",
    "\n",
    "# Train the model using the training data\n",
    "regr.fit(xTrain, yTrain)\n",
    "\n",
    "# Make predictions using the testing set\n",
    "y_pred = regr.predict(xTest)\n",
    "\n",
    "regr.intercept_, regr.coef_"
   ]
  },
  {
   "cell_type": "code",
   "execution_count": 18,
   "metadata": {},
   "outputs": [
    {
     "data": {
      "text/html": [
       "<div>\n",
       "<style scoped>\n",
       "    .dataframe tbody tr th:only-of-type {\n",
       "        vertical-align: middle;\n",
       "    }\n",
       "\n",
       "    .dataframe tbody tr th {\n",
       "        vertical-align: top;\n",
       "    }\n",
       "\n",
       "    .dataframe thead th {\n",
       "        text-align: right;\n",
       "    }\n",
       "</style>\n",
       "<table border=\"1\" class=\"dataframe\">\n",
       "  <thead>\n",
       "    <tr style=\"text-align: right;\">\n",
       "      <th></th>\n",
       "      <th>Avg Session Length</th>\n",
       "      <th>Time on App</th>\n",
       "      <th>Time on Website</th>\n",
       "      <th>Length of Membership</th>\n",
       "      <th>Yearly Amount Spent</th>\n",
       "    </tr>\n",
       "  </thead>\n",
       "  <tbody>\n",
       "    <tr>\n",
       "      <th>Avg Session Length</th>\n",
       "      <td>1.000000</td>\n",
       "      <td>-0.027826</td>\n",
       "      <td>-0.034987</td>\n",
       "      <td>0.060247</td>\n",
       "      <td>0.355088</td>\n",
       "    </tr>\n",
       "    <tr>\n",
       "      <th>Time on App</th>\n",
       "      <td>-0.027826</td>\n",
       "      <td>1.000000</td>\n",
       "      <td>0.082388</td>\n",
       "      <td>0.029143</td>\n",
       "      <td>0.499328</td>\n",
       "    </tr>\n",
       "    <tr>\n",
       "      <th>Time on Website</th>\n",
       "      <td>-0.034987</td>\n",
       "      <td>0.082388</td>\n",
       "      <td>1.000000</td>\n",
       "      <td>-0.047582</td>\n",
       "      <td>-0.002641</td>\n",
       "    </tr>\n",
       "    <tr>\n",
       "      <th>Length of Membership</th>\n",
       "      <td>0.060247</td>\n",
       "      <td>0.029143</td>\n",
       "      <td>-0.047582</td>\n",
       "      <td>1.000000</td>\n",
       "      <td>0.809084</td>\n",
       "    </tr>\n",
       "    <tr>\n",
       "      <th>Yearly Amount Spent</th>\n",
       "      <td>0.355088</td>\n",
       "      <td>0.499328</td>\n",
       "      <td>-0.002641</td>\n",
       "      <td>0.809084</td>\n",
       "      <td>1.000000</td>\n",
       "    </tr>\n",
       "  </tbody>\n",
       "</table>\n",
       "</div>"
      ],
      "text/plain": [
       "                      Avg Session Length  Time on App  Time on Website  \\\n",
       "Avg Session Length              1.000000    -0.027826        -0.034987   \n",
       "Time on App                    -0.027826     1.000000         0.082388   \n",
       "Time on Website                -0.034987     0.082388         1.000000   \n",
       "Length of Membership            0.060247     0.029143        -0.047582   \n",
       "Yearly Amount Spent             0.355088     0.499328        -0.002641   \n",
       "\n",
       "                      Length of Membership  Yearly Amount Spent  \n",
       "Avg Session Length                0.060247             0.355088  \n",
       "Time on App                       0.029143             0.499328  \n",
       "Time on Website                  -0.047582            -0.002641  \n",
       "Length of Membership              1.000000             0.809084  \n",
       "Yearly Amount Spent               0.809084             1.000000  "
      ]
     },
     "execution_count": 18,
     "metadata": {},
     "output_type": "execute_result"
    }
   ],
   "source": [
    "#lets check the correllation of different columns \n",
    "df.corr()\n",
    "\n",
    "#and check that two other features Avg Session Length and Time on App are also very important"
   ]
  },
  {
   "cell_type": "code",
   "execution_count": 19,
   "metadata": {},
   "outputs": [],
   "source": [
    "# now, compare with my generalized model (with all the numerical features)\n",
    "fitted_vector = fit_1d_linear_regression(xTrain,yTrain)\n",
    "# we see that the coefficients are the same \n",
    "\n",
    "y_pred_my = fitted_vector[0] + fitted_vector[1::].dot(xTest.T)"
   ]
  },
  {
   "cell_type": "code",
   "execution_count": 20,
   "metadata": {},
   "outputs": [
    {
     "name": "stdout",
     "output_type": "stream",
     "text": [
      "sklearn LinearRegression:\n",
      "Coefficients: \n",
      " -1044.257414636558 [25.5962591  61.89682859 38.78534598  0.31038593]\n",
      "Mean absolute error: 8.56\n",
      "Mean squared error: 109.86\n",
      "Root mean squared error: 10.48\n",
      "R-squared: 0.98\n",
      " \n",
      "results of my algorithm:\n",
      "Coefficients: \n",
      " [-1.04425741e+03  2.55962591e+01  6.18968286e+01  3.87853460e+01\n",
      "  3.10385933e-01]\n",
      "Mean absolute error: 8.56\n",
      "Mean squared error: 109.86\n",
      "Root mean squared error: 10.48\n",
      "R-squared: 0.98\n"
     ]
    }
   ],
   "source": [
    "print(\"sklearn LinearRegression:\")\n",
    "# The coefficients\n",
    "print('Coefficients: \\n', regr.intercept_, regr.coef_)\n",
    "# The mean squared error\n",
    "print('Mean absolute error: %.2f'\n",
    "      % mean_absolute_error(yTest, y_pred))\n",
    "\n",
    "print('Mean squared error: %.2f'\n",
    "      % mean_squared_error(yTest, y_pred))\n",
    "\n",
    "print('Root mean squared error: %.2f'\n",
    "      % np.sqrt(mean_squared_error(yTest, y_pred)))\n",
    "\n",
    "print('R-squared: %.2f'\n",
    "      % r2_score(yTest, y_pred))\n",
    "\n",
    "print(\" \")\n",
    "print(\"results of my algorithm:\")\n",
    "# The coefficients\n",
    "print('Coefficients: \\n', fit_1d_linear_regression(xTrain, yTrain))\n",
    "# The mean squared error\n",
    "print('Mean absolute error: %.2f'\n",
    "      % mean_absolute_error(yTest, y_pred_my))\n",
    "\n",
    "print('Mean squared error: %.2f'\n",
    "      % mean_squared_error(yTest, y_pred_my))\n",
    "\n",
    "print('Root mean squared error: %.2f'\n",
    "      % np.sqrt(mean_squared_error(yTest, y_pred_my)))\n",
    "\n",
    "print('R-squared: %.2f'\n",
    "      % r2_score(yTest, y_pred_my))"
   ]
  },
  {
   "cell_type": "markdown",
   "metadata": {},
   "source": [
    "### Implement K-fold Cross Validation"
   ]
  },
  {
   "cell_type": "code",
   "execution_count": 21,
   "metadata": {},
   "outputs": [
    {
     "data": {
      "text/html": [
       "<div>\n",
       "<style scoped>\n",
       "    .dataframe tbody tr th:only-of-type {\n",
       "        vertical-align: middle;\n",
       "    }\n",
       "\n",
       "    .dataframe tbody tr th {\n",
       "        vertical-align: top;\n",
       "    }\n",
       "\n",
       "    .dataframe thead th {\n",
       "        text-align: right;\n",
       "    }\n",
       "</style>\n",
       "<table border=\"1\" class=\"dataframe\">\n",
       "  <thead>\n",
       "    <tr style=\"text-align: right;\">\n",
       "      <th></th>\n",
       "      <th>Avg Session Length</th>\n",
       "      <th>Time on App</th>\n",
       "      <th>Time on Website</th>\n",
       "      <th>Length of Membership</th>\n",
       "      <th>Yearly Amount Spent</th>\n",
       "    </tr>\n",
       "  </thead>\n",
       "  <tbody>\n",
       "    <tr>\n",
       "      <th>0</th>\n",
       "      <td>34.497268</td>\n",
       "      <td>12.655651</td>\n",
       "      <td>39.577668</td>\n",
       "      <td>4.082621</td>\n",
       "      <td>587.951054</td>\n",
       "    </tr>\n",
       "    <tr>\n",
       "      <th>1</th>\n",
       "      <td>31.926272</td>\n",
       "      <td>11.109461</td>\n",
       "      <td>37.268959</td>\n",
       "      <td>2.664034</td>\n",
       "      <td>392.204933</td>\n",
       "    </tr>\n",
       "    <tr>\n",
       "      <th>2</th>\n",
       "      <td>33.000915</td>\n",
       "      <td>11.330278</td>\n",
       "      <td>37.110597</td>\n",
       "      <td>4.104543</td>\n",
       "      <td>487.547505</td>\n",
       "    </tr>\n",
       "    <tr>\n",
       "      <th>3</th>\n",
       "      <td>34.305557</td>\n",
       "      <td>13.717514</td>\n",
       "      <td>36.721283</td>\n",
       "      <td>3.120179</td>\n",
       "      <td>581.852344</td>\n",
       "    </tr>\n",
       "    <tr>\n",
       "      <th>4</th>\n",
       "      <td>33.330673</td>\n",
       "      <td>12.795189</td>\n",
       "      <td>37.536653</td>\n",
       "      <td>4.446308</td>\n",
       "      <td>599.406092</td>\n",
       "    </tr>\n",
       "  </tbody>\n",
       "</table>\n",
       "</div>"
      ],
      "text/plain": [
       "   Avg Session Length  Time on App  Time on Website  Length of Membership  \\\n",
       "0           34.497268    12.655651        39.577668              4.082621   \n",
       "1           31.926272    11.109461        37.268959              2.664034   \n",
       "2           33.000915    11.330278        37.110597              4.104543   \n",
       "3           34.305557    13.717514        36.721283              3.120179   \n",
       "4           33.330673    12.795189        37.536653              4.446308   \n",
       "\n",
       "   Yearly Amount Spent  \n",
       "0           587.951054  \n",
       "1           392.204933  \n",
       "2           487.547505  \n",
       "3           581.852344  \n",
       "4           599.406092  "
      ]
     },
     "execution_count": 21,
     "metadata": {},
     "output_type": "execute_result"
    }
   ],
   "source": [
    "df.head()"
   ]
  },
  {
   "cell_type": "code",
   "execution_count": 24,
   "metadata": {},
   "outputs": [],
   "source": [
    "#simple own implementation of k-fold cross validation method\n",
    "\n",
    "def k_fold_crossvalidation(dataframe, subsamples_number):\n",
    "    #shuffle the dataframe (taken from google) \n",
    "    df1 = df.reindex(np.random.permutation(df.index))\n",
    "    x_matrix = df1[df1.columns.difference(['Yearly Amount Spent'])]\n",
    "    y_matrix = df1[['Yearly Amount Spent']]\n",
    "    \n",
    "    mae_values = np.zeros(subsamples_number)\n",
    "    mse_values = np.zeros(subsamples_number)\n",
    "    r2_score_values = np.zeros(subsamples_number)\n",
    "    \n",
    "    for i in range(subsamples_number):\n",
    "#        x_train = np.append(x_matrix[0 : int(i/subsamples_number * len(df))], x_matrix[int((i+1)/subsamples_number * len(df)) : -1], axis = 0)\n",
    "#        y_train = np.append(y_matrix[0 : int(i/subsamples_number * len(df))], y_matrix[int((i+1)/subsamples_number * len(df)) : -1], axis = 0)    \n",
    "        x_train = pd.concat([x_matrix[0 : int(i/subsamples_number * len(df))], x_matrix[int((i+1)/subsamples_number * len(df)) : -1]])\n",
    "        y_train = pd.concat([y_matrix[0 : int(i/subsamples_number * len(df))], y_matrix[int((i+1)/subsamples_number * len(df)) : -1]])\n",
    "        \n",
    "        x_test = x_matrix[int(i/subsamples_number * len(df)) : int((i+1)/subsamples_number * len(df))]\n",
    "        y_test = y_matrix[int(i/subsamples_number * len(df)) : int((i+1)/subsamples_number * len(df))]\n",
    "\n",
    "        fitted_vector = fit_1d_linear_regression(x_train,y_train)\n",
    "        y_pred_my = (fitted_vector[0] + fitted_vector[1::].T.dot(x_test.T)).T\n",
    "        \n",
    "        mae_values[i] = mean_absolute_error(y_test, y_pred_my)\n",
    "        mse_values[i] = mean_squared_error(y_test, y_pred_my)\n",
    "        r2_score_values[i] = r2_score(y_test, y_pred_my)\n",
    "        \n",
    "    mae_mean = np.mean(mae_values)\n",
    "    mse_mean = np.mean(mse_values)\n",
    "    r2_score_mean = np.mean(r2_score_values)\n",
    "        \n",
    "    return print(\"MAE:\", mae_mean,\";\", \"MSE:\", mse_mean,\";\", \"square root of MSE:\", np.sqrt(mse_mean),\";\", \"R2 score:\", r2_score_mean)"
   ]
  },
  {
   "cell_type": "code",
   "execution_count": 25,
   "metadata": {},
   "outputs": [
    {
     "name": "stdout",
     "output_type": "stream",
     "text": [
      "MAE: 8.011802501723505 ; MSE: 102.48466319129898 ; square root of MSE: 10.123470906329459 ; R2 score: 0.9826117744473052\n"
     ]
    }
   ],
   "source": [
    "#take for example k = 5 and demonstrate result\n",
    "k_fold_crossvalidation(df, 5)"
   ]
  },
  {
   "cell_type": "markdown",
   "metadata": {},
   "source": [
    "### Evaluate model with K-fold"
   ]
  },
  {
   "cell_type": "code",
   "execution_count": 26,
   "metadata": {},
   "outputs": [
    {
     "name": "stdout",
     "output_type": "stream",
     "text": [
      "i =  2\n",
      "MAE: 8.209437989864464 ; MSE: 105.12357826651723 ; square root of MSE: 10.252978994736955 ; R2 score: 0.9831860080785314\n",
      "None\n",
      "i =  3\n",
      "MAE: 7.978153361793802 ; MSE: 100.68471079236804 ; square root of MSE: 10.03417713578787 ; R2 score: 0.9839452594085857\n",
      "None\n",
      "i =  4\n",
      "MAE: 7.942132299241866 ; MSE: 100.29685565030655 ; square root of MSE: 10.014831783425349 ; R2 score: 0.9837825661652528\n",
      "None\n",
      "i =  5\n",
      "MAE: 7.925702005943452 ; MSE: 99.60375184270701 ; square root of MSE: 9.980167926578542 ; R2 score: 0.9836845912583595\n",
      "None\n",
      "i =  6\n",
      "MAE: 7.965458519396431 ; MSE: 100.43661509579313 ; square root of MSE: 10.021806977576107 ; R2 score: 0.9828465610469269\n",
      "None\n",
      "i =  7\n",
      "MAE: 7.939682556616682 ; MSE: 99.93456769629451 ; square root of MSE: 9.99672784946627 ; R2 score: 0.9838216821334689\n",
      "None\n",
      "i =  8\n",
      "MAE: 7.955122930469311 ; MSE: 100.72440652047368 ; square root of MSE: 10.036154966941956 ; R2 score: 0.9835133179710931\n",
      "None\n",
      "i =  9\n",
      "MAE: 7.951820905419584 ; MSE: 100.92097717491454 ; square root of MSE: 10.045943319316237 ; R2 score: 0.9828535983768868\n",
      "None\n",
      "i =  10\n",
      "MAE: 7.962683272518075 ; MSE: 100.16314462200168 ; square root of MSE: 10.008153906790287 ; R2 score: 0.9828573022436855\n",
      "None\n",
      "i =  11\n",
      "MAE: 7.947875472988639 ; MSE: 100.35097389443011 ; square root of MSE: 10.017533323849246 ; R2 score: 0.9824072307157062\n",
      "None\n",
      "i =  12\n",
      "MAE: 7.966642750049998 ; MSE: 100.18326499218068 ; square root of MSE: 10.00915905519443 ; R2 score: 0.9830348428168937\n",
      "None\n",
      "i =  13\n",
      "MAE: 7.963905311552706 ; MSE: 100.29012099313226 ; square root of MSE: 10.014495543617375 ; R2 score: 0.9820894913767172\n",
      "None\n",
      "i =  14\n",
      "MAE: 7.957721879696973 ; MSE: 100.32943165249421 ; square root of MSE: 10.016458039271877 ; R2 score: 0.9821259354839628\n",
      "None\n"
     ]
    }
   ],
   "source": [
    "# my algorithm outputs for k from 2 to 14:\n",
    "\n",
    "for i in range(2,15):\n",
    "    print(\"i = \", i)\n",
    "    print(k_fold_crossvalidation(df, i))\n"
   ]
  },
  {
   "cell_type": "code",
   "execution_count": 27,
   "metadata": {},
   "outputs": [
    {
     "name": "stderr",
     "output_type": "stream",
     "text": [
      "/Users/tigrani/opt/anaconda3/lib/python3.8/site-packages/sklearn/model_selection/_split.py:293: FutureWarning: Setting a random_state has no effect since shuffle is False. This will raise an error in 0.24. You should leave random_state to its default (None), or set shuffle=True.\n",
      "  warnings.warn(\n"
     ]
    },
    {
     "data": {
      "text/plain": [
       "0.9825492707486994"
      ]
     },
     "execution_count": 27,
     "metadata": {},
     "output_type": "execute_result"
    }
   ],
   "source": [
    "# using sklearn for 10 splits\n",
    "\n",
    "from sklearn.model_selection import KFold\n",
    "from sklearn.linear_model import LinearRegression\n",
    "\n",
    "X = df[df.columns.difference(['Yearly Amount Spent'])]\n",
    "y = df[['Yearly Amount Spent']]\n",
    "\n",
    "scores = []\n",
    "best_svr = LinearRegression()\n",
    "cv = KFold(n_splits=10, random_state=42, shuffle=False)\n",
    "for train_index, test_index in cv.split(X):\n",
    "#     print(\"Train Index: \", train_index, \"\\n\")\n",
    "#     print(\"Test Index: \", test_index)\n",
    "    X_train, X_test, y_train, y_test = X.loc[train_index], X.loc[test_index], y.loc[train_index], y.loc[test_index]\n",
    "    best_svr.fit(X_train, y_train)\n",
    "    scores.append(best_svr.score(X_test, y_test))\n",
    "    \n",
    "scores = np.mean(scores)\n",
    "scores"
   ]
  },
  {
   "cell_type": "code",
   "execution_count": null,
   "metadata": {},
   "outputs": [],
   "source": [
    "# we see that both algorithms are in a good agreement"
   ]
  }
 ],
 "metadata": {
  "kernelspec": {
   "display_name": "Python 3",
   "language": "python",
   "name": "python3"
  },
  "language_info": {
   "codemirror_mode": {
    "name": "ipython",
    "version": 3
   },
   "file_extension": ".py",
   "mimetype": "text/x-python",
   "name": "python",
   "nbconvert_exporter": "python",
   "pygments_lexer": "ipython3",
   "version": "3.8.3"
  }
 },
 "nbformat": 4,
 "nbformat_minor": 4
}
