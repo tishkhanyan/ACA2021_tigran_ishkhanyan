{
 "cells": [
  {
   "cell_type": "markdown",
   "metadata": {},
   "source": [
    "# Implement Linear Regression (Gradient Descent) with 1 variable"
   ]
  },
  {
   "cell_type": "code",
   "execution_count": 1,
   "metadata": {},
   "outputs": [],
   "source": [
    "class LinearRegression:\n",
    "    def __init__(self, lr=0.01, epochs = 1000):\n",
    "        self.lr = lr\n",
    "        self.epochs = epochs     \n",
    "        self.w0 = 1 \n",
    "        self.w1 = 1 \n",
    "        \n",
    "    def cost_function(self, y_test): \n",
    "        self.loss = np.sum((y_test.values.reshape(-1,1) - self.y_pred)**2) / len(y_test)\n",
    "        return self.loss \n",
    "    \n",
    "    def update_weights(self, x_train, y_train):\n",
    "        self.n = len(y_train)\n",
    "        self.w0 -= self.lr * (-2 * np.sum(y_train.values.reshape(-1,1) - (self.w0 + self.w1 * x_train))/self.n)\n",
    "        self.w1 -= self.lr * (-2 * np.sum(np.dot(x_train.T, (y_train.values.reshape(-1,1) - (self.w0 + self.w1 * x_train))))/self.n)\n",
    "        pass\n",
    "\n",
    "    def fit(self, x_train, y_train):\n",
    "        for i in range(self.epochs):\n",
    "            self.update_weights(x_train, y_train)\n",
    "        return (self.w0, self.w1)\n",
    "        \n",
    "    def predict(self, x_test):\n",
    "        self.y_pred = self.w0 + self.w1 * x_test\n",
    "        return self.y_pred"
   ]
  },
  {
   "cell_type": "code",
   "execution_count": 2,
   "metadata": {},
   "outputs": [
    {
     "name": "stdout",
     "output_type": "stream",
     "text": [
      "coefficients w0 and w1: (214.28663081954846, 79.50787641588106)\n",
      "MSE: 2418.0846604707795\n"
     ]
    },
    {
     "data": {
      "image/png": "[encoded data removed]",
      "text/plain": [
       "<Figure size 432x288 with 1 Axes>"
      ]
     },
     "metadata": {
      "needs_background": "light"
     },
     "output_type": "display_data"
    }
   ],
   "source": [
    "import numpy as np\n",
    "import pandas as pd\n",
    "import matplotlib.pyplot as plt\n",
    "\n",
    "# test on dataset from the first week\n",
    "data = pd.read_csv('../../week1-tishkhanyan/week1/Ecommerce.csv') \n",
    "y = data['Yearly Amount Spent']\n",
    "X = data['Length of Membership'].values.reshape(-1,1)\n",
    "\n",
    "my_lm = LinearRegression()\n",
    "my_model = my_lm.fit(X, y)\n",
    "predictions = my_lm.predict(X)\n",
    "\n",
    "print(\"coefficients w0 and w1:\", my_model)\n",
    "print(\"MSE:\", my_lm.cost_function(y))\n",
    "\n",
    "plt.plot(X, y, 'o', color='black');\n",
    "plt.plot(X, my_model[0] + my_model[1] * X);"
   ]
  },
  {
   "cell_type": "code",
   "execution_count": 3,
   "metadata": {},
   "outputs": [
    {
     "name": "stdout",
     "output_type": "stream",
     "text": [
      "coefficients w0 and w1: (272.3997860580282, array([64.21868432]))\n",
      "MSE: 2168.406716917079\n"
     ]
    }
   ],
   "source": [
    "# compare with the sckitlearn LinearRegression\n",
    "\n",
    "from sklearn import linear_model\n",
    "from sklearn.metrics import mean_squared_error\n",
    "\n",
    "lm = linear_model.LinearRegression()\n",
    "model = lm.fit(X, y)\n",
    "predictions = lm.predict(X)\n",
    "\n",
    "print(\"coefficients w0 and w1:\", (model.intercept_, model.coef_))\n",
    "\n",
    "print(\"MSE:\", mean_squared_error(predictions, y))"
   ]
  },
  {
   "cell_type": "code",
   "execution_count": null,
   "metadata": {},
   "outputs": [],
   "source": [
    "# changing lr = 0.05 in my fit will give the sklearn's answer"
   ]
  },
  {
   "cell_type": "code",
   "execution_count": null,
   "metadata": {},
   "outputs": [],
   "source": []
  },
  {
   "cell_type": "markdown",
   "metadata": {},
   "source": [
    "# Implement Ridge Regression (Gradient Descent) for unlimited number of variables"
   ]
  },
  {
   "cell_type": "code",
   "execution_count": 4,
   "metadata": {},
   "outputs": [],
   "source": [
    "# RidgeRegression without intercept; works for small lr's, \n",
    "\n",
    "class RidgeRegression_1:\n",
    "    def __init__(self, lr=0.000001, lmb=0.5):\n",
    "        self.lr = lr\n",
    "        self.lmb = lmb\n",
    "        self.epochs = 5000\n",
    "    \n",
    "    def cost_function(self, y_test): \n",
    "        self.loss = np.sum((y_test.values.reshape(-1,1) - self.y_pred)**2)/len(y_test)\n",
    "        return self.loss \n",
    "    \n",
    "    def update_weights(self, x_train, y_train):\n",
    "        self.matrix1 = np.dot(x_train.T, x_train)\n",
    "        self.matrix2 = np.dot(x_train.T, y_train.values.reshape(-1,1))\n",
    "        return (self.matrix1, self.matrix2)\n",
    "    \n",
    "    def fit(self, x_train, y_train):\n",
    "        self.betas = np.zeros(((x_train.shape)[1] , 1))\n",
    "        for i in range(self.epochs):\n",
    "            self.betas -= self.lr * np.dot(self.update_weights(x_train, y_train)[0], self.betas) - self.lr * self.update_weights(x_train, y_train)[1] +self.lr * self.lmb * self.betas\n",
    "        return self.betas\n",
    "        \n",
    "    def predict(self, x_test):\n",
    "        self.y_pred = np.dot(x_test, self.betas)\n",
    "        return self.y_pred"
   ]
  },
  {
   "cell_type": "code",
   "execution_count": 5,
   "metadata": {},
   "outputs": [
    {
     "name": "stdout",
     "output_type": "stream",
     "text": [
      "betas: [[ 55.8303602   11.82438353  31.88672448 -12.75510571]] \n",
      "\n",
      "MSE: 546.3814525376164\n"
     ]
    }
   ],
   "source": [
    "import numpy as np\n",
    "import pandas as pd\n",
    "import matplotlib.pyplot as plt\n",
    "\n",
    "# test on dataset from the first week\n",
    "data = pd.read_csv('../../week1-tishkhanyan/week1/Ecommerce.csv') \n",
    "y = data['Yearly Amount Spent']\n",
    "X = data[['Length of Membership', 'Avg Session Length', 'Time on App', 'Time on Website']]\n",
    "\n",
    "my_rr = RidgeRegression_1()\n",
    "my_model = my_rr.fit(X, y)\n",
    "predictions = my_rr.predict(X)\n",
    "\n",
    "print(\"betas:\", my_model.T, '\\n')\n",
    "print(\"MSE:\", my_rr.cost_function(y))"
   ]
  },
  {
   "cell_type": "code",
   "execution_count": 6,
   "metadata": {},
   "outputs": [
    {
     "name": "stdout",
     "output_type": "stream",
     "text": [
      "betas: [ 60.35834054  11.86783612  34.71277074 -14.14471448] \n",
      "\n",
      "MSE: 514.6029026481225\n"
     ]
    }
   ],
   "source": [
    "# compare with the sklearn's Ridge\n",
    "\n",
    "from sklearn.linear_model import Ridge\n",
    "from sklearn.metrics import mean_squared_error\n",
    "\n",
    "rr = Ridge(alpha=0.5, fit_intercept = False)\n",
    "rr.fit(X, y)\n",
    "predictions = rr.predict(X)\n",
    "\n",
    "print(\"betas:\", rr.coef_, '\\n')\n",
    "\n",
    "print(\"MSE:\", mean_squared_error(predictions, y))"
   ]
  },
  {
   "cell_type": "code",
   "execution_count": 7,
   "metadata": {},
   "outputs": [],
   "source": [
    "# RidgeRegression with intercept fitting; works for only very small lr's and needs very big number of steps \n",
    "\n",
    "class RidgeRegression_2:\n",
    "    def __init__(self, x_train, y_train, x_test, lr=0.000001, lmb=0.5):\n",
    "        self.x_train = np.c_[np.ones((len(x_train), 1)), x_train]\n",
    "        self.y_train = y_train.values.reshape(-1,1)\n",
    "        self.x_test = np.c_[np.ones((len(x_test), 1)), x_test]\n",
    "        self.lr = lr\n",
    "        self.lmb = lmb\n",
    "        self.epochs = 100000\n",
    "        \n",
    "    def update_weights(self):\n",
    "        self.matrix1 = np.dot(self.x_train.T, self.x_train)\n",
    "        self.matrix2 = np.dot(self.x_train.T, self.y_train)\n",
    "        return self.matrix1, self.matrix2\n",
    "    \n",
    "    def fit(self):\n",
    "        self.betas = np.zeros(((self.x_train.shape)[1] , 1))\n",
    "        for i in range(self.epochs):\n",
    "            self.betas -= self.lr * np.dot(self.update_weights()[0], self.betas) - self.lr * self.update_weights()[1] +self.lr * self.lmb * self.betas\n",
    "        return self.betas\n",
    "        \n",
    "    def predict(self):\n",
    "        self.y_pred = np.dot(self.x_test, self.betas)\n",
    "        return self.y_pred"
   ]
  },
  {
   "cell_type": "code",
   "execution_count": 8,
   "metadata": {},
   "outputs": [
    {
     "name": "stdout",
     "output_type": "stream",
     "text": [
      "betas: [[-18.95829522  60.37937581  12.11754458  34.7845311  -13.88141131]] \n",
      "\n",
      "MSE: 499.73412923774004\n"
     ]
    }
   ],
   "source": [
    "# test on dataset from the first week\n",
    "data = pd.read_csv('../../week1-tishkhanyan/week1/Ecommerce.csv') \n",
    "y = data['Yearly Amount Spent']\n",
    "X = data[['Length of Membership', 'Avg Session Length', 'Time on App', 'Time on Website']]\n",
    "\n",
    "my_rr = RidgeRegression_2(X, y, X)\n",
    "my_model = my_rr.fit()\n",
    "predictions = my_rr.predict()\n",
    "\n",
    "print(\"betas:\", my_model.T, '\\n')\n",
    "print(\"MSE:\", mean_squared_error(predictions, y))"
   ]
  },
  {
   "cell_type": "code",
   "execution_count": 9,
   "metadata": {},
   "outputs": [
    {
     "name": "stdout",
     "output_type": "stream",
     "text": [
      "betas: (-1050.1096535832055, array([61.51806607, 25.71062171, 38.67111087,  0.43579396])) \n",
      "\n",
      "MSE: 98.47675025448858\n"
     ]
    }
   ],
   "source": [
    "# compare with the sklearn's Ridge\n",
    "\n",
    "from sklearn.linear_model import Ridge\n",
    "from sklearn.metrics import mean_squared_error\n",
    "\n",
    "rr = Ridge(alpha=0.5, fit_intercept = True)\n",
    "rr.fit(X, y)\n",
    "predictions = rr.predict(X)\n",
    "\n",
    "print(\"betas:\", (rr.intercept_, rr.coef_), '\\n')\n",
    "\n",
    "print(\"MSE:\", mean_squared_error(predictions, y))"
   ]
  },
  {
   "cell_type": "code",
   "execution_count": 13,
   "metadata": {},
   "outputs": [],
   "source": []
  },
  {
   "cell_type": "code",
   "execution_count": null,
   "metadata": {},
   "outputs": [],
   "source": []
  }
 ],
 "metadata": {
  "kernelspec": {
   "display_name": "Python 3",
   "language": "python",
   "name": "python3"
  },
  "language_info": {
   "codemirror_mode": {
    "name": "ipython",
    "version": 3
   },
   "file_extension": ".py",
   "mimetype": "text/x-python",
   "name": "python",
   "nbconvert_exporter": "python",
   "pygments_lexer": "ipython3",
   "version": "3.8.3"
  }
 },
 "nbformat": 4,
 "nbformat_minor": 4
}
