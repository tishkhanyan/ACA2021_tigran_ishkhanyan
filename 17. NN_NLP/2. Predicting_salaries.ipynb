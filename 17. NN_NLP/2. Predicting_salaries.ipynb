{
  "nbformat": 4,
  "nbformat_minor": 0,
  "metadata": {
    "accelerator": "GPU",
    "colab": {
      "name": "nlp1.ipynb",
      "provenance": [],
      "collapsed_sections": []
    },
    "kernelspec": {
      "display_name": "Python 3",
      "language": "python",
      "name": "python3"
    },
    "language_info": {
      "codemirror_mode": {
        "name": "ipython",
        "version": 3
      },
      "file_extension": ".py",
      "mimetype": "text/x-python",
      "name": "python",
      "nbconvert_exporter": "python",
      "pygments_lexer": "ipython3",
      "version": "3.8.5"
    }
  },
  "cells": [
    {
      "cell_type": "markdown",
      "metadata": {
        "id": "WuBfdNAINyHY"
      },
      "source": [
        "# Large scale text analysis with deep learning\n",
        "\n",
        "Today we're gonna apply the newly learned tools for the task of predicting job salary.\n",
        "\n",
        "<img src=\"https://storage.googleapis.com/kaggle-competitions/kaggle/3342/media/salary%20prediction%20engine%20v2.png\" width=400px>\n",
        "\n",
        "_Special thanks to [Oleg Vasilev](https://github.com/Omrigan/) for the core assignment idea._"
      ]
    },
    {
      "cell_type": "code",
      "metadata": {
        "id": "dcUCKVmGNyHa"
      },
      "source": [
        "import numpy as np\n",
        "import pandas as pd\n",
        "import matplotlib.pyplot as plt\n",
        "%matplotlib inline"
      ],
      "execution_count": 1,
      "outputs": []
    },
    {
      "cell_type": "markdown",
      "metadata": {
        "id": "KhTvuYMgNyHb"
      },
      "source": [
        "### About the challenge\n",
        "For starters, let's download and unpack the data from [here](https://www.dropbox.com/s/5msc5ix7ndyba10/Train_rev1.csv.tar.gz?dl=0). \n",
        "\n",
        "You can also get it from [yadisk url](https://yadi.sk/d/vVEOWPFY3NruT7) the competition [page](https://www.kaggle.com/c/job-salary-prediction/data) (pick `Train_rev1.*`)."
      ]
    },
    {
      "cell_type": "code",
      "metadata": {
        "colab": {
          "base_uri": "https://localhost:8080/"
        },
        "id": "xRnFYkF_NyHb",
        "outputId": "759dbaa1-284f-4b48-b091-349a98b34a21"
      },
      "source": [
        "!curl -L https://www.dropbox.com/s/5msc5ix7ndyba10/Train_rev1.csv.tar.gz?dl=1 -o Train_rev1.csv.tar.gz\n",
        "!tar -xvzf ./Train_rev1.csv.tar.gz\n",
        "data = pd.read_csv(\"./Train_rev1.csv\", index_col=None)\n",
        "data.shape"
      ],
      "execution_count": 2,
      "outputs": [
        {
          "output_type": "stream",
          "text": [
            "  % Total    % Received % Xferd  Average Speed   Time    Time     Time  Current\n",
            "                                 Dload  Upload   Total   Spent    Left  Speed\n",
            "  0     0    0     0    0     0      0      0 --:--:-- --:--:-- --:--:--     0\n",
            "  0     0    0     0    0     0      0      0 --:--:-- --:--:-- --:--:--     0\n",
            "100  119M  100  119M    0     0  64.4M      0  0:00:01  0:00:01 --:--:--  156M\n",
            "Train_rev1.csv\n"
          ],
          "name": "stdout"
        },
        {
          "output_type": "execute_result",
          "data": {
            "text/plain": [
              "(244768, 12)"
            ]
          },
          "metadata": {
            "tags": []
          },
          "execution_count": 2
        }
      ]
    },
    {
      "cell_type": "markdown",
      "metadata": {
        "id": "K3P25RDqNyHd"
      },
      "source": [
        "One problem with salary prediction is that it's oddly distributed: there are many people who are paid standard salaries and a few that get tons o money. The distribution is fat-tailed on the right side, which is inconvenient for MSE minimization.\n",
        "\n",
        "There are several techniques to combat this: using a different loss function, predicting log-target instead of raw target or even replacing targets with their percentiles among all salaries in the training set. We gonna use logarithm for now.\n",
        "\n",
        "_You can read more [in the official description](https://www.kaggle.com/c/job-salary-prediction#description)._"
      ]
    },
    {
      "cell_type": "code",
      "metadata": {
        "colab": {
          "base_uri": "https://localhost:8080/",
          "height": 484
        },
        "id": "k7x8-lOkNyHd",
        "outputId": "dafd4e78-ae3f-42b9-e6aa-f0f41073cb2a"
      },
      "source": [
        "data.head()"
      ],
      "execution_count": 3,
      "outputs": [
        {
          "output_type": "execute_result",
          "data": {
            "text/html": [
              "<div>\n",
              "<style scoped>\n",
              "    .dataframe tbody tr th:only-of-type {\n",
              "        vertical-align: middle;\n",
              "    }\n",
              "\n",
              "    .dataframe tbody tr th {\n",
              "        vertical-align: top;\n",
              "    }\n",
              "\n",
              "    .dataframe thead th {\n",
              "        text-align: right;\n",
              "    }\n",
              "</style>\n",
              "<table border=\"1\" class=\"dataframe\">\n",
              "  <thead>\n",
              "    <tr style=\"text-align: right;\">\n",
              "      <th></th>\n",
              "      <th>Id</th>\n",
              "      <th>Title</th>\n",
              "      <th>FullDescription</th>\n",
              "      <th>LocationRaw</th>\n",
              "      <th>LocationNormalized</th>\n",
              "      <th>ContractType</th>\n",
              "      <th>ContractTime</th>\n",
              "      <th>Company</th>\n",
              "      <th>Category</th>\n",
              "      <th>SalaryRaw</th>\n",
              "      <th>SalaryNormalized</th>\n",
              "      <th>SourceName</th>\n",
              "    </tr>\n",
              "  </thead>\n",
              "  <tbody>\n",
              "    <tr>\n",
              "      <th>0</th>\n",
              "      <td>12612628</td>\n",
              "      <td>Engineering Systems Analyst</td>\n",
              "      <td>Engineering Systems Analyst Dorking Surrey Sal...</td>\n",
              "      <td>Dorking, Surrey, Surrey</td>\n",
              "      <td>Dorking</td>\n",
              "      <td>NaN</td>\n",
              "      <td>permanent</td>\n",
              "      <td>Gregory Martin International</td>\n",
              "      <td>Engineering Jobs</td>\n",
              "      <td>20000 - 30000/annum 20-30K</td>\n",
              "      <td>25000</td>\n",
              "      <td>cv-library.co.uk</td>\n",
              "    </tr>\n",
              "    <tr>\n",
              "      <th>1</th>\n",
              "      <td>12612830</td>\n",
              "      <td>Stress Engineer Glasgow</td>\n",
              "      <td>Stress Engineer Glasgow Salary **** to **** We...</td>\n",
              "      <td>Glasgow, Scotland, Scotland</td>\n",
              "      <td>Glasgow</td>\n",
              "      <td>NaN</td>\n",
              "      <td>permanent</td>\n",
              "      <td>Gregory Martin International</td>\n",
              "      <td>Engineering Jobs</td>\n",
              "      <td>25000 - 35000/annum 25-35K</td>\n",
              "      <td>30000</td>\n",
              "      <td>cv-library.co.uk</td>\n",
              "    </tr>\n",
              "    <tr>\n",
              "      <th>2</th>\n",
              "      <td>12612844</td>\n",
              "      <td>Modelling and simulation analyst</td>\n",
              "      <td>Mathematical Modeller / Simulation Analyst / O...</td>\n",
              "      <td>Hampshire, South East, South East</td>\n",
              "      <td>Hampshire</td>\n",
              "      <td>NaN</td>\n",
              "      <td>permanent</td>\n",
              "      <td>Gregory Martin International</td>\n",
              "      <td>Engineering Jobs</td>\n",
              "      <td>20000 - 40000/annum 20-40K</td>\n",
              "      <td>30000</td>\n",
              "      <td>cv-library.co.uk</td>\n",
              "    </tr>\n",
              "    <tr>\n",
              "      <th>3</th>\n",
              "      <td>12613049</td>\n",
              "      <td>Engineering Systems Analyst / Mathematical Mod...</td>\n",
              "      <td>Engineering Systems Analyst / Mathematical Mod...</td>\n",
              "      <td>Surrey, South East, South East</td>\n",
              "      <td>Surrey</td>\n",
              "      <td>NaN</td>\n",
              "      <td>permanent</td>\n",
              "      <td>Gregory Martin International</td>\n",
              "      <td>Engineering Jobs</td>\n",
              "      <td>25000 - 30000/annum 25K-30K negotiable</td>\n",
              "      <td>27500</td>\n",
              "      <td>cv-library.co.uk</td>\n",
              "    </tr>\n",
              "    <tr>\n",
              "      <th>4</th>\n",
              "      <td>12613647</td>\n",
              "      <td>Pioneer, Miser Engineering Systems Analyst</td>\n",
              "      <td>Pioneer, Miser  Engineering Systems Analyst Do...</td>\n",
              "      <td>Surrey, South East, South East</td>\n",
              "      <td>Surrey</td>\n",
              "      <td>NaN</td>\n",
              "      <td>permanent</td>\n",
              "      <td>Gregory Martin International</td>\n",
              "      <td>Engineering Jobs</td>\n",
              "      <td>20000 - 30000/annum 20-30K</td>\n",
              "      <td>25000</td>\n",
              "      <td>cv-library.co.uk</td>\n",
              "    </tr>\n",
              "  </tbody>\n",
              "</table>\n",
              "</div>"
            ],
            "text/plain": [
              "         Id  ...        SourceName\n",
              "0  12612628  ...  cv-library.co.uk\n",
              "1  12612830  ...  cv-library.co.uk\n",
              "2  12612844  ...  cv-library.co.uk\n",
              "3  12613049  ...  cv-library.co.uk\n",
              "4  12613647  ...  cv-library.co.uk\n",
              "\n",
              "[5 rows x 12 columns]"
            ]
          },
          "metadata": {
            "tags": []
          },
          "execution_count": 3
        }
      ]
    },
    {
      "cell_type": "code",
      "metadata": {
        "colab": {
          "base_uri": "https://localhost:8080/",
          "height": 263
        },
        "id": "WGqQTdOJNyHe",
        "outputId": "3927a9e1-2c67-40e4-8d7e-65661670e702"
      },
      "source": [
        "data['Log1pSalary'] = np.log1p(data['SalaryNormalized']).astype('float32')\n",
        "\n",
        "plt.figure(figsize=[8, 4])\n",
        "plt.subplot(1, 2, 1)\n",
        "plt.hist(data[\"SalaryNormalized\"], bins=20);\n",
        "\n",
        "plt.subplot(1, 2, 2)\n",
        "plt.hist(data['Log1pSalary'], bins=20);"
      ],
      "execution_count": 4,
      "outputs": [
        {
          "output_type": "display_data",
          "data": {
            "image/png": "[encoded data removed]",
            "text/plain": [
              "<Figure size 576x288 with 2 Axes>"
            ]
          },
          "metadata": {
            "tags": [],
            "needs_background": "light"
          }
        }
      ]
    },
    {
      "cell_type": "markdown",
      "metadata": {
        "id": "gmEHZsK2NyHe"
      },
      "source": [
        "Our task is to predict one number, __Log1pSalary__.\n",
        "\n",
        "To do so, our model can access a number of features:\n",
        "* Free text: __`Title`__ and  __`FullDescription`__\n",
        "* Categorical: __`Category`__, __`Company`__, __`LocationNormalized`__, __`ContractType`__, and __`ContractTime`__."
      ]
    },
    {
      "cell_type": "code",
      "metadata": {
        "colab": {
          "base_uri": "https://localhost:8080/",
          "height": 275
        },
        "id": "GifLkjmANyHf",
        "outputId": "26c5279e-c191-4828-ee4d-1ee8b8204997"
      },
      "source": [
        "text_columns = [\"Title\", \"FullDescription\"]\n",
        "categorical_columns = [\"Category\", \"Company\", \"LocationNormalized\", \"ContractType\", \"ContractTime\"]\n",
        "target_column = \"Log1pSalary\"\n",
        "\n",
        "data[categorical_columns] = data[categorical_columns].fillna('NaN') # cast missing values to string \"NaN\"\n",
        "\n",
        "data.sample(3)"
      ],
      "execution_count": 5,
      "outputs": [
        {
          "output_type": "execute_result",
          "data": {
            "text/html": [
              "<div>\n",
              "<style scoped>\n",
              "    .dataframe tbody tr th:only-of-type {\n",
              "        vertical-align: middle;\n",
              "    }\n",
              "\n",
              "    .dataframe tbody tr th {\n",
              "        vertical-align: top;\n",
              "    }\n",
              "\n",
              "    .dataframe thead th {\n",
              "        text-align: right;\n",
              "    }\n",
              "</style>\n",
              "<table border=\"1\" class=\"dataframe\">\n",
              "  <thead>\n",
              "    <tr style=\"text-align: right;\">\n",
              "      <th></th>\n",
              "      <th>Id</th>\n",
              "      <th>Title</th>\n",
              "      <th>FullDescription</th>\n",
              "      <th>LocationRaw</th>\n",
              "      <th>LocationNormalized</th>\n",
              "      <th>ContractType</th>\n",
              "      <th>ContractTime</th>\n",
              "      <th>Company</th>\n",
              "      <th>Category</th>\n",
              "      <th>SalaryRaw</th>\n",
              "      <th>SalaryNormalized</th>\n",
              "      <th>SourceName</th>\n",
              "      <th>Log1pSalary</th>\n",
              "    </tr>\n",
              "  </thead>\n",
              "  <tbody>\n",
              "    <tr>\n",
              "      <th>115269</th>\n",
              "      <td>69763084</td>\n",
              "      <td>Assistant / Deputy Manager</td>\n",
              "      <td>About The Company Earmarked as being THE RETAI...</td>\n",
              "      <td>Milton Keynes South East</td>\n",
              "      <td>Milton Keynes</td>\n",
              "      <td>full_time</td>\n",
              "      <td>NaN</td>\n",
              "      <td>Discover Retail</td>\n",
              "      <td>Retail Jobs</td>\n",
              "      <td>18000 - 23000</td>\n",
              "      <td>20500</td>\n",
              "      <td>discoverretail.co.uk</td>\n",
              "      <td>9.928229</td>\n",
              "    </tr>\n",
              "    <tr>\n",
              "      <th>78484</th>\n",
              "      <td>69015150</td>\n",
              "      <td>HR Advisor</td>\n",
              "      <td>HR Advisor sought by rapidly growing **** empl...</td>\n",
              "      <td>Rotherhithe, London</td>\n",
              "      <td>Rotherhithe</td>\n",
              "      <td>NaN</td>\n",
              "      <td>permanent</td>\n",
              "      <td>Pinnacle Recruitment Selection</td>\n",
              "      <td>HR &amp; Recruitment Jobs</td>\n",
              "      <td>25000 - 30000/annum 25000-30000</td>\n",
              "      <td>27500</td>\n",
              "      <td>cv-library.co.uk</td>\n",
              "      <td>10.221977</td>\n",
              "    </tr>\n",
              "    <tr>\n",
              "      <th>235229</th>\n",
              "      <td>72541306</td>\n",
              "      <td>QA Supervisor</td>\n",
              "      <td>QA Supervisor required for leading food produc...</td>\n",
              "      <td>Huntingdon, Cambridgeshire</td>\n",
              "      <td>Huntingdon</td>\n",
              "      <td>NaN</td>\n",
              "      <td>permanent</td>\n",
              "      <td>PMP Solutions Ltd</td>\n",
              "      <td>Retail Jobs</td>\n",
              "      <td>26000 - 28000/annum benefits</td>\n",
              "      <td>27000</td>\n",
              "      <td>cv-library.co.uk</td>\n",
              "      <td>10.203629</td>\n",
              "    </tr>\n",
              "  </tbody>\n",
              "</table>\n",
              "</div>"
            ],
            "text/plain": [
              "              Id                       Title  ...            SourceName Log1pSalary\n",
              "115269  69763084  Assistant / Deputy Manager  ...  discoverretail.co.uk    9.928229\n",
              "78484   69015150                  HR Advisor  ...      cv-library.co.uk   10.221977\n",
              "235229  72541306               QA Supervisor  ...      cv-library.co.uk   10.203629\n",
              "\n",
              "[3 rows x 13 columns]"
            ]
          },
          "metadata": {
            "tags": []
          },
          "execution_count": 5
        }
      ]
    },
    {
      "cell_type": "markdown",
      "metadata": {
        "id": "yodDhNPgNyHf"
      },
      "source": [
        "### Preprocessing text data\n",
        "\n",
        "Just like last week, applying NLP to a problem begins from tokenization: splitting raw text into sequences of tokens (words, punctuation, etc).\n",
        "\n",
        "__Your task__ is to lowercase and tokenize all texts under `Title` and `FullDescription` columns. Store the tokenized data as a __space-separated__ string of tokens for performance reasons.\n",
        "\n",
        "It's okay to use nltk tokenizers. Assertions were designed for WordPunctTokenizer, slight deviations are okay."
      ]
    },
    {
      "cell_type": "code",
      "metadata": {
        "colab": {
          "base_uri": "https://localhost:8080/"
        },
        "id": "b5BOUsm0NyHg",
        "outputId": "d6986145-b3be-4a8f-eb49-83c4406d9f56"
      },
      "source": [
        "print(\"Raw text:\")\n",
        "print(data[\"FullDescription\"][2::100000])"
      ],
      "execution_count": 6,
      "outputs": [
        {
          "output_type": "stream",
          "text": [
            "Raw text:\n",
            "2         Mathematical Modeller / Simulation Analyst / O...\n",
            "100002    A successful and high achieving specialist sch...\n",
            "200002    Web Designer  HTML, CSS, JavaScript, Photoshop...\n",
            "Name: FullDescription, dtype: object\n"
          ],
          "name": "stdout"
        }
      ]
    },
    {
      "cell_type": "code",
      "metadata": {
        "id": "OgGEdy1tNyHg"
      },
      "source": [
        "import nltk\n",
        "tokenizer = nltk.tokenize.WordPunctTokenizer()\n",
        "preprocess = lambda text: ' '.join(tokenizer.tokenize(text.lower()))\n",
        "\n",
        "# see task above\n",
        "#<YOUR CODE HERE>\n",
        "data[\"FullDescription\"] = [ preprocess(string) for string in data[\"FullDescription\"] ]\n",
        "data['Title'] = [ preprocess(string) for string in data[\"Title\"].astype(str) ]"
      ],
      "execution_count": 7,
      "outputs": []
    },
    {
      "cell_type": "code",
      "metadata": {
        "id": "ohMwvz7VNyHh"
      },
      "source": [
        ""
      ],
      "execution_count": null,
      "outputs": []
    },
    {
      "cell_type": "markdown",
      "metadata": {
        "id": "zgz_B5ivNyHh"
      },
      "source": [
        "Now we can assume that our text is a space-separated list of tokens:"
      ]
    },
    {
      "cell_type": "code",
      "metadata": {
        "colab": {
          "base_uri": "https://localhost:8080/"
        },
        "id": "7DgAb3lkNyHh",
        "outputId": "13768f36-5b07-4dac-d6ba-470621f030ce"
      },
      "source": [
        "print(\"Tokenized:\")\n",
        "print(data[\"FullDescription\"][2::100000])\n",
        "assert data[\"FullDescription\"][2][:50] == 'mathematical modeller / simulation analyst / opera'\n",
        "assert data[\"Title\"][54321] == 'international digital account manager ( german )'"
      ],
      "execution_count": 8,
      "outputs": [
        {
          "output_type": "stream",
          "text": [
            "Tokenized:\n",
            "2         mathematical modeller / simulation analyst / o...\n",
            "100002    a successful and high achieving specialist sch...\n",
            "200002    web designer html , css , javascript , photosh...\n",
            "Name: FullDescription, dtype: object\n"
          ],
          "name": "stdout"
        }
      ]
    },
    {
      "cell_type": "markdown",
      "metadata": {
        "id": "Mu1xRBJ_NyHi"
      },
      "source": [
        "Not all words are equally useful. Some of them are typos or rare words that are only present a few times. \n",
        "\n",
        "Let's count how many times is each word present in the data so that we can build a \"white list\" of known words."
      ]
    },
    {
      "cell_type": "code",
      "metadata": {
        "colab": {
          "base_uri": "https://localhost:8080/"
        },
        "id": "4z1lk1n6NyHi",
        "outputId": "eec4aaba-4e93-44fd-a528-14d5dfc77519"
      },
      "source": [
        "# Count how many times does each token occur in both \"Title\" and \"FullDescription\" in total\n",
        "# build a dictionary { token -> it's count }\n",
        "\n",
        "# token_counts = <YOUR CODE>\n",
        "\n",
        "from nltk.tokenize import word_tokenize\n",
        "nltk.download('punkt')\n",
        "\n",
        "tokenized_words_fulldesc = ([word_tokenize(i) for i in data[\"FullDescription\"]])\n",
        "tokenized_words_title = ([word_tokenize(i) for i in data['Title']])"
      ],
      "execution_count": 9,
      "outputs": [
        {
          "output_type": "stream",
          "text": [
            "[nltk_data] Downloading package punkt to /root/nltk_data...\n",
            "[nltk_data]   Package punkt is already up-to-date!\n"
          ],
          "name": "stdout"
        }
      ]
    },
    {
      "cell_type": "code",
      "metadata": {
        "id": "h5CktUmrNyHi"
      },
      "source": [
        "tokenized_words = tokenized_words_fulldesc + tokenized_words_title "
      ],
      "execution_count": 10,
      "outputs": []
    },
    {
      "cell_type": "code",
      "metadata": {
        "id": "rJgvNt6kNyHj"
      },
      "source": [
        "import itertools\n",
        "from collections import Counter\n",
        "\n",
        "tokenized_words_flatt = list(itertools.chain(*tokenized_words))\n",
        "\n",
        "token_counts = Counter(tokenized_words_flatt)\n",
        "\n",
        "# hint: you may or may not want to use collections.Counter <- used this for the last homework and will use it here also"
      ],
      "execution_count": 11,
      "outputs": []
    },
    {
      "cell_type": "code",
      "metadata": {
        "colab": {
          "base_uri": "https://localhost:8080/"
        },
        "id": "CL8Z8f6lNyHj",
        "outputId": "27abd8ad-cfba-4ec7-db63-1c506edbd7d3"
      },
      "source": [
        "print(\"Total unique tokens :\", len(token_counts))\n",
        "print('\\n'.join(map(str, token_counts.most_common(n=5))))\n",
        "print('...')\n",
        "print('\\n'.join(map(str, token_counts.most_common()[-3:])))\n",
        "\n",
        "# assert token_counts.most_common(1)[0][1] in  range(2600000, 2700000)\n",
        "assert len(token_counts) in range(200000, 210000)\n",
        "print('Correct!')"
      ],
      "execution_count": 12,
      "outputs": [
        {
          "output_type": "stream",
          "text": [
            "Total unique tokens : 201923\n",
            "('and', 2657388)\n",
            "('.', 2567578)\n",
            "(',', 2343362)\n",
            "('the', 2080994)\n",
            "('to', 2019884)\n",
            "...\n",
            "('improvemen', 1)\n",
            "('techniciancivil', 1)\n",
            "('mlnlycke', 1)\n",
            "Correct!\n"
          ],
          "name": "stdout"
        }
      ]
    },
    {
      "cell_type": "code",
      "metadata": {
        "colab": {
          "base_uri": "https://localhost:8080/",
          "height": 277
        },
        "id": "qDo3gtczNyHj",
        "outputId": "3814b49b-a6c4-45bf-cf5a-0e76fee51d76"
      },
      "source": [
        "# Let's see how many words are there for each count\n",
        "plt.hist(list(token_counts.values()), range=[0, 10**4], bins=50, log=True)\n",
        "plt.xlabel(\"Word counts\");"
      ],
      "execution_count": 13,
      "outputs": [
        {
          "output_type": "display_data",
          "data": {
            "image/png": "[encoded data removed]",
            "text/plain": [
              "<Figure size 432x288 with 1 Axes>"
            ]
          },
          "metadata": {
            "tags": [],
            "needs_background": "light"
          }
        }
      ]
    },
    {
      "cell_type": "markdown",
      "metadata": {
        "id": "6_qBqeT1NyHk"
      },
      "source": [
        "Now filter tokens a list of all tokens that occur at least 10 times."
      ]
    },
    {
      "cell_type": "code",
      "metadata": {
        "id": "RI-w8PrmNyHk"
      },
      "source": [
        "min_count = 10\n",
        "\n",
        "# tokens from token_counts keys that had at least min_count occurrences throughout the dataset\n",
        "#tokens = <YOUR CODE HERE>\n",
        "\n",
        "from itertools import dropwhile\n",
        "\n",
        "for key, count in dropwhile(lambda key_count: key_count[1] >= min_count, token_counts.most_common()):\n",
        "    del token_counts[key]\n",
        "    \n",
        "tokens = token_counts.keys()"
      ],
      "execution_count": 14,
      "outputs": []
    },
    {
      "cell_type": "code",
      "metadata": {
        "colab": {
          "base_uri": "https://localhost:8080/"
        },
        "id": "yMGZvBgPNyHk",
        "outputId": "e0bc9913-8688-46b2-fb90-03982c313e7b"
      },
      "source": [
        "# Add a special tokens for unknown and empty words\n",
        "UNK, PAD = \"UNK\", \"PAD\"\n",
        "tokens = [UNK, PAD] + sorted(tokens)\n",
        "print(\"Vocabulary size:\", len(tokens))\n",
        "\n",
        "assert type(tokens) == list\n",
        "assert len(tokens) in range(32000, 35000)\n",
        "assert 'me' in tokens\n",
        "assert UNK in tokens\n",
        "print(\"Correct!\")"
      ],
      "execution_count": 15,
      "outputs": [
        {
          "output_type": "stream",
          "text": [
            "Vocabulary size: 33919\n",
            "Correct!\n"
          ],
          "name": "stdout"
        }
      ]
    },
    {
      "cell_type": "markdown",
      "metadata": {
        "id": "FW9pXAFJNyHl"
      },
      "source": [
        "Build an inverse token index: a dictionary from token(string) to it's index in `tokens` (int)"
      ]
    },
    {
      "cell_type": "code",
      "metadata": {
        "id": "PwmKqjB-NyHl"
      },
      "source": [
        "# token_to_id = <your code here>\n",
        "\n",
        "token_to_id = dict(zip(tokens, range(len(tokens))))"
      ],
      "execution_count": 16,
      "outputs": []
    },
    {
      "cell_type": "code",
      "metadata": {
        "colab": {
          "base_uri": "https://localhost:8080/"
        },
        "id": "49g6ImJSNyHm",
        "outputId": "088de2c2-f954-4ad4-a256-930d8f9c326f"
      },
      "source": [
        "assert isinstance(token_to_id, dict)\n",
        "assert len(token_to_id) == len(tokens)\n",
        "for tok in tokens:\n",
        "    assert tokens[token_to_id[tok]] == tok\n",
        "\n",
        "print(\"Correct!\")"
      ],
      "execution_count": 17,
      "outputs": [
        {
          "output_type": "stream",
          "text": [
            "Correct!\n"
          ],
          "name": "stdout"
        }
      ]
    },
    {
      "cell_type": "markdown",
      "metadata": {
        "id": "6xrfXo5pNyHm"
      },
      "source": [
        "And finally, let's use the vocabulary you've built to map text lines into neural network-digestible matrices."
      ]
    },
    {
      "cell_type": "code",
      "metadata": {
        "id": "TyCQM_Y8NyHm"
      },
      "source": [
        "UNK_IX, PAD_IX = map(token_to_id.get, [UNK, PAD])\n",
        "\n",
        "def as_matrix(sequences, max_len=None):\n",
        "    \"\"\" Convert a list of tokens into a matrix with padding \"\"\"\n",
        "    if isinstance(sequences[0], str):\n",
        "        sequences = list(map(str.split, sequences))\n",
        "        \n",
        "    max_len = min(max(map(len, sequences)), max_len or float('inf'))\n",
        "    \n",
        "    matrix = np.full((len(sequences), max_len), np.int32(PAD_IX))\n",
        "    for i,seq in enumerate(sequences):\n",
        "        row_ix = [token_to_id.get(word, UNK_IX) for word in seq[:max_len]]\n",
        "        matrix[i, :len(row_ix)] = row_ix\n",
        "    \n",
        "    return matrix"
      ],
      "execution_count": 18,
      "outputs": []
    },
    {
      "cell_type": "code",
      "metadata": {
        "colab": {
          "base_uri": "https://localhost:8080/"
        },
        "id": "DkSK63VwNyHm",
        "outputId": "a487156b-e01d-4fe6-a603-c6c63621a9c4"
      },
      "source": [
        "print(\"Lines:\")\n",
        "print('\\n'.join(data[\"Title\"][::100100].values), end='\\n\\n')\n",
        "print(\"Matrix:\")\n",
        "print(as_matrix(data[\"Title\"][::100100]))"
      ],
      "execution_count": 19,
      "outputs": [
        {
          "output_type": "stream",
          "text": [
            "Lines:\n",
            "engineering systems analyst\n",
            "technical administrator food\n",
            "senior trading manager ambient\n",
            "\n",
            "Matrix:\n",
            "[[10581 29935  1941     1]\n",
            " [30238  1260 12335     1]\n",
            " [27419 31135 18638  1829]]\n"
          ],
          "name": "stdout"
        }
      ]
    },
    {
      "cell_type": "markdown",
      "metadata": {
        "id": "B4DXIyiQNyHn"
      },
      "source": [
        "Now let's  encode the categirical data we have.\n",
        "\n",
        "As usual, we shall use one-hot encoding for simplicity. Kudos if you implement more advanced encodings: tf-idf, pseudo-time-series, etc."
      ]
    },
    {
      "cell_type": "code",
      "metadata": {
        "colab": {
          "base_uri": "https://localhost:8080/"
        },
        "id": "4sizSZabNyHn",
        "outputId": "0d20674e-a011-4079-9ab2-b592dbc60e5a"
      },
      "source": [
        "from sklearn.feature_extraction import DictVectorizer\n",
        "\n",
        "# we only consider top-1k most frequent companies to minimize memory usage\n",
        "top_companies, top_counts = zip(*Counter(data['Company']).most_common(1000))\n",
        "recognized_companies = set(top_companies)\n",
        "data[\"Company\"] = data[\"Company\"].apply(lambda comp: comp if comp in recognized_companies else \"Other\")\n",
        "\n",
        "categorical_vectorizer = DictVectorizer(dtype=np.float32, sparse=False)\n",
        "categorical_vectorizer.fit(data[categorical_columns].apply(dict, axis=1))"
      ],
      "execution_count": 20,
      "outputs": [
        {
          "output_type": "execute_result",
          "data": {
            "text/plain": [
              "DictVectorizer(dtype=<class 'numpy.float32'>, separator='=', sort=True,\n",
              "               sparse=False)"
            ]
          },
          "metadata": {
            "tags": []
          },
          "execution_count": 20
        }
      ]
    },
    {
      "cell_type": "markdown",
      "metadata": {
        "id": "QhXo3LpCNyHn"
      },
      "source": [
        "### The deep learning part\n",
        "\n",
        "Once we've learned to tokenize the data, let's design a machine learning experiment.\n",
        "\n",
        "As before, we won't focus too much on validation, opting for a simple train-test split.\n",
        "\n",
        "__To be completely rigorous,__ we've comitted a small crime here: we used the whole data for tokenization and vocabulary building. A more strict way would be to do that part on training set only. You may want to do that and measure the magnitude of changes."
      ]
    },
    {
      "cell_type": "code",
      "metadata": {
        "colab": {
          "base_uri": "https://localhost:8080/"
        },
        "id": "qm0qSxaUNyHo",
        "outputId": "c25aca8e-ca44-4567-e734-5d3af6cf1d38"
      },
      "source": [
        "from sklearn.model_selection import train_test_split\n",
        "\n",
        "data_train, data_val = train_test_split(data, test_size=0.2, random_state=42)\n",
        "data_train.index = range(len(data_train))\n",
        "data_val.index = range(len(data_val))\n",
        "\n",
        "print(\"Train size = \", len(data_train))\n",
        "print(\"Validation size = \", len(data_val))"
      ],
      "execution_count": 21,
      "outputs": [
        {
          "output_type": "stream",
          "text": [
            "Train size =  195814\n",
            "Validation size =  48954\n"
          ],
          "name": "stdout"
        }
      ]
    },
    {
      "cell_type": "code",
      "metadata": {
        "id": "M__DZcOSNyHo"
      },
      "source": [
        "def make_batch(data, max_len=None, word_dropout=0):\n",
        "    \"\"\"\n",
        "    Creates a keras-friendly dict from the batch data.\n",
        "    :param word_dropout: replaces token index with UNK_IX with this probability\n",
        "    :returns: a dict with {'title' : int64[batch, title_max_len]\n",
        "    \"\"\"\n",
        "    batch = {}\n",
        "    batch[\"Title\"] = as_matrix(data[\"Title\"].values, max_len)\n",
        "    batch[\"FullDescription\"] = as_matrix(data[\"FullDescription\"].values, max_len)\n",
        "    batch['Categorical'] = categorical_vectorizer.transform(data[categorical_columns].apply(dict, axis=1))\n",
        "    \n",
        "    if word_dropout != 0:\n",
        "        batch[\"FullDescription\"] = apply_word_dropout(batch[\"FullDescription\"], 1. - word_dropout)\n",
        "    \n",
        "    if target_column in data.columns:\n",
        "        batch[target_column] = data[target_column].values\n",
        "    \n",
        "    return batch\n",
        "\n",
        "def apply_word_dropout(matrix, keep_prop, replace_with=UNK_IX, pad_ix=PAD_IX,):\n",
        "    dropout_mask = np.random.choice(2, np.shape(matrix), p=[keep_prop, 1 - keep_prop])\n",
        "    dropout_mask &= matrix != pad_ix\n",
        "    return np.choose(dropout_mask, [matrix, np.full_like(matrix, replace_with)])"
      ],
      "execution_count": 22,
      "outputs": []
    },
    {
      "cell_type": "code",
      "metadata": {
        "colab": {
          "base_uri": "https://localhost:8080/"
        },
        "id": "Q6ZJ97sCNyHo",
        "outputId": "0187b555-b21b-4991-e4fa-fb5433c6c797"
      },
      "source": [
        "# let's see what we have \n",
        "make_batch(data_train[:3], max_len=10)"
      ],
      "execution_count": 23,
      "outputs": [
        {
          "output_type": "execute_result",
          "data": {
            "text/plain": [
              "{'Categorical': array([[0., 0., 0., ..., 0., 0., 0.],\n",
              "        [0., 0., 0., ..., 0., 0., 0.],\n",
              "        [0., 0., 0., ..., 0., 0., 0.]], dtype=float32),\n",
              " 'FullDescription': array([[27419, 29667, 33448, 32713,   757, 27419, 29667, 33448, 16225,\n",
              "         32713],\n",
              "        [29013,    38, 18949, 19816, 15328, 22936,  3826, 25285,   738,\n",
              "            10],\n",
              "        [30520, 21730, 20375,  6183, 16225,  7939, 27267,   757, 30186,\n",
              "         17520]], dtype=int32),\n",
              " 'Log1pSalary': array([ 9.71154 , 10.463132, 10.71444 ], dtype=float32),\n",
              " 'Title': array([[27419, 29667, 33448,     1,     1,     1,     1],\n",
              "        [29013,    38, 18949, 19816, 15328, 22936,  3826],\n",
              "        [10383, 30186, 17520,     8,  8479, 28931,     9]], dtype=int32)}"
            ]
          },
          "metadata": {
            "tags": []
          },
          "execution_count": 23
        }
      ]
    },
    {
      "cell_type": "markdown",
      "metadata": {
        "id": "3y8ZRp85NyHp"
      },
      "source": [
        "#### Architecture\n",
        "\n",
        "Our basic model consists of three branches:\n",
        "* Title encoder\n",
        "* Description encoder\n",
        "* Categorical features encoder\n",
        "\n",
        "We will then feed all 3 branches into one common network that predicts salary.\n",
        "\n",
        "<img src=\"https://github.com/yandexdataschool/nlp_course/raw/master/resources/w2_conv_arch.png\" width=600px>"
      ]
    },
    {
      "cell_type": "markdown",
      "metadata": {
        "id": "lh7J9S1PNyHp"
      },
      "source": [
        "This clearly doesn't fit into keras' __Sequential__ interface. To build such a network, one will have to use __[Keras Functional API](https://keras.io/models/model/)__."
      ]
    },
    {
      "cell_type": "code",
      "metadata": {
        "id": "vId_hETpNyHp"
      },
      "source": [
        ""
      ],
      "execution_count": null,
      "outputs": []
    },
    {
      "cell_type": "code",
      "metadata": {
        "id": "B7UsRVEnNyHq"
      },
      "source": [
        "import keras\n",
        "import keras.layers as L"
      ],
      "execution_count": 70,
      "outputs": []
    },
    {
      "cell_type": "code",
      "metadata": {
        "id": "zg5QxQb2NyHq"
      },
      "source": [
        "def build_model(n_tokens=len(tokens), n_cat_features=len(categorical_vectorizer.vocabulary_), hid_size=64):\n",
        "    \"\"\" Build a model that maps three data sources to a single linear output: predicted log1p(salary) \"\"\"\n",
        "    \n",
        "    l_title = L.Input(shape=[None], name=\"Title\")\n",
        "    l_descr = L.Input(shape=[None], name=\"FullDescription\")\n",
        "    l_categ = L.Input(shape=[n_cat_features], name=\"Categorical\")\n",
        "      \n",
        "    # <YOUR CODE>\n",
        "    # Build your monster!\n",
        "    # spent so much time on this! then found a hint in the below text - conv1d should be used ;)\n",
        "\n",
        "    # just simply coded what is written in the figure above without thinking too much\n",
        "    x_title = L.Embedding(n_tokens, hid_size)(l_title)\n",
        "    x_title = L.Conv1D(hid_size, kernel_size = 3)(x_title)\n",
        "    x_title = L.GlobalMaxPooling1D()(x_title) # wasn't working without this\n",
        "    x_title = L.Dense(hid_size, activation='relu')(x_title)\n",
        "    \n",
        "    x_descr = L.Embedding(n_tokens, hid_size)(l_descr)\n",
        "    x_descr = L.Conv1D(hid_size, kernel_size = 3)(x_descr)\n",
        "    x_descr = L.GlobalMaxPooling1D()(x_descr)\n",
        "    x_descr = L.Dense(hid_size, activation='relu')(x_descr)\n",
        "    \n",
        "    x_categ = L.Dense(hid_size, activation='relu')(l_categ)\n",
        "    \n",
        "#     x_title = L.Dense(hid_size, activation='relu')(l_title)\n",
        "#     x_descr = L.Dense(hid_size, activation='relu')(l_descr)\n",
        "#     x_categ = L.Dense(hid_size, activation='relu')(l_categ)\n",
        "    \n",
        "    x = L.concatenate([x_title, x_descr, x_categ])\n",
        "    \n",
        "    x = L.Dense(hid_size, activation='relu')(x)\n",
        "  \n",
        "    output_layer = L.Dense(1, activation=\"relu\")(x)\n",
        "    # # end of your code\n",
        "    \n",
        "    model = keras.models.Model(inputs=[l_title, l_descr, l_categ], outputs=[output_layer])\n",
        "    model.compile('adam', 'mean_squared_error', metrics=['mean_absolute_error'])\n",
        "    return model\n",
        "    "
      ],
      "execution_count": 71,
      "outputs": []
    },
    {
      "cell_type": "code",
      "metadata": {
        "id": "YU2cSzdplWzH"
      },
      "source": [
        ""
      ],
      "execution_count": null,
      "outputs": []
    },
    {
      "cell_type": "code",
      "metadata": {
        "colab": {
          "base_uri": "https://localhost:8080/"
        },
        "id": "01l86SIzduAJ",
        "outputId": "5f2620d2-aff4-49af-af73-b3c4a34d6dd3"
      },
      "source": [
        "model = build_model()\n",
        "model.summary()\n",
        "\n",
        "### nice! this is working!"
      ],
      "execution_count": 72,
      "outputs": [
        {
          "output_type": "stream",
          "text": [
            "Model: \"model_16\"\n",
            "__________________________________________________________________________________________________\n",
            "Layer (type)                    Output Shape         Param #     Connected to                     \n",
            "==================================================================================================\n",
            "Title (InputLayer)              [(None, None)]       0                                            \n",
            "__________________________________________________________________________________________________\n",
            "FullDescription (InputLayer)    [(None, None)]       0                                            \n",
            "__________________________________________________________________________________________________\n",
            "embedding_33 (Embedding)        (None, None, 64)     2170816     Title[0][0]                      \n",
            "__________________________________________________________________________________________________\n",
            "embedding_34 (Embedding)        (None, None, 64)     2170816     FullDescription[0][0]            \n",
            "__________________________________________________________________________________________________\n",
            "conv1d_50 (Conv1D)              (None, None, 64)     12352       embedding_33[0][0]               \n",
            "__________________________________________________________________________________________________\n",
            "conv1d_51 (Conv1D)              (None, None, 64)     12352       embedding_34[0][0]               \n",
            "__________________________________________________________________________________________________\n",
            "global_max_pooling1d_44 (Global (None, 64)           0           conv1d_50[0][0]                  \n",
            "__________________________________________________________________________________________________\n",
            "global_max_pooling1d_45 (Global (None, 64)           0           conv1d_51[0][0]                  \n",
            "__________________________________________________________________________________________________\n",
            "Categorical (InputLayer)        [(None, 3768)]       0                                            \n",
            "__________________________________________________________________________________________________\n",
            "dense_116 (Dense)               (None, 64)           4160        global_max_pooling1d_44[0][0]    \n",
            "__________________________________________________________________________________________________\n",
            "dense_117 (Dense)               (None, 64)           4160        global_max_pooling1d_45[0][0]    \n",
            "__________________________________________________________________________________________________\n",
            "dense_118 (Dense)               (None, 64)           241216      Categorical[0][0]                \n",
            "__________________________________________________________________________________________________\n",
            "concatenate_33 (Concatenate)    (None, 192)          0           dense_116[0][0]                  \n",
            "                                                                 dense_117[0][0]                  \n",
            "                                                                 dense_118[0][0]                  \n",
            "__________________________________________________________________________________________________\n",
            "dense_119 (Dense)               (None, 64)           12352       concatenate_33[0][0]             \n",
            "__________________________________________________________________________________________________\n",
            "dense_120 (Dense)               (None, 1)            65          dense_119[0][0]                  \n",
            "==================================================================================================\n",
            "Total params: 4,628,289\n",
            "Trainable params: 4,628,289\n",
            "Non-trainable params: 0\n",
            "__________________________________________________________________________________________________\n"
          ],
          "name": "stdout"
        }
      ]
    },
    {
      "cell_type": "code",
      "metadata": {
        "colab": {
          "base_uri": "https://localhost:8080/"
        },
        "id": "VaJfDvtGNyHr",
        "outputId": "c1e39d87-dbca-42c5-94b2-ad3577df10b3"
      },
      "source": [
        "dummy_pred = model.predict(make_batch(data_train[:100]))\n",
        "dummy_loss = model.train_on_batch(make_batch(data_train[:100]), data_train['Log1pSalary'][:100])[0]\n",
        "assert dummy_pred.shape == (100, 1)\n",
        "assert len(np.unique(dummy_pred)) > 20, \"model returns suspiciously few unique outputs. Check your initialization\"\n",
        "assert np.ndim(dummy_loss) == 0 and 0. <= dummy_loss <= 250., \"make sure you minimize MSE\""
      ],
      "execution_count": 73,
      "outputs": [
        {
          "output_type": "stream",
          "text": [
            "/usr/local/lib/python3.7/dist-packages/tensorflow/python/keras/engine/functional.py:595: UserWarning: Input dict contained keys ['Log1pSalary'] which did not match any model input. They will be ignored by the model.\n",
            "  [n for n in tensors.keys() if n not in ref_input_names])\n"
          ],
          "name": "stderr"
        }
      ]
    },
    {
      "cell_type": "markdown",
      "metadata": {
        "id": "M57BLl4hNyHr"
      },
      "source": [
        "#### Training and evaluation\n",
        "\n",
        "As usual, we gonna feed our monster with random minibatches of data. \n",
        "\n",
        "As we train, we want to monitor not only loss function, which is computed in log-space, but also the actual error measured in dollars."
      ]
    },
    {
      "cell_type": "code",
      "metadata": {
        "id": "t3luUgZtNyHr"
      },
      "source": [
        "def iterate_minibatches(data, batch_size=256, shuffle=True, cycle=False, **kwargs):\n",
        "    \"\"\" iterates minibatches of data in random order \"\"\"\n",
        "    while True:\n",
        "        indices = np.arange(len(data))\n",
        "        if shuffle:\n",
        "            indices = np.random.permutation(indices)\n",
        "\n",
        "        for start in range(0, len(indices), batch_size):\n",
        "            batch = make_batch(data.iloc[indices[start : start + batch_size]], **kwargs)\n",
        "            target = batch.pop(target_column)\n",
        "            yield batch, target\n",
        "        \n",
        "        if not cycle: break"
      ],
      "execution_count": 74,
      "outputs": []
    },
    {
      "cell_type": "markdown",
      "metadata": {
        "id": "WLtbk_xuNyHs"
      },
      "source": [
        "### Model training\n",
        "\n",
        "We can now fit our model the usual minibatch way. The interesting part is that we train on an infinite stream of minibatches, produced by `iterate_minibatches` function."
      ]
    },
    {
      "cell_type": "code",
      "metadata": {
        "colab": {
          "base_uri": "https://localhost:8080/"
        },
        "id": "OvliwPynNyHs",
        "outputId": "2d825419-373b-4ab3-d0e9-e68b3072541e"
      },
      "source": [
        "batch_size = 256\n",
        "epochs = 20            # definitely too small\n",
        "steps_per_epoch = 100  # for full pass over data: (len(data_train) - 1) // batch_size + 1\n",
        "\n",
        "# model = build_model()\n",
        "build_model()\n",
        "\n",
        "history_1 = model.fit(iterate_minibatches(data_train, batch_size, cycle=True, word_dropout=0.05), \n",
        "                    epochs=epochs, steps_per_epoch=steps_per_epoch,\n",
        "                    \n",
        "                    validation_data=iterate_minibatches(data_val, batch_size, cycle=True),\n",
        "                    validation_steps=data_val.shape[0] // batch_size\n",
        "                   )"
      ],
      "execution_count": 75,
      "outputs": [
        {
          "output_type": "stream",
          "text": [
            "Epoch 1/20\n",
            "100/100 [==============================] - 21s 203ms/step - loss: 17.4203 - mean_absolute_error: 2.5876 - val_loss: 0.3369 - val_mean_absolute_error: 0.4442\n",
            "Epoch 2/20\n",
            "100/100 [==============================] - 20s 197ms/step - loss: 0.2458 - mean_absolute_error: 0.3834 - val_loss: 0.1935 - val_mean_absolute_error: 0.3355\n",
            "Epoch 3/20\n",
            "100/100 [==============================] - 20s 199ms/step - loss: 0.1557 - mean_absolute_error: 0.3015 - val_loss: 0.1286 - val_mean_absolute_error: 0.2722\n",
            "Epoch 4/20\n",
            "100/100 [==============================] - 20s 199ms/step - loss: 0.1147 - mean_absolute_error: 0.2581 - val_loss: 0.0992 - val_mean_absolute_error: 0.2381\n",
            "Epoch 5/20\n",
            "100/100 [==============================] - 20s 198ms/step - loss: 0.0948 - mean_absolute_error: 0.2323 - val_loss: 0.0876 - val_mean_absolute_error: 0.2220\n",
            "Epoch 6/20\n",
            "100/100 [==============================] - 20s 200ms/step - loss: 0.0842 - mean_absolute_error: 0.2177 - val_loss: 0.0798 - val_mean_absolute_error: 0.2109\n",
            "Epoch 7/20\n",
            "100/100 [==============================] - 20s 200ms/step - loss: 0.0817 - mean_absolute_error: 0.2112 - val_loss: 0.0740 - val_mean_absolute_error: 0.2024\n",
            "Epoch 8/20\n",
            "100/100 [==============================] - 20s 198ms/step - loss: 0.0706 - mean_absolute_error: 0.1974 - val_loss: 0.0702 - val_mean_absolute_error: 0.1969\n",
            "Epoch 9/20\n",
            "100/100 [==============================] - 20s 199ms/step - loss: 0.0616 - mean_absolute_error: 0.1834 - val_loss: 0.0681 - val_mean_absolute_error: 0.1937\n",
            "Epoch 10/20\n",
            "100/100 [==============================] - 20s 199ms/step - loss: 0.0601 - mean_absolute_error: 0.1815 - val_loss: 0.0671 - val_mean_absolute_error: 0.1918\n",
            "Epoch 11/20\n",
            "100/100 [==============================] - 20s 199ms/step - loss: 0.0588 - mean_absolute_error: 0.1795 - val_loss: 0.0652 - val_mean_absolute_error: 0.1890\n",
            "Epoch 12/20\n",
            "100/100 [==============================] - 20s 199ms/step - loss: 0.0592 - mean_absolute_error: 0.1803 - val_loss: 0.0654 - val_mean_absolute_error: 0.1895\n",
            "Epoch 13/20\n",
            "100/100 [==============================] - 20s 198ms/step - loss: 0.0597 - mean_absolute_error: 0.1806 - val_loss: 0.0630 - val_mean_absolute_error: 0.1848\n",
            "Epoch 14/20\n",
            "100/100 [==============================] - 20s 201ms/step - loss: 0.0580 - mean_absolute_error: 0.1779 - val_loss: 0.0614 - val_mean_absolute_error: 0.1819\n",
            "Epoch 15/20\n",
            "100/100 [==============================] - 20s 200ms/step - loss: 0.0589 - mean_absolute_error: 0.1789 - val_loss: 0.0609 - val_mean_absolute_error: 0.1812\n",
            "Epoch 16/20\n",
            "100/100 [==============================] - 20s 202ms/step - loss: 0.0476 - mean_absolute_error: 0.1599 - val_loss: 0.0591 - val_mean_absolute_error: 0.1785\n",
            "Epoch 17/20\n",
            "100/100 [==============================] - 20s 198ms/step - loss: 0.0447 - mean_absolute_error: 0.1548 - val_loss: 0.0593 - val_mean_absolute_error: 0.1785\n",
            "Epoch 18/20\n",
            "100/100 [==============================] - 20s 201ms/step - loss: 0.0461 - mean_absolute_error: 0.1571 - val_loss: 0.0597 - val_mean_absolute_error: 0.1796\n",
            "Epoch 19/20\n",
            "100/100 [==============================] - 20s 200ms/step - loss: 0.0452 - mean_absolute_error: 0.1567 - val_loss: 0.0596 - val_mean_absolute_error: 0.1799\n",
            "Epoch 20/20\n",
            "100/100 [==============================] - 20s 200ms/step - loss: 0.0456 - mean_absolute_error: 0.1580 - val_loss: 0.0610 - val_mean_absolute_error: 0.1827\n"
          ],
          "name": "stdout"
        }
      ]
    },
    {
      "cell_type": "code",
      "metadata": {
        "colab": {
          "base_uri": "https://localhost:8080/",
          "height": 280
        },
        "id": "mvUp6HW8tgu2",
        "outputId": "4b1c31a7-bf39-408f-f937-5bb81bf1722d"
      },
      "source": [
        "import matplotlib.pyplot as plt\n",
        " \n",
        "plt.plot(history_1.history['mean_absolute_error'], label='train_mae')\n",
        "plt.plot(history_1.history['val_mean_absolute_error'], label='val_mae')\n",
        "plt.legend(loc=\"upper right\")"
      ],
      "execution_count": 76,
      "outputs": [
        {
          "output_type": "execute_result",
          "data": {
            "text/plain": [
              "<matplotlib.legend.Legend at 0x7fcb7267f150>"
            ]
          },
          "metadata": {
            "tags": []
          },
          "execution_count": 76
        },
        {
          "output_type": "display_data",
          "data": {
            "image/png": "[encoded data removed]",
            "text/plain": [
              "<Figure size 432x288 with 1 Axes>"
            ]
          },
          "metadata": {
            "tags": [],
            "needs_background": "light"
          }
        }
      ]
    },
    {
      "cell_type": "code",
      "metadata": {
        "colab": {
          "base_uri": "https://localhost:8080/"
        },
        "id": "75L8YO_BNyHs",
        "outputId": "1598efb6-a71a-4598-f9a8-cc0aa4771f61"
      },
      "source": [
        "# ok, seems that this works, \n",
        "\n",
        "def print_metrics(model, data, batch_size=batch_size, name=\"\", **kw):\n",
        "    squared_error = abs_error = num_samples = 0.0\n",
        "    for batch_x, batch_y in iterate_minibatches(data, batch_size=batch_size, shuffle=False, **kw):\n",
        "        batch_pred = model.predict(batch_x)[:, 0]\n",
        "        squared_error += np.sum(np.square(batch_pred - batch_y))\n",
        "        abs_error += np.sum(np.abs(batch_pred - batch_y))\n",
        "        num_samples += len(batch_y)\n",
        "    print(\"%s results:\" % (name or \"\"))\n",
        "    print(\"Mean square error: %.5f\" % (squared_error / num_samples))\n",
        "    print(\"Mean absolute error: %.5f\" % (abs_error / num_samples))\n",
        "    return squared_error, abs_error\n",
        "    \n",
        "print_metrics(model, data_train, name='Train')\n",
        "print_metrics(model, data_val, name='Val');"
      ],
      "execution_count": 77,
      "outputs": [
        {
          "output_type": "stream",
          "text": [
            "Train results:\n",
            "Mean square error: 0.03859\n",
            "Mean absolute error: 0.14576\n",
            "Val results:\n",
            "Mean square error: 0.06097\n",
            "Mean absolute error: 0.18276\n"
          ],
          "name": "stdout"
        }
      ]
    },
    {
      "cell_type": "markdown",
      "metadata": {
        "id": "sqCyudA1NyHs"
      },
      "source": [
        "### Bonus part: explaining model predictions\n",
        "\n",
        "It's usually a good idea to understand how your model works before you let it make actual decisions. It's simple for linear models: just see which words learned positive or negative weights. However, its much harder for neural networks that learn complex nonlinear dependencies.\n",
        "\n",
        "There are, however, some ways to look inside the black box:\n",
        "* Seeing how model responds to input perturbations\n",
        "* Finding inputs that maximize/minimize activation of some chosen neurons (_read more [on distill.pub](https://distill.pub/2018/building-blocks/)_)\n",
        "* Building local linear approximations to your neural network: [article](https://arxiv.org/abs/1602.04938), [eli5 library](https://github.com/TeamHG-Memex/eli5/tree/master/eli5/formatters)\n",
        "\n",
        "Today we gonna try the first method just because it's the simplest one."
      ]
    },
    {
      "cell_type": "code",
      "metadata": {
        "id": "nJAuoDdrNyHt"
      },
      "source": [
        "def explain(model, sample, col_name='Title'):\n",
        "    \"\"\" Computes the effect each word had on model predictions \"\"\"\n",
        "    sample = dict(sample)\n",
        "    sample_col_tokens = [tokens[token_to_id.get(tok, 0)] for tok in sample[col_name].split()]\n",
        "    data_drop_one_token = pd.DataFrame([sample] * (len(sample_col_tokens) + 1))\n",
        "\n",
        "    for drop_i in range(len(sample_col_tokens)):\n",
        "        data_drop_one_token.loc[drop_i, col_name] = ' '.join(UNK if i == drop_i else tok\n",
        "                                                   for i, tok in enumerate(sample_col_tokens)) \n",
        "\n",
        "    *predictions_drop_one_token, baseline_pred = model.predict(make_batch(data_drop_one_token))[:, 0]\n",
        "    diffs = baseline_pred - predictions_drop_one_token\n",
        "    return list(zip(sample_col_tokens, diffs))"
      ],
      "execution_count": 78,
      "outputs": []
    },
    {
      "cell_type": "code",
      "metadata": {
        "id": "RqInQJYeNyHt"
      },
      "source": [
        "from IPython.display import HTML, display_html\n",
        "\n",
        "def draw_html(tokens_and_weights, cmap=plt.get_cmap(\"bwr\"), display=True,\n",
        "              token_template=\"\"\"<span style=\"background-color: {color_hex}\">{token}</span>\"\"\",\n",
        "              font_style=\"font-size:14px;\"\n",
        "             ):\n",
        "    \n",
        "    def get_color_hex(weight):\n",
        "        rgba = cmap(1. / (1 + np.exp(weight)), bytes=True)\n",
        "        return '#%02X%02X%02X' % rgba[:3]\n",
        "    \n",
        "    tokens_html = [\n",
        "        token_template.format(token=token, color_hex=get_color_hex(weight))\n",
        "        for token, weight in tokens_and_weights\n",
        "    ]\n",
        "    \n",
        "    \n",
        "    raw_html = \"\"\"<p style=\"{}\">{}</p>\"\"\".format(font_style, ' '.join(tokens_html))\n",
        "    if display:\n",
        "        display_html(HTML(raw_html))\n",
        "        \n",
        "    return raw_html\n",
        "    "
      ],
      "execution_count": 79,
      "outputs": []
    },
    {
      "cell_type": "code",
      "metadata": {
        "id": "PKZOjgSQNyHt",
        "colab": {
          "base_uri": "https://localhost:8080/",
          "height": 310
        },
        "outputId": "9a1c34d4-ba2d-4b32-8e4b-b6dfc49514f8"
      },
      "source": [
        "i = 36605\n",
        "tokens_and_weights = explain(model, data.loc[i], \"Title\")\n",
        "draw_html([(tok, weight * 5) for tok, weight in tokens_and_weights], font_style='font-size:20px;');\n",
        "\n",
        "tokens_and_weights = explain(model, data.loc[i], \"FullDescription\")\n",
        "draw_html([(tok, weight * 10) for tok, weight in tokens_and_weights]);"
      ],
      "execution_count": 80,
      "outputs": [
        {
          "output_type": "stream",
          "text": [
            "/usr/local/lib/python3.7/dist-packages/tensorflow/python/keras/engine/functional.py:595: UserWarning: Input dict contained keys ['Log1pSalary'] which did not match any model input. They will be ignored by the model.\n",
            "  [n for n in tensors.keys() if n not in ref_input_names])\n"
          ],
          "name": "stderr"
        },
        {
          "output_type": "display_data",
          "data": {
            "text/html": [
              "<p style=\"font-size:20px;\"><span style=\"background-color: #DADAFF\">sales</span> <span style=\"background-color: #CECEFF\">specialist</span> <span style=\"background-color: #FF7474\">iv</span> <span style=\"background-color: #FFB8B8\">access</span> <span style=\"background-color: #FFE8E8\">and</span> <span style=\"background-color: #FFEEEE\">infusion</span></p>"
            ]
          },
          "metadata": {
            "tags": []
          }
        },
        {
          "output_type": "display_data",
          "data": {
            "text/html": [
              "<p style=\"font-size:14px;\"><span style=\"background-color: #FFF8F8\">sales</span> <span style=\"background-color: #FFCACA\">representative</span> <span style=\"background-color: #FFE4E4\">medical</span> <span style=\"background-color: #FFFEFE\">sales</span> <span style=\"background-color: #FFE2E2\">iv</span> <span style=\"background-color: #FFF6F6\">access</span> <span style=\"background-color: #FFFCFC\">and</span> <span style=\"background-color: #FFE4E4\">infusion</span> <span style=\"background-color: #FFFCFC\">an</span> <span style=\"background-color: #FFFCFC\">opportunity</span> <span style=\"background-color: #FFFCFC\">to</span> <span style=\"background-color: #FFF4F4\">work</span> <span style=\"background-color: #FFF6F6\">for</span> <span style=\"background-color: #FFF2F2\">the</span> <span style=\"background-color: #FFDADA\">industry</span> <span style=\"background-color: #FFE8E8\">leading</span> <span style=\"background-color: #FFDADA\">manufacturer</span> <span style=\"background-color: #FFECEC\">of</span> <span style=\"background-color: #FFDCDC\">iv</span> <span style=\"background-color: #FFF6F6\">access</span> <span style=\"background-color: #FFFEFE\">and</span> <span style=\"background-color: #FFFEFE\">infusion</span> <span style=\"background-color: #FFFEFE\">solutions</span> <span style=\"background-color: #FFCECE\">.</span> <span style=\"background-color: #FFDCDC\">formally</span> <span style=\"background-color: #FFDEDE\">recognised</span> <span style=\"background-color: #FFECEC\">as</span> <span style=\"background-color: #FFF8F8\">the</span> <span style=\"background-color: #FFFEFE\">number</span> <span style=\"background-color: #FFFEFE\">****</span> <span style=\"background-color: #FFFEFE\">company</span> <span style=\"background-color: #FFFEFE\">in</span> <span style=\"background-color: #FFDCDC\">this</span> <span style=\"background-color: #FFFEFE\">market</span> <span style=\"background-color: #FFD0D0\">space</span> <span style=\"background-color: #FFECEC\">,</span> <span style=\"background-color: #FFF8F8\">our</span> <span style=\"background-color: #FEFEFF\">client</span> <span style=\"background-color: #FFF4F4\">are</span> <span style=\"background-color: #FFF6F6\">an</span> <span style=\"background-color: #FFE0E0\">ethical</span> <span style=\"background-color: #D6D6FF\">and</span> <span style=\"background-color: #E3E3FF\">dynamic</span> <span style=\"background-color: #D6D6FF\">organisation</span> <span style=\"background-color: #FFFEFE\">absolutely</span> <span style=\"background-color: #FFFEFE\">committed</span> <span style=\"background-color: #FFFEFE\">to</span> <span style=\"background-color: #FFF4F4\">the</span> <span style=\"background-color: #FFE8E8\">advancement</span> <span style=\"background-color: #FEFEFF\">of</span> <span style=\"background-color: #FFECEC\">innovative</span> <span style=\"background-color: #FFFEFE\">technologies</span> <span style=\"background-color: #FFFEFE\">.</span> <span style=\"background-color: #FFF8F8\">job</span> <span style=\"background-color: #F6F6FF\">title</span> <span style=\"background-color: #FFF4F4\">:</span> <span style=\"background-color: #FCFCFF\">sales</span> <span style=\"background-color: #FFFEFE\">specialist</span> <span style=\"background-color: #FFDEDE\">iv</span> <span style=\"background-color: #FFF6F6\">access</span> <span style=\"background-color: #FFF8F8\">and</span> <span style=\"background-color: #FFFEFE\">infusion</span> <span style=\"background-color: #FFFEFE\">selling</span> <span style=\"background-color: #FFF4F4\">:</span> <span style=\"background-color: #FFFEFE\">medication</span> <span style=\"background-color: #FFE0E0\">delivery</span> <span style=\"background-color: #FFFEFE\">solutions</span> <span style=\"background-color: #FFDADA\">selling</span> <span style=\"background-color: #FFFEFE\">to</span> <span style=\"background-color: #FFCACA\">:</span> <span style=\"background-color: #FFD6D6\">iv</span> <span style=\"background-color: #FFE8E8\">teams</span> <span style=\"background-color: #FFF8F8\">,</span> <span style=\"background-color: #FFFAFA\">infection</span> <span style=\"background-color: #FFDADA\">control</span> <span style=\"background-color: #FFE6E6\">,</span> <span style=\"background-color: #FFF0F0\">lead</span> <span style=\"background-color: #FFBABA\">intensive</span> <span style=\"background-color: #FFE2E2\">care</span> <span style=\"background-color: #FFF6F6\">nurse</span> <span style=\"background-color: #FFF6F6\">specialists</span> <span style=\"background-color: #FFFEFE\">,</span> <span style=\"background-color: #FFE6E6\">ward</span> <span style=\"background-color: #FFF6F6\">managers</span> <span style=\"background-color: #FFFEFE\">territory</span> <span style=\"background-color: #FFD8D8\">:</span> <span style=\"background-color: #FFC8C8\">east</span> <span style=\"background-color: #FFF2F2\">midlands</span> <span style=\"background-color: #FFFEFE\">location</span> <span style=\"background-color: #FFD3D3\">:</span> <span style=\"background-color: #FFEEEE\">east</span> <span style=\"background-color: #FFFEFE\">midlands</span> <span style=\"background-color: #FEFEFF\">package</span> <span style=\"background-color: #FEFEFF\">:</span> <span style=\"background-color: #FEFEFF\">basic</span> <span style=\"background-color: #FFF2F2\">:</span> <span style=\"background-color: #FFFEFE\">****</span> <span style=\"background-color: #FFF6F6\">k</span> <span style=\"background-color: #FFFEFE\">****</span> <span style=\"background-color: #FFEAEA\">k</span> <span style=\"background-color: #FAFAFF\">,</span> <span style=\"background-color: #FFBABA\">uncapped</span> <span style=\"background-color: #FFEEEE\">bonus</span> <span style=\"background-color: #F2F2FF\">in</span> <span style=\"background-color: #FFEEEE\">addition</span> <span style=\"background-color: #FFEEEE\">,</span> <span style=\"background-color: #FFE0E0\">full</span> <span style=\"background-color: #FFFAFA\">corporate</span> <span style=\"background-color: #FFE8E8\">benefits</span> <span style=\"background-color: #FFFEFE\">company</span> <span style=\"background-color: #FEFEFF\">information</span> <span style=\"background-color: #FFF6F6\">hugely</span> <span style=\"background-color: #FFD3D3\">ethical</span> <span style=\"background-color: #EEEEFF\">and</span> <span style=\"background-color: #EEEEFF\">professional</span> <span style=\"background-color: #EEEEFF\">global</span> <span style=\"background-color: #FFE4E4\">organisation</span> <span style=\"background-color: #FFEEEE\">extremely</span> <span style=\"background-color: #FFFEFE\">well</span> <span style=\"background-color: #FFF0F0\">established</span> <span style=\"background-color: #FFFEFE\">in</span> <span style=\"background-color: #FFEEEE\">the</span> <span style=\"background-color: #FFECEC\">uk</span> <span style=\"background-color: #FFBEBE\">the</span> <span style=\"background-color: #FFEEEE\">market</span> <span style=\"background-color: #FFFEFE\">leader</span> <span style=\"background-color: #FFC0C0\">across</span> <span style=\"background-color: #FFF2F2\">all</span> <span style=\"background-color: #FFFCFC\">of</span> <span style=\"background-color: #FFE0E0\">their</span> <span style=\"background-color: #FFDCDC\">core</span> <span style=\"background-color: #FFF8F8\">business</span> <span style=\"background-color: #FFF0F0\">areas</span> <span style=\"background-color: #EEEEFF\">focus</span> <span style=\"background-color: #F3F3FF\">on</span> <span style=\"background-color: #FFF0F0\">providing</span> <span style=\"background-color: #FFFEFE\">cutting</span> <span style=\"background-color: #FFF8F8\">edge</span> <span style=\"background-color: #FEFEFF\">solutions</span> <span style=\"background-color: #FFF4F4\">along</span> <span style=\"background-color: #FFF8F8\">with</span> <span style=\"background-color: #FFF6F6\">outstanding</span> <span style=\"background-color: #FFE4E4\">service</span> <span style=\"background-color: #FFD6D6\">and</span> <span style=\"background-color: #FFF2F2\">support</span> <span style=\"background-color: #FFE0E0\">a</span> <span style=\"background-color: #FFCECE\">business</span> <span style=\"background-color: #FFE2E2\">that</span> <span style=\"background-color: #FFFEFE\">retain</span> <span style=\"background-color: #FFFEFE\">talented</span> <span style=\"background-color: #FFEEEE\">personnel</span> <span style=\"background-color: #FFFCFC\">by</span> <span style=\"background-color: #FFD3D3\">offering</span> <span style=\"background-color: #FFBEBE\">a</span> <span style=\"background-color: #FFEEEE\">strong</span> <span style=\"background-color: #ECECFF\">platform</span> <span style=\"background-color: #FFFAFA\">for</span> <span style=\"background-color: #FFE0E0\">career</span> <span style=\"background-color: #FFDEDE\">development</span> <span style=\"background-color: #FFFEFE\">sales</span> <span style=\"background-color: #FFFEFE\">specialist</span> <span style=\"background-color: #FFDEDE\">iv</span> <span style=\"background-color: #FFF6F6\">access</span> <span style=\"background-color: #FFE2E2\">and</span> <span style=\"background-color: #FFFEFE\">infusion</span> <span style=\"background-color: #FFFEFE\">you</span> <span style=\"background-color: #FFE4E4\">must</span> <span style=\"background-color: #FFD3D3\">have</span> <span style=\"background-color: #FFEAEA\">/</span> <span style=\"background-color: #FFFEFE\">be</span> <span style=\"background-color: #FCFCFF\">the</span> <span style=\"background-color: #F3F3FF\">following</span> <span style=\"background-color: #F3F3FF\">at</span> <span style=\"background-color: #F0F0FF\">least</span> <span style=\"background-color: #FFFAFA\">2</span> <span style=\"background-color: #DEDEFF\">years</span> <span style=\"background-color: #E2E2FF\">medical</span> <span style=\"background-color: #FFD6D6\">device</span> <span style=\"background-color: #FFC0C0\">sales</span> <span style=\"background-color: #F2F2FF\">experience</span> <span style=\"background-color: #F3F3FF\">.</span> <span style=\"background-color: #FFF8F8\">candidates</span> <span style=\"background-color: #FCFCFF\">who</span> <span style=\"background-color: #FFFEFE\">have</span> <span style=\"background-color: #FFFEFE\">sold</span> <span style=\"background-color: #FFEAEA\">disposables</span> <span style=\"background-color: #FFF4F4\">/</span> <span style=\"background-color: #FFFEFE\">consumables</span> <span style=\"background-color: #FFE0E0\">or</span> <span style=\"background-color: #FFF0F0\">similar</span> <span style=\"background-color: #FEFEFF\">into</span> <span style=\"background-color: #FFCECE\">hospitals</span> <span style=\"background-color: #FFF4F4\">would</span> <span style=\"background-color: #FFF6F6\">be</span> <span style=\"background-color: #FFFEFE\">of</span> <span style=\"background-color: #FFFEFE\">particular</span> <span style=\"background-color: #FFFEFE\">interest</span> <span style=\"background-color: #FFFEFE\">.</span> <span style=\"background-color: #FFFEFE\">candidates</span> <span style=\"background-color: #FFF8F8\">must</span> <span style=\"background-color: #FFE6E6\">have</span> <span style=\"background-color: #FFF0F0\">sold</span> <span style=\"background-color: #FFFEFE\">into</span> <span style=\"background-color: #FFD6D6\">hospitals</span> <span style=\"background-color: #FFC3C3\">demonstrable</span> <span style=\"background-color: #FFE2E2\">performance</span> <span style=\"background-color: #FFFEFE\">and</span> <span style=\"background-color: #FFFEFE\">achievements</span> <span style=\"background-color: #FFFEFE\">so</span> <span style=\"background-color: #FFFEFE\">far</span> <span style=\"background-color: #FFFEFE\">personable</span> <span style=\"background-color: #FFFCFC\">,</span> <span style=\"background-color: #FFE8E8\">adaptable</span> <span style=\"background-color: #FAFAFF\">and</span> <span style=\"background-color: #FFFEFE\">willing</span> <span style=\"background-color: #FFFAFA\">to</span> <span style=\"background-color: #FFF0F0\">learn</span> <span style=\"background-color: #FFE2E2\">keen</span> <span style=\"background-color: #FFFEFE\">and</span> <span style=\"background-color: #FFFEFE\">eager</span> <span style=\"background-color: #FAFAFF\">to</span> <span style=\"background-color: #FFECEC\">be</span> <span style=\"background-color: #FFF0F0\">a</span> <span style=\"background-color: #FFF2F2\">success</span> <span style=\"background-color: #FFF8F8\">candidates</span> <span style=\"background-color: #FFF8F8\">must</span> <span style=\"background-color: #FFE0E0\">have</span> <span style=\"background-color: #FFE2E2\">a</span> <span style=\"background-color: #FFF4F4\">degree</span> <span style=\"background-color: #FFFAFA\">or</span> <span style=\"background-color: #FFF0F0\">at</span> <span style=\"background-color: #FFDCDC\">least</span> <span style=\"background-color: #FFFEFE\">be</span> <span style=\"background-color: #EAEAFF\">able</span> <span style=\"background-color: #FFDCDC\">to</span> <span style=\"background-color: #FFF8F8\">show</span> <span style=\"background-color: #FFE2E2\">a</span> <span style=\"background-color: #E8E8FF\">strong</span> <span style=\"background-color: #FFEEEE\">ability</span> <span style=\"background-color: #F6F6FF\">to</span> <span style=\"background-color: #FFF4F4\">learn</span> <span style=\"background-color: #FFDCDC\">role</span> <span style=\"background-color: #FFD8D8\">information</span> <span style=\"background-color: #FFFEFE\">managing</span> <span style=\"background-color: #FFDADA\">the</span> <span style=\"background-color: #FFFEFE\">east</span> <span style=\"background-color: #FFFEFE\">midlands</span> <span style=\"background-color: #FFE8E8\">region</span> <span style=\"background-color: #FFECEC\">selling</span> <span style=\"background-color: #FFFCFC\">across</span> <span style=\"background-color: #FFF2F2\">the</span> <span style=\"background-color: #FFE2E2\">company</span> <span style=\"background-color: #FFEAEA\">'</span> <span style=\"background-color: #FFDCDC\">s</span> <span style=\"background-color: #FFF4F4\">range</span> <span style=\"background-color: #FFF6F6\">of</span> <span style=\"background-color: #FFC8C8\">iv</span> <span style=\"background-color: #FFFEFE\">and</span> <span style=\"background-color: #FFFEFE\">infusion</span> <span style=\"background-color: #FFF6F6\">solutions</span> <span style=\"background-color: #FFE8E8\">portfolio</span> <span style=\"background-color: #FFEEEE\">selling</span> <span style=\"background-color: #FFD3D3\">into</span> <span style=\"background-color: #FFF6F6\">lead</span> <span style=\"background-color: #FFBABA\">intensive</span> <span style=\"background-color: #FFE2E2\">care</span> <span style=\"background-color: #FFF6F6\">nurse</span> <span style=\"background-color: #FFF6F6\">specialists</span> <span style=\"background-color: #FFFEFE\">,</span> <span style=\"background-color: #FFF4F4\">ward</span> <span style=\"background-color: #FFF2F2\">managers</span> <span style=\"background-color: #FFDCDC\">,</span> <span style=\"background-color: #FFD6D6\">iv</span> <span style=\"background-color: #FFF4F4\">teams</span> <span style=\"background-color: #FFF8F8\">,</span> <span style=\"background-color: #FFBCBC\">infection</span> <span style=\"background-color: #FFDEDE\">control</span> <span style=\"background-color: #FFE0E0\">teams</span> <span style=\"background-color: #FFE2E2\">,</span> <span style=\"background-color: #FFD8D8\">procurement</span> <span style=\"background-color: #FFFEFE\">sales</span> <span style=\"background-color: #FFFEFE\">specialist</span> <span style=\"background-color: #FFDEDE\">iv</span> <span style=\"background-color: #FFF6F6\">access</span> <span style=\"background-color: #FFDCDC\">and</span> <span style=\"background-color: #FFFEFE\">infusion</span> <span style=\"background-color: #ECECFF\">candidates</span> <span style=\"background-color: #E3E3FF\">must</span> <span style=\"background-color: #DEDEFF\">be</span> <span style=\"background-color: #FFFCFC\">eligible</span> <span style=\"background-color: #CACAFF\">to</span> <span style=\"background-color: #E3E3FF\">work</span> <span style=\"background-color: #FFFAFA\">and</span> <span style=\"background-color: #FFF0F0\">live</span> <span style=\"background-color: #FFE8E8\">in</span> <span style=\"background-color: #FFFEFE\">the</span> <span style=\"background-color: #FFFEFE\">uk</span> <span style=\"background-color: #B0B0FF\">.</span> <span style=\"background-color: #FCFCFF\">please</span> <span style=\"background-color: #BCBCFF\">contact</span> <span style=\"background-color: #FFFCFC\">allan</span> <span style=\"background-color: #FFFEFE\">waller</span> <span style=\"background-color: #F6F6FF\">on</span> <span style=\"background-color: #FFFEFE\">****</span> <span style=\"background-color: #F6F6FF\">****</span> <span style=\"background-color: #FFE8E8\">****</span> <span style=\"background-color: #FFFEFE\">or</span> <span style=\"background-color: #FFEAEA\">please</span> <span style=\"background-color: #FFE6E6\">hit</span> <span style=\"background-color: #FFFEFE\">the</span> <span style=\"background-color: #FFD6D6\">apply</span> <span style=\"background-color: #FFFEFE\">button</span> <span style=\"background-color: #FFFEFE\">.</span> <span style=\"background-color: #FFEEEE\">this</span> <span style=\"background-color: #FFF8F8\">job</span> <span style=\"background-color: #F2F2FF\">was</span> <span style=\"background-color: #F2F2FF\">originally</span> <span style=\"background-color: #FFE2E2\">posted</span> <span style=\"background-color: #FFFEFE\">as</span> <span style=\"background-color: #FFFEFE\">www</span> <span style=\"background-color: #FCFCFF\">.</span> <span style=\"background-color: #FCFCFF\">salestarget</span> <span style=\"background-color: #E2E2FF\">.</span> <span style=\"background-color: #FCFCFF\">co</span> <span style=\"background-color: #E3E3FF\">.</span> <span style=\"background-color: #FFFEFE\">uk</span> <span style=\"background-color: #8686FF\">/</span> <span style=\"background-color: #AAAAFF\">jobseeking</span> <span style=\"background-color: #C3C3FF\">/</span> <span style=\"background-color: #FFFEFE\">UNK</span> <span style=\"background-color: #FFFEFE\">****</span></p>"
            ]
          },
          "metadata": {
            "tags": []
          }
        }
      ]
    },
    {
      "cell_type": "code",
      "metadata": {
        "id": "YV1oloCsNyHt",
        "colab": {
          "base_uri": "https://localhost:8080/",
          "height": 162
        },
        "outputId": "d7bffe66-b320-43b4-e657-a968a879127a"
      },
      "source": [
        "i = 12077\n",
        "tokens_and_weights = explain(model, data.loc[i], \"Title\")\n",
        "draw_html([(tok, weight * 5) for tok, weight in tokens_and_weights], font_style='font-size:20px;');\n",
        "\n",
        "tokens_and_weights = explain(model, data.loc[i], \"FullDescription\")\n",
        "draw_html([(tok, weight * 10) for tok, weight in tokens_and_weights]);"
      ],
      "execution_count": 81,
      "outputs": [
        {
          "output_type": "stream",
          "text": [
            "/usr/local/lib/python3.7/dist-packages/tensorflow/python/keras/engine/functional.py:595: UserWarning: Input dict contained keys ['Log1pSalary'] which did not match any model input. They will be ignored by the model.\n",
            "  [n for n in tensors.keys() if n not in ref_input_names])\n"
          ],
          "name": "stderr"
        },
        {
          "output_type": "display_data",
          "data": {
            "text/html": [
              "<p style=\"font-size:20px;\"><span style=\"background-color: #FFFEFE\">cleaning</span> <span style=\"background-color: #FFFEFE\">operative</span></p>"
            ]
          },
          "metadata": {
            "tags": []
          }
        },
        {
          "output_type": "display_data",
          "data": {
            "text/html": [
              "<p style=\"font-size:14px;\"><span style=\"background-color: #FFFAFA\">12</span> <span style=\"background-color: #F0F0FF\">.</span> <span style=\"background-color: #FFFCFC\">5</span> <span style=\"background-color: #FFD6D6\">hours</span> <span style=\"background-color: #FFFEFE\">per</span> <span style=\"background-color: #FFFCFC\">week</span> <span style=\"background-color: #E3E3FF\">monday</span> <span style=\"background-color: #FFE2E2\">friday</span> <span style=\"background-color: #FFD0D0\">9am</span> <span style=\"background-color: #F6F6FF\">11</span> <span style=\"background-color: #C3C3FF\">.</span> <span style=\"background-color: #EAEAFF\">30am</span> <span style=\"background-color: #E6E6FF\">duties</span> <span style=\"background-color: #FFE8E8\">to</span> <span style=\"background-color: #FAFAFF\">include</span> <span style=\"background-color: #FFCECE\">sweeping</span> <span style=\"background-color: #E6E6FF\">,</span> <span style=\"background-color: #FFC3C3\">mopping</span> <span style=\"background-color: #FFFEFE\">,</span> <span style=\"background-color: #B0B0FF\">vacuuming</span> <span style=\"background-color: #EAEAFF\">,</span> <span style=\"background-color: #FFD3D3\">buffing</span> <span style=\"background-color: #FFF8F8\">,</span> <span style=\"background-color: #FFFAFA\">cleaning</span> <span style=\"background-color: #FFC0C0\">staff</span> <span style=\"background-color: #FFD3D3\">toilets</span> <span style=\"background-color: #FFECEC\">and</span> <span style=\"background-color: #FAFAFF\">rest</span> <span style=\"background-color: #F2F2FF\">room</span> <span style=\"background-color: #BABAFF\">.</span> <span style=\"background-color: #E2E2FF\">must</span> <span style=\"background-color: #ACACFF\">be</span> <span style=\"background-color: #C0C0FF\">able</span> <span style=\"background-color: #ECECFF\">to</span> <span style=\"background-color: #FFF0F0\">read</span> <span style=\"background-color: #FEFEFF\">as</span> <span style=\"background-color: #FFFCFC\">they</span> <span style=\"background-color: #CCCCFF\">will</span> <span style=\"background-color: #D6D6FF\">be</span> <span style=\"background-color: #FFDEDE\">using</span> <span style=\"background-color: #FEFEFF\">UNK</span> <span style=\"background-color: #FFDADA\">which</span> <span style=\"background-color: #FFA0A0\">need</span> <span style=\"background-color: #FEFEFF\">UNK</span> <span style=\"background-color: #FFE0E0\">as</span> <span style=\"background-color: #FFE6E6\">per</span> <span style=\"background-color: #FFF6F6\">instructions</span> <span style=\"background-color: #FFF8F8\">on</span> <span style=\"background-color: #F8F8FF\">the</span> <span style=\"background-color: #9898FF\">containers</span> <span style=\"background-color: #8E8EFF\">.</span> <span style=\"background-color: #FFF4F4\">sucessfull</span> <span style=\"background-color: #FFE4E4\">applicants</span> <span style=\"background-color: #FFE0E0\">will</span> <span style=\"background-color: #FFBCBC\">be</span> <span style=\"background-color: #FFF2F2\">trained</span> <span style=\"background-color: #FFEAEA\">on</span> <span style=\"background-color: #FFF8F8\">all</span> <span style=\"background-color: #FEFEFF\">electrical</span> <span style=\"background-color: #FFD2D2\">appliances</span> <span style=\"background-color: #E0E0FF\">and</span> <span style=\"background-color: #FEFEFF\">UNK</span> <span style=\"background-color: #FFFEFE\">of</span> <span style=\"background-color: #FFB3B3\">cleaning</span> <span style=\"background-color: #FFEEEE\">materials</span> <span style=\"background-color: #F6F6FF\">.</span></p>"
            ]
          },
          "metadata": {
            "tags": []
          }
        }
      ]
    },
    {
      "cell_type": "code",
      "metadata": {
        "id": "78iMmWtWNyHu",
        "colab": {
          "base_uri": "https://localhost:8080/",
          "height": 274
        },
        "outputId": "8db730de-cd34-46cc-f2d2-59f6f96cc3a1"
      },
      "source": [
        "i = np.random.randint(len(data))\n",
        "print(\"Index:\", i)\n",
        "print(\"Salary (gbp):\", np.expm1(model.predict(make_batch(data.iloc[i: i+1]))[0, 0]))\n",
        "\n",
        "tokens_and_weights = explain(model, data.loc[i], \"Title\")\n",
        "draw_html([(tok, weight * 5) for tok, weight in tokens_and_weights], font_style='font-size:20px;');\n",
        "\n",
        "tokens_and_weights = explain(model, data.loc[i], \"FullDescription\")\n",
        "draw_html([(tok, weight * 10) for tok, weight in tokens_and_weights]);"
      ],
      "execution_count": 82,
      "outputs": [
        {
          "output_type": "stream",
          "text": [
            "Index: 108151\n",
            "Salary (gbp): 21287.46\n"
          ],
          "name": "stdout"
        },
        {
          "output_type": "display_data",
          "data": {
            "text/html": [
              "<p style=\"font-size:20px;\"><span style=\"background-color: #AEAEFF\">hr</span> <span style=\"background-color: #FF8686\">project</span> <span style=\"background-color: #8C8CFF\">manager</span> <span style=\"background-color: #C8C8FF\">,</span> <span style=\"background-color: #FAFAFF\">banking</span></p>"
            ]
          },
          "metadata": {
            "tags": []
          }
        },
        {
          "output_type": "display_data",
          "data": {
            "text/html": [
              "<p style=\"font-size:14px;\"><span style=\"background-color: #FFF8F8\">our</span> <span style=\"background-color: #FFFCFC\">client</span> <span style=\"background-color: #FFFEFE\">,</span> <span style=\"background-color: #FFF0F0\">a</span> <span style=\"background-color: #FFF4F4\">global</span> <span style=\"background-color: #FFFEFE\">,</span> <span style=\"background-color: #FFFCFC\">high</span> <span style=\"background-color: #FFF4F4\">profile</span> <span style=\"background-color: #FFFEFE\">bank</span> <span style=\"background-color: #FFDEDE\">,</span> <span style=\"background-color: #FFFEFE\">they</span> <span style=\"background-color: #FFF2F2\">have</span> <span style=\"background-color: #FFFEFE\">an</span> <span style=\"background-color: #FFFEFE\">exciting</span> <span style=\"background-color: #FFFEFE\">opportunity</span> <span style=\"background-color: #FCFCFF\">for</span> <span style=\"background-color: #FEFEFF\">a</span> <span style=\"background-color: #FFDEDE\">hr</span> <span style=\"background-color: #F3F3FF\">project</span> <span style=\"background-color: #FFFCFC\">manager</span> <span style=\"background-color: #FFFEFE\">to</span> <span style=\"background-color: #F6F6FF\">join</span> <span style=\"background-color: #F6F6FF\">them</span> <span style=\"background-color: #FFFAFA\">on</span> <span style=\"background-color: #FFFEFE\">a</span> <span style=\"background-color: #FFFEFE\">permanent</span> <span style=\"background-color: #FFFEFE\">basis</span> <span style=\"background-color: #FFFEFE\">as</span> <span style=\"background-color: #FAFAFF\">part</span> <span style=\"background-color: #FEFEFF\">of</span> <span style=\"background-color: #FCFCFF\">their</span> <span style=\"background-color: #FFFEFE\">internal</span> <span style=\"background-color: #FFF8F8\">hr</span> <span style=\"background-color: #FFF8F8\">consulting</span> <span style=\"background-color: #FFFEFE\">function</span> <span style=\"background-color: #FFF4F4\">,</span> <span style=\"background-color: #FFF2F2\">leading</span> <span style=\"background-color: #E6E6FF\">and</span> <span style=\"background-color: #E6E6FF\">delivering</span> <span style=\"background-color: #FFFAFA\">hr</span> <span style=\"background-color: #F8F8FF\">business</span> <span style=\"background-color: #FFF2F2\">change</span> <span style=\"background-color: #F3F3FF\">projects</span> <span style=\"background-color: #FEFEFF\">across</span> <span style=\"background-color: #FFFAFA\">all</span> <span style=\"background-color: #FFFEFE\">areas</span> <span style=\"background-color: #FFFEFE\">of</span> <span style=\"background-color: #FFFEFE\">the</span> <span style=\"background-color: #FEFEFF\">business</span> <span style=\"background-color: #FFF8F8\">.</span> <span style=\"background-color: #FEFEFF\">participation</span> <span style=\"background-color: #FFECEC\">in</span> <span style=\"background-color: #FFFEFE\">complex</span> <span style=\"background-color: #FFFEFE\">,</span> <span style=\"background-color: #FFFEFE\">large</span> <span style=\"background-color: #FFEAEA\">scale</span> <span style=\"background-color: #FFFEFE\">,</span> <span style=\"background-color: #FFFEFE\">multiple</span> <span style=\"background-color: #FFF0F0\">dependency</span> <span style=\"background-color: #FEFEFF\">programmes</span> <span style=\"background-color: #FFF4F4\">of</span> <span style=\"background-color: #FEFEFF\">change</span> <span style=\"background-color: #FFFEFE\">across</span> <span style=\"background-color: #FFFEFE\">a</span> <span style=\"background-color: #FFFEFE\">number</span> <span style=\"background-color: #FFFEFE\">of</span> <span style=\"background-color: #F2F2FF\">business</span> <span style=\"background-color: #FAFAFF\">areas</span> <span style=\"background-color: #F3F3FF\">with</span> <span style=\"background-color: #FFE6E6\">the</span> <span style=\"background-color: #FEFEFF\">firm</span> <span style=\"background-color: #FFFEFE\">on</span> <span style=\"background-color: #FEFEFF\">a</span> <span style=\"background-color: #FEFEFF\">global</span> <span style=\"background-color: #FFFEFE\">basis</span> <span style=\"background-color: #EEEEFF\">.</span> <span style=\"background-color: #EEEEFF\">exposure</span> <span style=\"background-color: #FFF4F4\">to</span> <span style=\"background-color: #FFE8E8\">strategy</span> <span style=\"background-color: #FFECEC\">,</span> <span style=\"background-color: #FFF6F6\">design</span> <span style=\"background-color: #FFF0F0\">and</span> <span style=\"background-color: #F6F6FF\">implementation</span> <span style=\"background-color: #FFEEEE\">of</span> <span style=\"background-color: #F6F6FF\">change</span> <span style=\"background-color: #F8F8FF\">across</span> <span style=\"background-color: #F8F8FF\">the</span> <span style=\"background-color: #FFE4E4\">hr</span> <span style=\"background-color: #FFFEFE\">functions</span> <span style=\"background-color: #FFFEFE\">on</span> <span style=\"background-color: #FFE2E2\">a</span> <span style=\"background-color: #FFFCFC\">global</span> <span style=\"background-color: #ECECFF\">scale</span> <span style=\"background-color: #F0F0FF\">.</span> <span style=\"background-color: #CCCCFF\">end</span> <span style=\"background-color: #E2E2FF\">to</span> <span style=\"background-color: #FFF2F2\">end</span> <span style=\"background-color: #FCFCFF\">project</span> <span style=\"background-color: #FEFEFF\">management</span> <span style=\"background-color: #FFFEFE\">of</span> <span style=\"background-color: #FFD8D8\">various</span> <span style=\"background-color: #FFFEFE\">projects</span> <span style=\"background-color: #FFFEFE\">across</span> <span style=\"background-color: #FFFAFA\">hr</span> <span style=\"background-color: #FFFEFE\">,</span> <span style=\"background-color: #FFF2F2\">in</span> <span style=\"background-color: #FFFEFE\">all</span> <span style=\"background-color: #FFEEEE\">areas</span> <span style=\"background-color: #FFFEFE\">and</span> <span style=\"background-color: #FFFEFE\">disciplines</span> <span style=\"background-color: #FFFEFE\">.</span> <span style=\"background-color: #FFFEFE\">application</span> <span style=\"background-color: #FFFEFE\">of</span> <span style=\"background-color: #FFF6F6\">change</span> <span style=\"background-color: #FFECEC\">management</span> <span style=\"background-color: #FFFEFE\">and</span> <span style=\"background-color: #FFFEFE\">control</span> <span style=\"background-color: #ECECFF\">methods</span> <span style=\"background-color: #E6E6FF\">process</span> <span style=\"background-color: #FFDCDC\">reengineering</span> <span style=\"background-color: #F8F8FF\">and</span> <span style=\"background-color: #FFFEFE\">process</span> <span style=\"background-color: #FFE4E4\">analysis</span> <span style=\"background-color: #FFDADA\">as</span> <span style=\"background-color: #FFF8F8\">required</span> <span style=\"background-color: #FFDADA\">provide</span> <span style=\"background-color: #FFFEFE\">pmo</span> <span style=\"background-color: #FFFEFE\">support</span> <span style=\"background-color: #FFFEFE\">to</span> <span style=\"background-color: #FFFEFE\">the</span> <span style=\"background-color: #FFF6F6\">overall</span> <span style=\"background-color: #FFFEFE\">project</span> <span style=\"background-color: #FFF2F2\">inclusive</span> <span style=\"background-color: #FFEEEE\">of</span> <span style=\"background-color: #FFFEFE\">project</span> <span style=\"background-color: #FFFEFE\">logs</span> <span style=\"background-color: #FFFEFE\">,</span> <span style=\"background-color: #FFFEFE\">status</span> <span style=\"background-color: #FFFEFE\">reports</span> <span style=\"background-color: #FFFEFE\">,</span> <span style=\"background-color: #FFF0F0\">communication</span> <span style=\"background-color: #FFFEFE\">/</span> <span style=\"background-color: #FFFEFE\">project</span> <span style=\"background-color: #FFFEFE\">plans</span> <span style=\"background-color: #FFFEFE\">etc</span> <span style=\"background-color: #FFFEFE\">undertake</span> <span style=\"background-color: #FFFEFE\">business</span> <span style=\"background-color: #FFFCFC\">analysis</span> <span style=\"background-color: #FFFEFE\">,</span> <span style=\"background-color: #F8F8FF\">for</span> <span style=\"background-color: #FFF6F6\">process</span> <span style=\"background-color: #F8F8FF\">improvement</span> <span style=\"background-color: #FFFEFE\">projects</span> <span style=\"background-color: #FFF2F2\">provision</span> <span style=\"background-color: #FFF0F0\">of</span> <span style=\"background-color: #F8F8FF\">project</span> <span style=\"background-color: #FFD6D6\">management</span> <span style=\"background-color: #D3D3FF\">expertise</span> <span style=\"background-color: #FFFEFE\">,</span> <span style=\"background-color: #FFEEEE\">coaching</span> <span style=\"background-color: #FFFEFE\">and</span> <span style=\"background-color: #FFFEFE\">support</span> <span style=\"background-color: #FFFEFE\">for</span> <span style=\"background-color: #FFFEFE\">hr</span> <span style=\"background-color: #FFFEFE\">colleagues</span> <span style=\"background-color: #FFFEFE\">undertaking</span> <span style=\"background-color: #FFFEFE\">change</span> <span style=\"background-color: #FFFEFE\">activities</span> <span style=\"background-color: #C2C2FF\">.</span> <span style=\"background-color: #AAAAFF\">ensure</span> <span style=\"background-color: #FFD3D3\">projects</span> <span style=\"background-color: #FEFEFF\">are</span> <span style=\"background-color: #FFFEFE\">set</span> <span style=\"background-color: #FFFEFE\">up</span> <span style=\"background-color: #FAFAFF\">for</span> <span style=\"background-color: #FEFEFF\">success</span> <span style=\"background-color: #FEFEFF\">.</span> <span style=\"background-color: #FFFEFE\">working</span> <span style=\"background-color: #FFFEFE\">with</span> <span style=\"background-color: #FFFEFE\">the</span> <span style=\"background-color: #FFF8F8\">hr</span> <span style=\"background-color: #FFF4F4\">management</span> <span style=\"background-color: #FFFEFE\">team</span> <span style=\"background-color: #FFF8F8\">on</span> <span style=\"background-color: #FFFEFE\">an</span> <span style=\"background-color: #FFFEFE\">ongoing</span> <span style=\"background-color: #FFFEFE\">basis</span> <span style=\"background-color: #FFFCFC\">to</span> <span style=\"background-color: #FFFEFE\">agree</span> <span style=\"background-color: #FFECEC\">key</span> <span style=\"background-color: #FEFEFF\">,</span> <span style=\"background-color: #D6D6FF\">strategic</span> <span style=\"background-color: #FFFAFA\">change</span> <span style=\"background-color: #FFECEC\">projects</span> <span style=\"background-color: #E8E8FF\">and</span> <span style=\"background-color: #ECECFF\">which</span> <span style=\"background-color: #E3E3FF\">projects</span> <span style=\"background-color: #FFFEFE\">will</span> <span style=\"background-color: #FFFEFE\">be</span> <span style=\"background-color: #FFF8F8\">prioritises</span> <span style=\"background-color: #FFF6F6\">/</span> <span style=\"background-color: #FFFEFE\">consolidated</span> <span style=\"background-color: #FFFEFE\">the</span> <span style=\"background-color: #FFFAFA\">successful</span> <span style=\"background-color: #FFFEFE\">candidate</span> <span style=\"background-color: #FFFEFE\">will</span> <span style=\"background-color: #FFFCFC\">have</span> <span style=\"background-color: #FFFCFC\">a</span> <span style=\"background-color: #FFD6D6\">strong</span> <span style=\"background-color: #FFE8E8\">hr</span> <span style=\"background-color: #FFF8F8\">background</span> <span style=\"background-color: #FFFEFE\">,</span> <span style=\"background-color: #FFEEEE\">ideally</span> <span style=\"background-color: #F2F2FF\">with</span> <span style=\"background-color: #FFFCFC\">some</span> <span style=\"background-color: #FFE6E6\">good</span> <span style=\"background-color: #E6E6FF\">previous</span> <span style=\"background-color: #BEBEFF\">project</span> <span style=\"background-color: #B3B3FF\">and</span> <span style=\"background-color: #E8E8FF\">change</span> <span style=\"background-color: #FFEEEE\">management</span> <span style=\"background-color: #FFF0F0\">experience</span> <span style=\"background-color: #FFFEFE\">gained</span> <span style=\"background-color: #FFF2F2\">within</span> <span style=\"background-color: #FFFEFE\">a</span> <span style=\"background-color: #FFFEFE\">complex</span> <span style=\"background-color: #FFFEFE\">,</span> <span style=\"background-color: #F8F8FF\">matrix</span> <span style=\"background-color: #FEFEFF\">environment</span> <span style=\"background-color: #F8F8FF\">.</span> <span style=\"background-color: #FFFEFE\">strong</span> <span style=\"background-color: #FFCECE\">numeracy</span> <span style=\"background-color: #FFF6F6\">and</span> <span style=\"background-color: #FFF4F4\">analytical</span> <span style=\"background-color: #FFFEFE\">skills</span> <span style=\"background-color: #FFF4F4\">will</span> <span style=\"background-color: #FFFEFE\">be</span> <span style=\"background-color: #FFF6F6\">essential</span> <span style=\"background-color: #FEFEFF\">,</span> <span style=\"background-color: #FFF6F6\">though</span> <span style=\"background-color: #FFECEC\">technical</span> <span style=\"background-color: #FFFEFE\">mi</span> <span style=\"background-color: #FFFEFE\">support</span> <span style=\"background-color: #FFFCFC\">is</span> <span style=\"background-color: #F2F2FF\">embedded</span> <span style=\"background-color: #FCFCFF\">.</span> <span style=\"background-color: #FFF0F0\">outstanding</span> <span style=\"background-color: #FFF6F6\">relationship</span> <span style=\"background-color: #F3F3FF\">management</span> <span style=\"background-color: #F2F2FF\">and</span> <span style=\"background-color: #F0F0FF\">communication</span> <span style=\"background-color: #FFFEFE\">skills</span> <span style=\"background-color: #FFF6F6\">are</span> <span style=\"background-color: #FFFEFE\">crucial</span> <span style=\"background-color: #FFFEFE\">as</span> <span style=\"background-color: #FFFEFE\">you</span> <span style=\"background-color: #FFFEFE\">will</span> <span style=\"background-color: #FFFEFE\">manage</span> <span style=\"background-color: #FFF0F0\">relationships</span> <span style=\"background-color: #FFC2C2\">and</span> <span style=\"background-color: #E3E3FF\">stakeholders</span> <span style=\"background-color: #FFEAEA\">at</span> <span style=\"background-color: #F6F6FF\">all</span> <span style=\"background-color: #FFF6F6\">levels</span> <span style=\"background-color: #FFFEFE\">,</span> <span style=\"background-color: #FFE6E6\">influence</span> <span style=\"background-color: #ECECFF\">,</span> <span style=\"background-color: #F8F8FF\">coach</span> <span style=\"background-color: #FFFEFE\">and</span> <span style=\"background-color: #FFFEFE\">engage</span> <span style=\"background-color: #FCFCFF\">outcomes</span> <span style=\"background-color: #FFF8F8\">.</span> <span style=\"background-color: #E8E8FF\">consulting</span> <span style=\"background-color: #FFEAEA\">experience</span> <span style=\"background-color: #FFD3D3\">would</span> <span style=\"background-color: #FFFEFE\">be</span> <span style=\"background-color: #FFFAFA\">beneficial</span> <span style=\"background-color: #FFFAFA\">but</span> <span style=\"background-color: #FFFEFE\">is</span> <span style=\"background-color: #FFFEFE\">not</span> <span style=\"background-color: #FFFEFE\">essential</span> <span style=\"background-color: #FFFEFE\">.</span> <span style=\"background-color: #FFFEFE\">this</span> <span style=\"background-color: #FEFEFF\">job</span> <span style=\"background-color: #FCFCFF\">was</span> <span style=\"background-color: #FCFCFF\">originally</span> <span style=\"background-color: #FFF2F2\">posted</span> <span style=\"background-color: #FFFEFE\">as</span> <span style=\"background-color: #FFFEFE\">www</span> <span style=\"background-color: #FFFEFE\">.</span> <span style=\"background-color: #FFF4F4\">totaljobs</span> <span style=\"background-color: #FFFCFC\">.</span> <span style=\"background-color: #FCFCFF\">com</span> <span style=\"background-color: #EAEAFF\">/</span> <span style=\"background-color: #C3C3FF\">jobseeking</span> <span style=\"background-color: #E0E0FF\">/</span> <span style=\"background-color: #FFFEFE\">UNK</span> <span style=\"background-color: #FFFEFE\">****</span></p>"
            ]
          },
          "metadata": {
            "tags": []
          }
        }
      ]
    },
    {
      "cell_type": "markdown",
      "metadata": {
        "id": "l4rMtdkgNyHu"
      },
      "source": [
        "__Terrible start-up idea #1962:__ make a tool that automaticaly rephrases your job description (or CV) to meet salary expectations :)"
      ]
    },
    {
      "cell_type": "markdown",
      "metadata": {
        "id": "LUUHTUHJNyHu"
      },
      "source": [
        "## Final task: improve over it\n",
        "\n",
        "Your main task is to use some of the tricks you've learned on the network and analyze if you can improve __validation MAE__. Try __at least 3 options__ from the list below for a passing grade. Write a short report about what you have tried. More ideas = more bonus points. \n",
        "\n",
        "__Please be serious:__ \" plot learning curves in MAE/epoch, compare models based on optimal performance, test one change at a time. You know the drill :)\n",
        "\n",
        "#### A) CNN architecture\n",
        "\n",
        "All the tricks you know about dense and convolutional neural networks apply here as well.\n",
        "* Dropout. Nuff said.\n",
        "* Batch Norm. This time it's `L.BatchNormalization`\n",
        "* Parallel convolution layers. The idea is that you apply several nn.Conv1d to the same embeddings and concatenate output channels.\n",
        "* More layers, more neurons, ya know...\n",
        "\n",
        "\n",
        "#### B) Play with pooling\n",
        "\n",
        "There's more than one way to perform pooling:\n",
        "* Max over time - our `L.GlobalMaxPool1D`\n",
        "* Average over time (excluding PAD)\n",
        "* Softmax-pooling:\n",
        "$$ out_{i, t} = \\sum_t {h_{i,t} \\cdot {{e ^ {h_{i, t}}} \\over \\sum_\\tau e ^ {h_{j, \\tau}} } }$$\n",
        "\n",
        "* Attentive pooling\n",
        "$$ out_{i, t} = \\sum_t {h_{i,t} \\cdot Attn(h_t)}$$\n",
        "\n",
        ", where $$ Attn(h_t) = {{e ^ {NN_{attn}(h_t)}} \\over \\sum_\\tau e ^ {NN_{attn}(h_\\tau)}}  $$\n",
        "and $NN_{attn}$ is a dense layer.\n",
        "\n",
        "The optimal score is usually achieved by concatenating several different poolings, including several attentive pooling with different $NN_{attn}$ (aka multi-headed attention).\n",
        "\n",
        "The catch is that keras layers do not inlude those toys. You will have to [write your own keras layer](https://keras.io/layers/writing-your-own-keras-layers/). Or use pure tensorflow, it might even be easier :)\n",
        "\n",
        "#### C) Fun with words\n",
        "\n",
        "It's not always a good idea to train embeddings from scratch. Here's a few tricks:\n",
        "\n",
        "* Use a pre-trained embeddings from `gensim.downloader.load`. See last lecture.\n",
        "* Start with pre-trained embeddings, then fine-tune them with gradient descent. You may or may not want to use __`.get_keras_embedding()`__ method for word2vec\n",
        "* Use the same embedding matrix in title and desc vectorizer\n",
        "\n",
        "\n",
        "#### D) Going recurrent\n",
        "\n",
        "We've already learned that recurrent networks can do cool stuff in sequence modelling. Turns out, they're not useless for classification as well. With some tricks of course..\n",
        "\n",
        "* Like convolutional layers, LSTM should be pooled into a fixed-size vector with some of the poolings.\n",
        "* Since you know all the text in advance, use bidirectional RNN\n",
        "  * Run one LSTM from left to right\n",
        "  * Run another in parallel from right to left \n",
        "  * Concatenate their output sequences along unit axis (dim=-1)\n",
        "\n",
        "* It might be good idea to mix convolutions and recurrent layers differently for title and description\n",
        "\n",
        "\n",
        "#### E) Optimizing seriously\n",
        "\n",
        "* You don't necessarily need 100 epochs. Use early stopping. If you've never done this before, take a look at [early stopping callback](https://keras.io/api/callbacks/early_stopping/).\n",
        "  * In short, train until you notice that validation\n",
        "  * Maintain the best-on-validation snapshot via `model.save(file_name)`\n",
        "  * Plotting learning curves is usually a good idea\n",
        "  \n",
        "Good luck! And may the force be with you!"
      ]
    },
    {
      "cell_type": "code",
      "metadata": {
        "id": "hgUHSEMIlWzK"
      },
      "source": [
        "# let's play a bit with CNN architecture, adding \n",
        "# batch normalization\n",
        "# droupout \n",
        "# (Global max pooling is already being used), \n",
        "# one more dense layer and co\n",
        "# and apply several Conv1d to the same embeddings.\n",
        "# so collect everything in one place\n",
        "\n",
        "def build_model_2(n_tokens=len(tokens), n_cat_features=len(categorical_vectorizer.vocabulary_), hid_size=64):\n",
        "    \"\"\" Build a model that maps three data sources to a single linear output: predicted log1p(salary) \"\"\"\n",
        "    \n",
        "    l_title = L.Input(shape=[None], name=\"Title\")\n",
        "    l_descr = L.Input(shape=[None], name=\"FullDescription\")\n",
        "    l_categ = L.Input(shape=[n_cat_features], name=\"Categorical\")\n",
        "      \n",
        "    # <YOUR CODE>\n",
        "    # Build your monster!\n",
        "    \n",
        "    x_title_embedding = L.Embedding(n_tokens, hid_size)(l_title)\n",
        "\n",
        "    x_title_conv1 = L.Conv1D(hid_size, kernel_size = 3)(x_title_embedding)\n",
        "    x_title_conv1 = L.BatchNormalization()(x_title_conv1)\n",
        "    x_title_conv1 = L.GlobalMaxPooling1D()(x_title_conv1)\n",
        "    x_title_conv1 = L.Dropout(0.2)(x_title_conv1)\n",
        "    x_title_conv1 = L.Dense(hid_size, activation='relu')(x_title_conv1)\n",
        "\n",
        "    x_title_conv2 = L.Conv1D(hid_size, kernel_size = 5, strides = 2, kernel_initializer='glorot_uniform', bias_initializer='zeros')(x_title_embedding)\n",
        "    x_title_conv2 = L.BatchNormalization()(x_title_conv2)\n",
        "    x_title_conv2 = L.GlobalMaxPooling1D()(x_title_conv2)\n",
        "    x_title_conv2 = L.Dropout(0.2)(x_title_conv2)\n",
        "    x_title_conv2 = L.Dense(hid_size, activation='relu')(x_title_conv2)\n",
        "    \n",
        "    x_title = L.concatenate([x_title_conv1, x_title_conv2])\n",
        "\n",
        "    x_title = L.Dense(hid_size, activation='relu')(x_title)\n",
        "\n",
        "\n",
        "    \n",
        "    x_descr_embedding = L.Embedding(n_tokens, hid_size)(l_descr)\n",
        "\n",
        "    x_descr_conv1 = L.Conv1D(hid_size, kernel_size = 3)(x_descr_embedding)\n",
        "    x_descr_conv1 = L.BatchNormalization()(x_descr_conv1)\n",
        "    x_descr_conv1 = L.GlobalMaxPooling1D()(x_descr_conv1)\n",
        "    x_descr_conv1 = L.Dropout(0.2)(x_descr_conv1)\n",
        "    x_descr_conv1 = L.Dense(hid_size, activation='relu')(x_descr_conv1)\n",
        "\n",
        "    x_descr_conv2 = L.Conv1D(hid_size, kernel_size = 5, strides = 2, kernel_initializer='glorot_uniform', bias_initializer='zeros')(x_descr_embedding)\n",
        "    x_descr_conv2 = L.BatchNormalization()(x_descr_conv2)\n",
        "    x_descr_conv2 = L.GlobalMaxPooling1D()(x_descr_conv2)\n",
        "    x_descr_conv2 = L.Dropout(0.2)(x_descr_conv2)\n",
        "    x_descr_conv2 = L.Dense(hid_size, activation='relu')(x_descr_conv2)\n",
        "    \n",
        "    x_descr = L.concatenate([x_descr_conv1, x_descr_conv2])\n",
        "\n",
        "    x_descr = L.Dense(hid_size, activation='relu')(x_descr)\n",
        "\n",
        "\n",
        "    \n",
        "    x_categ = L.BatchNormalization()(l_categ)\n",
        "    x_categ = L.Dense(hid_size, activation='relu')(x_categ)\n",
        "    \n",
        "    \n",
        "    x = L.concatenate([x_title, x_descr, x_categ])\n",
        "    \n",
        "    x = L.Dense(2*hid_size, activation='relu')(x)\n",
        "    x = L.Dense(hid_size, activation='relu')(x)\n",
        "  \n",
        "    output_layer = L.Dense(1, activation=\"relu\")(x)\n",
        "    # # end of your code\n",
        "    \n",
        "    model = keras.models.Model(inputs=[l_title, l_descr, l_categ], outputs=[output_layer])\n",
        "    model.compile('adam', 'mean_squared_error', metrics=['mean_absolute_error'])\n",
        "    return model\n",
        "    "
      ],
      "execution_count": 60,
      "outputs": []
    },
    {
      "cell_type": "code",
      "metadata": {
        "colab": {
          "base_uri": "https://localhost:8080/"
        },
        "id": "GcymbkAFlWzK",
        "outputId": "3ae9da67-aafa-405a-c367-b12e3fa2be24"
      },
      "source": [
        "model_2 = build_model_2()\n",
        "model_2.summary()"
      ],
      "execution_count": 64,
      "outputs": [
        {
          "output_type": "stream",
          "text": [
            "Model: \"model_13\"\n",
            "__________________________________________________________________________________________________\n",
            "Layer (type)                    Output Shape         Param #     Connected to                     \n",
            "==================================================================================================\n",
            "Title (InputLayer)              [(None, None)]       0                                            \n",
            "__________________________________________________________________________________________________\n",
            "FullDescription (InputLayer)    [(None, None)]       0                                            \n",
            "__________________________________________________________________________________________________\n",
            "embedding_27 (Embedding)        (None, None, 64)     2170816     Title[0][0]                      \n",
            "__________________________________________________________________________________________________\n",
            "embedding_28 (Embedding)        (None, None, 64)     2170816     FullDescription[0][0]            \n",
            "__________________________________________________________________________________________________\n",
            "conv1d_38 (Conv1D)              (None, None, 64)     12352       embedding_27[0][0]               \n",
            "__________________________________________________________________________________________________\n",
            "conv1d_39 (Conv1D)              (None, None, 64)     20544       embedding_27[0][0]               \n",
            "__________________________________________________________________________________________________\n",
            "conv1d_40 (Conv1D)              (None, None, 64)     12352       embedding_28[0][0]               \n",
            "__________________________________________________________________________________________________\n",
            "conv1d_41 (Conv1D)              (None, None, 64)     20544       embedding_28[0][0]               \n",
            "__________________________________________________________________________________________________\n",
            "batch_normalization_36 (BatchNo (None, None, 64)     256         conv1d_38[0][0]                  \n",
            "__________________________________________________________________________________________________\n",
            "batch_normalization_37 (BatchNo (None, None, 64)     256         conv1d_39[0][0]                  \n",
            "__________________________________________________________________________________________________\n",
            "batch_normalization_38 (BatchNo (None, None, 64)     256         conv1d_40[0][0]                  \n",
            "__________________________________________________________________________________________________\n",
            "batch_normalization_39 (BatchNo (None, None, 64)     256         conv1d_41[0][0]                  \n",
            "__________________________________________________________________________________________________\n",
            "global_max_pooling1d_32 (Global (None, 64)           0           batch_normalization_36[0][0]     \n",
            "__________________________________________________________________________________________________\n",
            "global_max_pooling1d_33 (Global (None, 64)           0           batch_normalization_37[0][0]     \n",
            "__________________________________________________________________________________________________\n",
            "global_max_pooling1d_34 (Global (None, 64)           0           batch_normalization_38[0][0]     \n",
            "__________________________________________________________________________________________________\n",
            "global_max_pooling1d_35 (Global (None, 64)           0           batch_normalization_39[0][0]     \n",
            "__________________________________________________________________________________________________\n",
            "dropout_26 (Dropout)            (None, 64)           0           global_max_pooling1d_32[0][0]    \n",
            "__________________________________________________________________________________________________\n",
            "dropout_27 (Dropout)            (None, 64)           0           global_max_pooling1d_33[0][0]    \n",
            "__________________________________________________________________________________________________\n",
            "dropout_28 (Dropout)            (None, 64)           0           global_max_pooling1d_34[0][0]    \n",
            "__________________________________________________________________________________________________\n",
            "dropout_29 (Dropout)            (None, 64)           0           global_max_pooling1d_35[0][0]    \n",
            "__________________________________________________________________________________________________\n",
            "dense_86 (Dense)                (None, 64)           4160        dropout_26[0][0]                 \n",
            "__________________________________________________________________________________________________\n",
            "dense_87 (Dense)                (None, 64)           4160        dropout_27[0][0]                 \n",
            "__________________________________________________________________________________________________\n",
            "dense_89 (Dense)                (None, 64)           4160        dropout_28[0][0]                 \n",
            "__________________________________________________________________________________________________\n",
            "dense_90 (Dense)                (None, 64)           4160        dropout_29[0][0]                 \n",
            "__________________________________________________________________________________________________\n",
            "Categorical (InputLayer)        [(None, 3768)]       0                                            \n",
            "__________________________________________________________________________________________________\n",
            "concatenate_24 (Concatenate)    (None, 128)          0           dense_86[0][0]                   \n",
            "                                                                 dense_87[0][0]                   \n",
            "__________________________________________________________________________________________________\n",
            "concatenate_25 (Concatenate)    (None, 128)          0           dense_89[0][0]                   \n",
            "                                                                 dense_90[0][0]                   \n",
            "__________________________________________________________________________________________________\n",
            "batch_normalization_40 (BatchNo (None, 3768)         15072       Categorical[0][0]                \n",
            "__________________________________________________________________________________________________\n",
            "dense_88 (Dense)                (None, 64)           8256        concatenate_24[0][0]             \n",
            "__________________________________________________________________________________________________\n",
            "dense_91 (Dense)                (None, 64)           8256        concatenate_25[0][0]             \n",
            "__________________________________________________________________________________________________\n",
            "dense_92 (Dense)                (None, 64)           241216      batch_normalization_40[0][0]     \n",
            "__________________________________________________________________________________________________\n",
            "concatenate_26 (Concatenate)    (None, 192)          0           dense_88[0][0]                   \n",
            "                                                                 dense_91[0][0]                   \n",
            "                                                                 dense_92[0][0]                   \n",
            "__________________________________________________________________________________________________\n",
            "dense_93 (Dense)                (None, 128)          24704       concatenate_26[0][0]             \n",
            "__________________________________________________________________________________________________\n",
            "dense_94 (Dense)                (None, 64)           8256        dense_93[0][0]                   \n",
            "__________________________________________________________________________________________________\n",
            "dense_95 (Dense)                (None, 1)            65          dense_94[0][0]                   \n",
            "==================================================================================================\n",
            "Total params: 4,730,913\n",
            "Trainable params: 4,722,865\n",
            "Non-trainable params: 8,048\n",
            "__________________________________________________________________________________________________\n"
          ],
          "name": "stdout"
        }
      ]
    },
    {
      "cell_type": "code",
      "metadata": {
        "colab": {
          "base_uri": "https://localhost:8080/"
        },
        "id": "P1kF0FEtlWzK",
        "outputId": "655c4419-61e4-43c3-84bd-e4935379c272"
      },
      "source": [
        "dummy_pred = model_2.predict(make_batch(data_train[:100]))\n",
        "dummy_loss = model_2.train_on_batch(make_batch(data_train[:100]), data_train['Log1pSalary'][:100])[0]\n",
        "assert dummy_pred.shape == (100, 1)\n",
        "assert len(np.unique(dummy_pred)) > 20, \"model returns suspiciously few unique outputs. Check your initialization\"\n",
        "assert np.ndim(dummy_loss) == 0 and 0. <= dummy_loss <= 250., \"make sure you minimize MSE\""
      ],
      "execution_count": 65,
      "outputs": [
        {
          "output_type": "stream",
          "text": [
            "/usr/local/lib/python3.7/dist-packages/tensorflow/python/keras/engine/functional.py:595: UserWarning: Input dict contained keys ['Log1pSalary'] which did not match any model input. They will be ignored by the model.\n",
            "  [n for n in tensors.keys() if n not in ref_input_names])\n"
          ],
          "name": "stderr"
        }
      ]
    },
    {
      "cell_type": "code",
      "metadata": {
        "colab": {
          "base_uri": "https://localhost:8080/"
        },
        "id": "J9qvnwfjlWzL",
        "outputId": "5bd39f54-e97e-492c-aa13-3cf7abd4e604"
      },
      "source": [
        "batch_size = 256\n",
        "epochs = 20            # definitely too small\n",
        "steps_per_epoch = 100  # for full pass over data: (len(data_train) - 1) // batch_size + 1\n",
        "\n",
        "train_mae = []\n",
        "val_mae = []\n",
        "\n",
        "model_2 = build_model_2()\n",
        "build_model_2()\n",
        "\n",
        "history_2 = model_2.fit(iterate_minibatches(data_train, batch_size, cycle=True, word_dropout=0.05), \n",
        "                    epochs=epochs, steps_per_epoch=steps_per_epoch,\n",
        "\n",
        "\n",
        "                    \n",
        "                    validation_data=iterate_minibatches(data_val, batch_size, cycle=True),\n",
        "                    validation_steps=data_val.shape[0] // batch_size\n",
        "                   )"
      ],
      "execution_count": 66,
      "outputs": [
        {
          "output_type": "stream",
          "text": [
            "Epoch 1/20\n",
            "100/100 [==============================] - 38s 358ms/step - loss: 21.2974 - mean_absolute_error: 3.2126 - val_loss: 77.0714 - val_mean_absolute_error: 8.7666\n",
            "Epoch 2/20\n",
            "100/100 [==============================] - 32s 319ms/step - loss: 0.6189 - mean_absolute_error: 0.6255 - val_loss: 64.3511 - val_mean_absolute_error: 8.0087\n",
            "Epoch 3/20\n",
            "100/100 [==============================] - 29s 288ms/step - loss: 0.4289 - mean_absolute_error: 0.5188 - val_loss: 49.6737 - val_mean_absolute_error: 7.0340\n",
            "Epoch 4/20\n",
            "100/100 [==============================] - 26s 264ms/step - loss: 0.3694 - mean_absolute_error: 0.4812 - val_loss: 30.4838 - val_mean_absolute_error: 5.5055\n",
            "Epoch 5/20\n",
            "100/100 [==============================] - 28s 284ms/step - loss: 0.2587 - mean_absolute_error: 0.3994 - val_loss: 16.0519 - val_mean_absolute_error: 3.9866\n",
            "Epoch 6/20\n",
            "100/100 [==============================] - 25s 255ms/step - loss: 0.2369 - mean_absolute_error: 0.3842 - val_loss: 7.1123 - val_mean_absolute_error: 2.6395\n",
            "Epoch 7/20\n",
            "100/100 [==============================] - 24s 240ms/step - loss: 0.2050 - mean_absolute_error: 0.3514 - val_loss: 1.9843 - val_mean_absolute_error: 1.3569\n",
            "Epoch 8/20\n",
            "100/100 [==============================] - 24s 242ms/step - loss: 0.1749 - mean_absolute_error: 0.3257 - val_loss: 0.7608 - val_mean_absolute_error: 0.7918\n",
            "Epoch 9/20\n",
            "100/100 [==============================] - 22s 221ms/step - loss: 0.1544 - mean_absolute_error: 0.3074 - val_loss: 0.5193 - val_mean_absolute_error: 0.6273\n",
            "Epoch 10/20\n",
            "100/100 [==============================] - 22s 221ms/step - loss: 0.1515 - mean_absolute_error: 0.3036 - val_loss: 0.4953 - val_mean_absolute_error: 0.6083\n",
            "Epoch 11/20\n",
            "100/100 [==============================] - 21s 213ms/step - loss: 0.1321 - mean_absolute_error: 0.2791 - val_loss: 0.3122 - val_mean_absolute_error: 0.4390\n",
            "Epoch 12/20\n",
            "100/100 [==============================] - 21s 213ms/step - loss: 0.1469 - mean_absolute_error: 0.2954 - val_loss: 0.3153 - val_mean_absolute_error: 0.4431\n",
            "Epoch 13/20\n",
            "100/100 [==============================] - 21s 213ms/step - loss: 0.1110 - mean_absolute_error: 0.2557 - val_loss: 0.3965 - val_mean_absolute_error: 0.5201\n",
            "Epoch 14/20\n",
            "100/100 [==============================] - 21s 214ms/step - loss: 0.1167 - mean_absolute_error: 0.2602 - val_loss: 0.3261 - val_mean_absolute_error: 0.4547\n",
            "Epoch 15/20\n",
            "100/100 [==============================] - 22s 219ms/step - loss: 0.1071 - mean_absolute_error: 0.2473 - val_loss: 0.2722 - val_mean_absolute_error: 0.3953\n",
            "Epoch 16/20\n",
            "100/100 [==============================] - 22s 219ms/step - loss: 0.0991 - mean_absolute_error: 0.2386 - val_loss: 0.3274 - val_mean_absolute_error: 0.4524\n",
            "Epoch 17/20\n",
            "100/100 [==============================] - 21s 214ms/step - loss: 0.0859 - mean_absolute_error: 0.2250 - val_loss: 0.2606 - val_mean_absolute_error: 0.3748\n",
            "Epoch 18/20\n",
            "100/100 [==============================] - 21s 209ms/step - loss: 0.0847 - mean_absolute_error: 0.2215 - val_loss: 0.2511 - val_mean_absolute_error: 0.3636\n",
            "Epoch 19/20\n",
            "100/100 [==============================] - 21s 213ms/step - loss: 0.0908 - mean_absolute_error: 0.2339 - val_loss: 0.2532 - val_mean_absolute_error: 0.3667\n",
            "Epoch 20/20\n",
            "100/100 [==============================] - 21s 209ms/step - loss: 0.0955 - mean_absolute_error: 0.2390 - val_loss: 0.2962 - val_mean_absolute_error: 0.4178\n"
          ],
          "name": "stdout"
        }
      ]
    },
    {
      "cell_type": "code",
      "metadata": {
        "colab": {
          "base_uri": "https://localhost:8080/"
        },
        "id": "2RwZ2KFalWzL",
        "outputId": "6f90cbc2-a938-442b-e09c-50e1e1d8a352"
      },
      "source": [
        "print(history_2.history)\n",
        "\n",
        "print(history_2.history['val_loss'])"
      ],
      "execution_count": 83,
      "outputs": [
        {
          "output_type": "stream",
          "text": [
            "{'loss': [6.8294830322265625, 0.5484824776649475, 0.3933109939098358, 0.32331982254981995, 0.25338417291641235, 0.2615765929222107, 0.19410590827465057, 0.16996878385543823, 0.15802305936813354, 0.16078796982765198, 0.12910671532154083, 0.12936392426490784, 0.11304356902837753, 0.11356204748153687, 0.10727632790803909, 0.09387645125389099, 0.08477750420570374, 0.08740171790122986, 0.09088318049907684, 0.0887020081281662], 'mean_absolute_error': [1.586145043373108, 0.5841765403747559, 0.4956682622432709, 0.44773387908935547, 0.3945159614086151, 0.40408965945243835, 0.34280285239219666, 0.32091739773750305, 0.309783935546875, 0.3136350214481354, 0.276173859834671, 0.2755841016769409, 0.2571696937084198, 0.25639021396636963, 0.2477511167526245, 0.23278307914733887, 0.22128482162952423, 0.22575917840003967, 0.23200055956840515, 0.22888065874576569], 'val_loss': [77.07144165039062, 64.35107421875, 49.6737060546875, 30.48383331298828, 16.051902770996094, 7.112282752990723, 1.9843308925628662, 0.7608314752578735, 0.5192776918411255, 0.4952716529369354, 0.3122176229953766, 0.31525689363479614, 0.39653849601745605, 0.32614344358444214, 0.27224552631378174, 0.32741180062294006, 0.26057085394859314, 0.25110894441604614, 0.2531791627407074, 0.2961740493774414], 'val_mean_absolute_error': [8.766578674316406, 8.00870132446289, 7.033985614776611, 5.505472183227539, 3.9865686893463135, 2.6394762992858887, 1.3569194078445435, 0.7918447852134705, 0.6273319721221924, 0.6083192229270935, 0.4389750361442566, 0.4431229829788208, 0.5201303958892822, 0.4547247886657715, 0.39532750844955444, 0.4524279832839966, 0.3747619390487671, 0.36359116435050964, 0.3666912317276001, 0.4177635908126831]}\n",
            "[77.07144165039062, 64.35107421875, 49.6737060546875, 30.48383331298828, 16.051902770996094, 7.112282752990723, 1.9843308925628662, 0.7608314752578735, 0.5192776918411255, 0.4952716529369354, 0.3122176229953766, 0.31525689363479614, 0.39653849601745605, 0.32614344358444214, 0.27224552631378174, 0.32741180062294006, 0.26057085394859314, 0.25110894441604614, 0.2531791627407074, 0.2961740493774414]\n"
          ],
          "name": "stdout"
        }
      ]
    },
    {
      "cell_type": "code",
      "metadata": {
        "colab": {
          "base_uri": "https://localhost:8080/",
          "height": 296
        },
        "id": "72nueOallWzL",
        "outputId": "d8075e56-0569-4bc6-a4b6-e5c0c91db0a7"
      },
      "source": [
        "print('Train MAE')\n",
        "plt.plot(history_1.history['mean_absolute_error'], label='model_1')\n",
        "plt.plot(history_2.history['mean_absolute_error'], label='model_2')\n",
        "plt.legend(loc=\"upper right\")"
      ],
      "execution_count": 85,
      "outputs": [
        {
          "output_type": "stream",
          "text": [
            "Train MAE\n"
          ],
          "name": "stdout"
        },
        {
          "output_type": "execute_result",
          "data": {
            "text/plain": [
              "<matplotlib.legend.Legend at 0x7fcc04120850>"
            ]
          },
          "metadata": {
            "tags": []
          },
          "execution_count": 85
        },
        {
          "output_type": "display_data",
          "data": {
            "image/png": "[encoded data removed]",
            "text/plain": [
              "<Figure size 432x288 with 1 Axes>"
            ]
          },
          "metadata": {
            "tags": [],
            "needs_background": "light"
          }
        }
      ]
    },
    {
      "cell_type": "code",
      "metadata": {
        "colab": {
          "base_uri": "https://localhost:8080/",
          "height": 296
        },
        "id": "WrHzZ3e2lWzL",
        "outputId": "16332cbf-35cc-4b55-e93c-c3107b319034"
      },
      "source": [
        "print('Val MAE')\n",
        "plt.plot(history_1.history['val_mean_absolute_error'], label='model_1')\n",
        "plt.plot(history_2.history['val_mean_absolute_error'], label='model_2')\n",
        "plt.legend(loc=\"upper right\")"
      ],
      "execution_count": 86,
      "outputs": [
        {
          "output_type": "stream",
          "text": [
            "Val MAE\n"
          ],
          "name": "stdout"
        },
        {
          "output_type": "execute_result",
          "data": {
            "text/plain": [
              "<matplotlib.legend.Legend at 0x7fcbf81fb1d0>"
            ]
          },
          "metadata": {
            "tags": []
          },
          "execution_count": 86
        },
        {
          "output_type": "display_data",
          "data": {
            "image/png": "[encoded data removed]",
            "text/plain": [
              "<Figure size 432x288 with 1 Axes>"
            ]
          },
          "metadata": {
            "tags": [],
            "needs_background": "light"
          }
        }
      ]
    },
    {
      "cell_type": "code",
      "metadata": {
        "colab": {
          "base_uri": "https://localhost:8080/"
        },
        "id": "Sv-YPhvrQ6pC",
        "outputId": "b97cd757-ea2c-4ca2-ee29-8f92e42bc7a3"
      },
      "source": [
        "print_metrics(model_2, data_train, name='Train')\n",
        "print_metrics(model_2, data_val, name='Val');\n",
        "\n",
        "# probably, we need a bit more epochs for model_2"
      ],
      "execution_count": 87,
      "outputs": [
        {
          "output_type": "stream",
          "text": [
            "Train results:\n",
            "Mean square error: 0.21637\n",
            "Mean absolute error: 0.39108\n",
            "Val results:\n",
            "Mean square error: 0.29616\n",
            "Mean absolute error: 0.41774\n"
          ],
          "name": "stdout"
        }
      ]
    },
    {
      "cell_type": "code",
      "metadata": {
        "id": "CHiQZ09hQ6V_"
      },
      "source": [
        ""
      ],
      "execution_count": null,
      "outputs": []
    },
    {
      "cell_type": "code",
      "metadata": {
        "id": "VEuVTj-clWzL"
      },
      "source": [
        "# now, let's try bidirectional LSTM"
      ],
      "execution_count": null,
      "outputs": []
    },
    {
      "cell_type": "code",
      "metadata": {
        "id": "Q2B0eYg0lWzL"
      },
      "source": [
        "def build_model_3(n_tokens=len(tokens), n_cat_features=len(categorical_vectorizer.vocabulary_), hid_size=64):\n",
        "    \"\"\" Build a model that maps three data sources to a single linear output: predicted log1p(salary) \"\"\"\n",
        "    \n",
        "    l_title = L.Input(shape=[None], name=\"Title\")\n",
        "    l_descr = L.Input(shape=[None], name=\"FullDescription\")\n",
        "    l_categ = L.Input(shape=[n_cat_features], name=\"Categorical\")\n",
        "      \n",
        "    # <YOUR CODE>\n",
        "    # Build your monster!\n",
        "    \n",
        "    x_title = L.Embedding(n_tokens, hid_size)(l_title)\n",
        "    x_title = L.Bidirectional(L.LSTM(hid_size, input_shape=(None, None, 64)))(x_title)\n",
        "\n",
        "    x_title = L.Dropout(0.2)(x_title)\n",
        "    x_title = L.Dense(2*hid_size, activation='relu')(x_title)\n",
        "    \n",
        "    x_descr = L.Embedding(n_tokens, 2*hid_size)(l_descr)\n",
        "    x_descr = L.Bidirectional(L.LSTM(hid_size, input_shape=(None, None, 64)))(x_descr)\n",
        "\n",
        "    x_descr = L.Dropout(0.2)(x_descr)\n",
        "    x_descr = L.Dense(2*hid_size, activation='relu')(x_descr)\n",
        "    \n",
        "    x_categ = L.Dense(2*hid_size, activation='relu')(l_categ)\n",
        "  \n",
        "    \n",
        "    x = L.concatenate([x_title, x_descr, x_categ])\n",
        "    \n",
        "    x = L.Dense(2*hid_size, activation='relu')(x)\n",
        "    x = L.Dense(hid_size, activation='relu')(x)\n",
        "  \n",
        "    output_layer = L.Dense(1, activation=\"relu\")(x)\n",
        "    # # end of your code\n",
        "    \n",
        "    model = keras.models.Model(inputs=[l_title, l_descr, l_categ], outputs=[output_layer])\n",
        "    model.compile('adam', 'mean_squared_error', metrics=['mean_absolute_error'])\n",
        "    return model\n",
        "    "
      ],
      "execution_count": 91,
      "outputs": []
    },
    {
      "cell_type": "code",
      "metadata": {
        "id": "lQbu2curlWzM"
      },
      "source": [
        ""
      ],
      "execution_count": null,
      "outputs": []
    },
    {
      "cell_type": "code",
      "metadata": {
        "colab": {
          "base_uri": "https://localhost:8080/"
        },
        "id": "uzrTrRgflWzM",
        "outputId": "d60b227f-84eb-4ea3-e9fc-651ee09e160b"
      },
      "source": [
        "model_3 = build_model_3()\n",
        "model_3.summary()"
      ],
      "execution_count": 92,
      "outputs": [
        {
          "output_type": "stream",
          "text": [
            "Model: \"model_18\"\n",
            "__________________________________________________________________________________________________\n",
            "Layer (type)                    Output Shape         Param #     Connected to                     \n",
            "==================================================================================================\n",
            "Title (InputLayer)              [(None, None)]       0                                            \n",
            "__________________________________________________________________________________________________\n",
            "FullDescription (InputLayer)    [(None, None)]       0                                            \n",
            "__________________________________________________________________________________________________\n",
            "embedding_38 (Embedding)        (None, None, 64)     2170816     Title[0][0]                      \n",
            "__________________________________________________________________________________________________\n",
            "embedding_39 (Embedding)        (None, None, 128)    4341632     FullDescription[0][0]            \n",
            "__________________________________________________________________________________________________\n",
            "bidirectional (Bidirectional)   (None, 128)          66048       embedding_38[0][0]               \n",
            "__________________________________________________________________________________________________\n",
            "bidirectional_1 (Bidirectional) (None, 128)          98816       embedding_39[0][0]               \n",
            "__________________________________________________________________________________________________\n",
            "dropout_38 (Dropout)            (None, 128)          0           bidirectional[0][0]              \n",
            "__________________________________________________________________________________________________\n",
            "dropout_39 (Dropout)            (None, 128)          0           bidirectional_1[0][0]            \n",
            "__________________________________________________________________________________________________\n",
            "Categorical (InputLayer)        [(None, 3768)]       0                                            \n",
            "__________________________________________________________________________________________________\n",
            "dense_126 (Dense)               (None, 128)          16512       dropout_38[0][0]                 \n",
            "__________________________________________________________________________________________________\n",
            "dense_127 (Dense)               (None, 128)          16512       dropout_39[0][0]                 \n",
            "__________________________________________________________________________________________________\n",
            "dense_128 (Dense)               (None, 128)          482432      Categorical[0][0]                \n",
            "__________________________________________________________________________________________________\n",
            "concatenate_35 (Concatenate)    (None, 384)          0           dense_126[0][0]                  \n",
            "                                                                 dense_127[0][0]                  \n",
            "                                                                 dense_128[0][0]                  \n",
            "__________________________________________________________________________________________________\n",
            "dense_129 (Dense)               (None, 128)          49280       concatenate_35[0][0]             \n",
            "__________________________________________________________________________________________________\n",
            "dense_130 (Dense)               (None, 64)           8256        dense_129[0][0]                  \n",
            "__________________________________________________________________________________________________\n",
            "dense_131 (Dense)               (None, 1)            65          dense_130[0][0]                  \n",
            "==================================================================================================\n",
            "Total params: 7,250,369\n",
            "Trainable params: 7,250,369\n",
            "Non-trainable params: 0\n",
            "__________________________________________________________________________________________________\n"
          ],
          "name": "stdout"
        }
      ]
    },
    {
      "cell_type": "code",
      "metadata": {
        "colab": {
          "base_uri": "https://localhost:8080/"
        },
        "id": "yjAa2hVflWzM",
        "outputId": "314fce04-4311-4a1e-e728-4d81d9d9d8b5"
      },
      "source": [
        "dummy_pred = model_3.predict(make_batch(data_train[:100]))\n",
        "dummy_loss = model_3.train_on_batch(make_batch(data_train[:100]), data_train['Log1pSalary'][:100])[0]\n",
        "assert dummy_pred.shape == (100, 1)\n",
        "assert len(np.unique(dummy_pred)) > 20, \"model returns suspiciously few unique outputs. Check your initialization\"\n",
        "assert np.ndim(dummy_loss) == 0 and 0. <= dummy_loss <= 250., \"make sure you minimize MSE\""
      ],
      "execution_count": 93,
      "outputs": [
        {
          "output_type": "stream",
          "text": [
            "/usr/local/lib/python3.7/dist-packages/tensorflow/python/keras/engine/functional.py:595: UserWarning: Input dict contained keys ['Log1pSalary'] which did not match any model input. They will be ignored by the model.\n",
            "  [n for n in tensors.keys() if n not in ref_input_names])\n"
          ],
          "name": "stderr"
        }
      ]
    },
    {
      "cell_type": "code",
      "metadata": {
        "colab": {
          "base_uri": "https://localhost:8080/"
        },
        "id": "yI4LHtfYlWzM",
        "outputId": "e1b73d36-7f0e-4c34-925f-538bd94f9858"
      },
      "source": [
        "batch_size = 256\n",
        "epochs = 20            # definitely too small\n",
        "steps_per_epoch = 100  # for full pass over data: (len(data_train) - 1) // batch_size + 1\n",
        "\n",
        "train_mae = []\n",
        "val_mae = []\n",
        "\n",
        "model_3 = build_model_3()\n",
        "build_model_2()\n",
        "\n",
        "history_3 = model_3.fit(iterate_minibatches(data_train, batch_size, cycle=True, word_dropout=0.05), \n",
        "                    epochs=epochs, steps_per_epoch=steps_per_epoch,\n",
        "\n",
        "\n",
        "                    \n",
        "                    validation_data=iterate_minibatches(data_val, batch_size, cycle=True),\n",
        "                    validation_steps=data_val.shape[0] // batch_size\n",
        "                   )"
      ],
      "execution_count": 94,
      "outputs": [
        {
          "output_type": "stream",
          "text": [
            "Epoch 1/20\n",
            "100/100 [==============================] - 48s 411ms/step - loss: 35.1974 - mean_absolute_error: 4.2589 - val_loss: 0.2071 - val_mean_absolute_error: 0.3545\n",
            "Epoch 2/20\n",
            "100/100 [==============================] - 40s 400ms/step - loss: 0.2749 - mean_absolute_error: 0.4143 - val_loss: 0.4001 - val_mean_absolute_error: 0.5503\n",
            "Epoch 3/20\n",
            "100/100 [==============================] - 40s 396ms/step - loss: 0.1746 - mean_absolute_error: 0.3270 - val_loss: 0.5691 - val_mean_absolute_error: 0.6940\n",
            "Epoch 4/20\n",
            "100/100 [==============================] - 39s 395ms/step - loss: 0.1432 - mean_absolute_error: 0.2949 - val_loss: 0.4596 - val_mean_absolute_error: 0.6155\n",
            "Epoch 5/20\n",
            "100/100 [==============================] - 40s 397ms/step - loss: 0.1238 - mean_absolute_error: 0.2733 - val_loss: 0.5924 - val_mean_absolute_error: 0.7161\n",
            "Epoch 6/20\n",
            "100/100 [==============================] - 40s 405ms/step - loss: 0.1193 - mean_absolute_error: 0.2666 - val_loss: 0.5612 - val_mean_absolute_error: 0.6960\n",
            "Epoch 7/20\n",
            "100/100 [==============================] - 40s 401ms/step - loss: 0.1151 - mean_absolute_error: 0.2605 - val_loss: 0.5422 - val_mean_absolute_error: 0.6831\n",
            "Epoch 8/20\n",
            "100/100 [==============================] - 40s 399ms/step - loss: 0.1071 - mean_absolute_error: 0.2502 - val_loss: 0.5151 - val_mean_absolute_error: 0.6640\n",
            "Epoch 9/20\n",
            "100/100 [==============================] - 40s 404ms/step - loss: 0.0949 - mean_absolute_error: 0.2359 - val_loss: 0.5363 - val_mean_absolute_error: 0.6810\n",
            "Epoch 10/20\n",
            "100/100 [==============================] - 40s 397ms/step - loss: 0.0911 - mean_absolute_error: 0.2314 - val_loss: 0.4614 - val_mean_absolute_error: 0.6247\n",
            "Epoch 11/20\n",
            "100/100 [==============================] - 40s 403ms/step - loss: 0.0919 - mean_absolute_error: 0.2307 - val_loss: 0.4910 - val_mean_absolute_error: 0.6485\n",
            "Epoch 12/20\n",
            "100/100 [==============================] - 40s 398ms/step - loss: 0.0890 - mean_absolute_error: 0.2272 - val_loss: 0.4737 - val_mean_absolute_error: 0.6367\n",
            "Epoch 13/20\n",
            "100/100 [==============================] - 40s 400ms/step - loss: 0.0929 - mean_absolute_error: 0.2324 - val_loss: 0.5348 - val_mean_absolute_error: 0.6823\n",
            "Epoch 14/20\n",
            "100/100 [==============================] - 40s 405ms/step - loss: 0.0858 - mean_absolute_error: 0.2232 - val_loss: 0.4280 - val_mean_absolute_error: 0.6016\n",
            "Epoch 15/20\n",
            "100/100 [==============================] - 40s 404ms/step - loss: 0.0854 - mean_absolute_error: 0.2221 - val_loss: 0.4314 - val_mean_absolute_error: 0.6047\n",
            "Epoch 16/20\n",
            "100/100 [==============================] - 40s 406ms/step - loss: 0.0774 - mean_absolute_error: 0.2132 - val_loss: 0.4047 - val_mean_absolute_error: 0.5838\n",
            "Epoch 17/20\n",
            "100/100 [==============================] - 40s 397ms/step - loss: 0.0728 - mean_absolute_error: 0.2046 - val_loss: 0.2992 - val_mean_absolute_error: 0.4883\n",
            "Epoch 18/20\n",
            "100/100 [==============================] - 40s 400ms/step - loss: 0.0741 - mean_absolute_error: 0.2088 - val_loss: 0.3447 - val_mean_absolute_error: 0.5332\n",
            "Epoch 19/20\n",
            "100/100 [==============================] - 40s 398ms/step - loss: 0.0729 - mean_absolute_error: 0.2043 - val_loss: 0.3419 - val_mean_absolute_error: 0.5317\n",
            "Epoch 20/20\n",
            "100/100 [==============================] - 41s 411ms/step - loss: 0.0695 - mean_absolute_error: 0.1998 - val_loss: 0.2365 - val_mean_absolute_error: 0.4268\n"
          ],
          "name": "stdout"
        }
      ]
    },
    {
      "cell_type": "code",
      "metadata": {
        "colab": {
          "base_uri": "https://localhost:8080/"
        },
        "id": "ZDvDL5ZdTDyX",
        "outputId": "6454fc07-8f84-48d0-cf2e-8c4cae586d83"
      },
      "source": [
        "print_metrics(model_3, data_train, name='Train')\n",
        "print_metrics(model_3, data_val, name='Val');"
      ],
      "execution_count": 95,
      "outputs": [
        {
          "output_type": "stream",
          "text": [
            "Train results:\n",
            "Mean square error: 0.22026\n",
            "Mean absolute error: 0.41884\n",
            "Val results:\n",
            "Mean square error: 0.23706\n",
            "Mean absolute error: 0.42738\n"
          ],
          "name": "stdout"
        }
      ]
    },
    {
      "cell_type": "code",
      "metadata": {
        "id": "AnbJ32lMTDhy"
      },
      "source": [
        ""
      ],
      "execution_count": null,
      "outputs": []
    },
    {
      "cell_type": "markdown",
      "metadata": {
        "id": "Orpqrx_ESqer"
      },
      "source": [
        "OK, a small report. \n",
        "I've tried three model:\n",
        "* a simple CNN; \n",
        "* CNN with batch normalizations, dropouts, poolings and couple of conv layers working on the same embeddings then concatenated;\n",
        "* very basic bidirectional LSTM with default parameters. \n",
        "\n",
        "Trained them for 20 epochs. Here are the plots of Train MAE "
      ]
    },
    {
      "cell_type": "code",
      "metadata": {
        "colab": {
          "base_uri": "https://localhost:8080/",
          "height": 296
        },
        "id": "gA6zhWtIxG6z",
        "outputId": "ed7b3976-fe13-45ce-971f-1873c3dada30"
      },
      "source": [
        "print('Train MAE')\n",
        "plt.plot(history_1.history['mean_absolute_error'], label='model_1')\n",
        "plt.plot(history_2.history['mean_absolute_error'], label='model_2')\n",
        "plt.plot(history_3.history['mean_absolute_error'], label='model_3')\n",
        "plt.legend(loc=\"upper right\")"
      ],
      "execution_count": 103,
      "outputs": [
        {
          "output_type": "stream",
          "text": [
            "Train MAE\n"
          ],
          "name": "stdout"
        },
        {
          "output_type": "execute_result",
          "data": {
            "text/plain": [
              "<matplotlib.legend.Legend at 0x7fcb73a75150>"
            ]
          },
          "metadata": {
            "tags": []
          },
          "execution_count": 103
        },
        {
          "output_type": "display_data",
          "data": {
            "image/png": "[encoded data removed]",
            "text/plain": [
              "<Figure size 432x288 with 1 Axes>"
            ]
          },
          "metadata": {
            "tags": [],
            "needs_background": "light"
          }
        }
      ]
    },
    {
      "cell_type": "markdown",
      "metadata": {
        "id": "gng4aTYOS_UV"
      },
      "source": [
        "Plots for Val MAE:"
      ]
    },
    {
      "cell_type": "code",
      "metadata": {
        "colab": {
          "base_uri": "https://localhost:8080/",
          "height": 296
        },
        "id": "4KILcItz2mXd",
        "outputId": "895bc534-3697-43db-9b2c-04cf20667b31"
      },
      "source": [
        "print('Val MAE')\n",
        "plt.plot(history_1.history['val_mean_absolute_error'], label='model_1')\n",
        "plt.plot(history_2.history['val_mean_absolute_error'], label='model_2')\n",
        "plt.plot(history_3.history['val_mean_absolute_error'], label='model_3')\n",
        "plt.legend(loc=\"upper right\")"
      ],
      "execution_count": 104,
      "outputs": [
        {
          "output_type": "stream",
          "text": [
            "Val MAE\n"
          ],
          "name": "stdout"
        },
        {
          "output_type": "execute_result",
          "data": {
            "text/plain": [
              "<matplotlib.legend.Legend at 0x7fcb7241ec50>"
            ]
          },
          "metadata": {
            "tags": []
          },
          "execution_count": 104
        },
        {
          "output_type": "display_data",
          "data": {
            "image/png": "[encoded data removed]",
            "text/plain": [
              "<Figure size 432x288 with 1 Axes>"
            ]
          },
          "metadata": {
            "tags": [],
            "needs_background": "light"
          }
        }
      ]
    },
    {
      "cell_type": "markdown",
      "metadata": {
        "id": "fUaVbMqzTaKX"
      },
      "source": [
        "The results for 20 epochs show that the simplest one is better for this case. Maybe this is because I'm using not very correct LSTMs (overfitting right in this example???, using just simple LSTMs I got better results for val MAE for 20 epochs) OR possibly more epochs are needed for models_2 and models_3 as of they are more complex. Plus I'm using default parameters while hyperparameters tuning is a very important option. \n",
        "\n",
        "In any case - this was a very interesting exercise, playing with Keras Functional API was also very interesting.\n",
        "\n",
        "As my first model performs better, I'm saving that one."
      ]
    },
    {
      "cell_type": "code",
      "metadata": {
        "id": "sn5k5FlHF6Wa"
      },
      "source": [
        "model.save('CNN_nlp.h5')"
      ],
      "execution_count": 105,
      "outputs": []
    },
    {
      "cell_type": "code",
      "metadata": {
        "id": "ZYWo0L3BWa4I"
      },
      "source": [
        ""
      ],
      "execution_count": null,
      "outputs": []
    }
  ]
}