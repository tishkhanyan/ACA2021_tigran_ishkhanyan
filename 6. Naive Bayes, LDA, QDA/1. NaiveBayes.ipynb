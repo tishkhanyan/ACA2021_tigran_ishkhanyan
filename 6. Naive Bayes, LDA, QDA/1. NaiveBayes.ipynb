{
 "cells": [
  {
   "cell_type": "code",
   "execution_count": 1,
   "metadata": {},
   "outputs": [],
   "source": [
    "class my_NaiveBayes():\n",
    "    def __init__(self, distr='Gaussian'):\n",
    "        self.class_number = 0\n",
    "        self.argwhere_matrix = []\n",
    "        self.class_len = []\n",
    "        self.meanvar_matrix = []\n",
    "        self.prob_vector = []\n",
    "        pass\n",
    "    \n",
    "    def get_stats(self, x):\n",
    "        self.mean = np.mean(x, axis = 0)\n",
    "        self.variance = np.var(x, axis = 0)\n",
    "        return self.mean, self.variance\n",
    "\n",
    "    def pdf(self, x, mean, variance):\n",
    "        return 1/np.sqrt(2 * np.pi * variance**2) * np.exp(-(x - mean)**2/(2 * variance**2))\n",
    "    \n",
    "    def fit(self, x, y):\n",
    "        self.class_number = np.unique(y)\n",
    "        self.len = len(x)\n",
    "        \n",
    "        for i in self.class_number:\n",
    "            self.argwhere_matrix.append(np.reshape(np.argwhere(y == i), -1))\n",
    "            self.class_len.append(len(np.argwhere(y == i))/len(y))\n",
    "            self.meanvar_matrix.append(np.c_[self.get_stats(x[self.argwhere_matrix[i]])])\n",
    "        pass\n",
    "    \n",
    "    def predict_prob(self, x):\n",
    "        self.prob_vector = []\n",
    "\n",
    "        for i in range(len(self.meanvar_matrix)):\n",
    "            self.meanvar_vector = self.meanvar_matrix[i].T\n",
    "            self.prob_vector.append(np.prod(self.pdf(x, self.meanvar_vector[0], self.meanvar_vector[1])) * self.class_len[i]) \n",
    "        return self.prob_vector \n",
    "    \n",
    "    def predict(self, x, weighted=None):\n",
    "        self.y_pred = []\n",
    "        for i in range(len(x)):\n",
    "            self.y_pred.append(np.argmax(self.predict_prob(x[i])))\n",
    "        return np.array(self.y_pred)\n",
    "\n",
    "    def score(self, x, y):\n",
    "        self.y_pred = self.predict(x, weighted=None)\n",
    "        self.acc = len(np.argwhere((self.y_pred - np.array(y)) == 0))/len(y)\n",
    "        return self.acc\n",
    "    \n",
    "    def plot(self, x, y):\n",
    "        if X.shape[1] == 2:\n",
    "            for j in np.unique(y):\n",
    "                plt.scatter(x[y == j, 0], x[y == j, 1])\n",
    "                plt.xlabel('feature 1')\n",
    "                plt.ylabel('feature 2')\n",
    "            plt.show()\n",
    "        else:\n",
    "            print(\"We have only one OR more than two features. 2D plotting is not possible.\")\n",
    "        pass"
   ]
  },
  {
   "cell_type": "code",
   "execution_count": 2,
   "metadata": {},
   "outputs": [
    {
     "data": {
      "text/plain": [
       "array([2, 1, 0, 2, 0, 2, 0, 1, 1, 1, 1, 1, 1, 1, 1, 0, 1, 1, 0, 0, 2, 1,\n",
       "       0, 0, 2, 0, 0, 1, 1, 0, 2, 1, 0, 2, 2, 1, 0, 2])"
      ]
     },
     "execution_count": 2,
     "metadata": {},
     "output_type": "execute_result"
    }
   ],
   "source": [
    "# lets test in on the iris dataset\n",
    "from sklearn.datasets import load_iris\n",
    "import numpy as np\n",
    "import matplotlib.pyplot as plt\n",
    "\n",
    "X, y = load_iris(return_X_y=True)\n",
    "\n",
    "from sklearn.model_selection import train_test_split\n",
    "X_train, X_test, y_train, y_test = train_test_split(X, y, test_size = 0.25, random_state = 0)\n",
    "\n",
    "my_nb = my_NaiveBayes()\n",
    "my_model = my_nb.fit(X_train, y_train)\n",
    "predictions = my_nb.predict(X_test)\n",
    "predictions"
   ]
  },
  {
   "cell_type": "code",
   "execution_count": 3,
   "metadata": {},
   "outputs": [
    {
     "data": {
      "text/plain": [
       "array([2, 1, 0, 2, 0, 2, 0, 1, 1, 1, 2, 1, 1, 1, 1, 0, 1, 1, 0, 0, 2, 1,\n",
       "       0, 0, 2, 0, 0, 1, 1, 0, 2, 1, 0, 2, 2, 1, 0, 1])"
      ]
     },
     "execution_count": 3,
     "metadata": {},
     "output_type": "execute_result"
    }
   ],
   "source": [
    "y_test"
   ]
  },
  {
   "cell_type": "code",
   "execution_count": 4,
   "metadata": {},
   "outputs": [
    {
     "name": "stdout",
     "output_type": "stream",
     "text": [
      "my score on the train data: 0.9285714285714286\n",
      "my score on the test data: 0.9473684210526315\n",
      "We have only one OR more than two features. 2D plotting is not possible.\n"
     ]
    }
   ],
   "source": [
    "#scores\n",
    "my_nb = my_NaiveBayes()\n",
    "my_model = my_nb.fit(X_train, y_train)\n",
    "predictions = my_nb.predict(X_test)\n",
    "\n",
    "print(\"my score on the train data:\", my_nb.score(X_train, y_train))\n",
    "print(\"my score on the test data:\", my_nb.score(X_test, y_test))\n",
    "\n",
    "my_NaiveBayes().plot(X_train, y_train)"
   ]
  },
  {
   "cell_type": "code",
   "execution_count": 5,
   "metadata": {},
   "outputs": [],
   "source": [
    "# take the synthetic data with 2-feature 4 classes\n",
    "class0_len = 1000\n",
    "X0 = np.random.normal(0, 1, (class0_len, 2))\n",
    "y0 = [0]*class0_len\n",
    "\n",
    "class1_len = 2000\n",
    "X1 = np.random.normal(1, 1, (class1_len, 2))\n",
    "y1 = [1]*class1_len\n",
    "\n",
    "class2_len = 1500\n",
    "X2 = np.random.normal(-2, 1, (class2_len, 2))\n",
    "y2 = [2]*class2_len\n",
    "\n",
    "class3_len = 500\n",
    "X3 = np.random.normal(4, 2, (class3_len, 2))\n",
    "y3 = [3]*class3_len\n",
    "\n",
    "X = np.concatenate((X0, X1, X2, X3))\n",
    "y = y0+y1+y2+y3\n",
    "\n",
    "X_train, X_test, y_train, y_test = train_test_split(X, y, random_state=24)"
   ]
  },
  {
   "cell_type": "code",
   "execution_count": 6,
   "metadata": {},
   "outputs": [
    {
     "name": "stdout",
     "output_type": "stream",
     "text": [
      "my score on the train data: 0.8144\n",
      "my score on the test data: 0.804\n",
      "sklearn's score on the train data: 0.8154666666666667\n",
      "sklearn's score on the test data: 0.8056\n"
     ]
    }
   ],
   "source": [
    "#scores\n",
    "my_nb = my_NaiveBayes()\n",
    "my_model = my_nb.fit(X_train, y_train)\n",
    "predictions = my_nb.predict(X_test)\n",
    "\n",
    "print(\"my score on the train data:\", my_nb.score(X_train, y_train))\n",
    "print(\"my score on the test data:\", my_nb.score(X_test, y_test))\n",
    "\n",
    "# compare with sklearn's one\n",
    "from sklearn.naive_bayes import GaussianNB\n",
    "gnb = GaussianNB()\n",
    "gnb.fit(X_train, y_train)\n",
    "\n",
    "print(\"sklearn's score on the train data:\", gnb.score(X_train, y_train))\n",
    "print(\"sklearn's score on the test data:\", gnb.score(X_test, y_test))"
   ]
  },
  {
   "cell_type": "code",
   "execution_count": null,
   "metadata": {},
   "outputs": [],
   "source": []
  },
  {
   "cell_type": "code",
   "execution_count": 7,
   "metadata": {},
   "outputs": [
    {
     "data": {
      "image/png": "[encoded data removed]",
      "text/plain": [
       "<Figure size 432x288 with 1 Axes>"
      ]
     },
     "metadata": {
      "needs_background": "light"
     },
     "output_type": "display_data"
    }
   ],
   "source": [
    "my_NaiveBayes().plot(X, y)"
   ]
  },
  {
   "cell_type": "code",
   "execution_count": null,
   "metadata": {},
   "outputs": [],
   "source": []
  },
  {
   "cell_type": "code",
   "execution_count": 36,
   "metadata": {},
   "outputs": [],
   "source": [
    "class my_NaiveBayes():\n",
    "    def __init__(self, distr='exponential'):\n",
    "        self.class_number = 0\n",
    "        self.argwhere_matrix = []\n",
    "        self.class_len = []\n",
    "        self.meanvar_matrix = []\n",
    "        self.prob_vector = []\n",
    "        pass\n",
    "    \n",
    "    def get_stats(self, x):\n",
    "        self.mean = 1/np.mean(x, axis = 0)\n",
    "        return self.mean\n",
    "\n",
    "    def pdf(self, x, mean):\n",
    "        return mean * np.exp(- mean * x)\n",
    "    \n",
    "    def fit(self, x, y):\n",
    "        self.class_number = np.unique(y)\n",
    "        self.len = len(x)\n",
    "\n",
    "        for i in self.class_number:\n",
    "            self.argwhere_matrix.append(np.reshape(np.argwhere(y == i), -1))\n",
    "            self.class_len.append(len(np.argwhere(y == i))/len(y))\n",
    "            self.meanvar_matrix.append(self.get_stats(x[self.argwhere_matrix[i]]))\n",
    "        pass\n",
    "    \n",
    "    def predict_prob(self, x):\n",
    "        self.prob_vector = []\n",
    "        for i in range(len(self.meanvar_matrix)):\n",
    "            self.meanvar_vector = self.meanvar_matrix[i].T\n",
    "            self.prob_vector.append(np.sum(np.log(self.pdf(x, self.meanvar_vector[0]) * self.class_len[i])))\n",
    "        return self.prob_vector \n",
    "    \n",
    "    def predict(self, x, weighted=None):\n",
    "        self.y_pred = []\n",
    "        for i in range(len(x)):\n",
    "            self.y_pred.append(np.argmax(self.predict_prob(x[i])))\n",
    "        return np.array(self.y_pred)\n",
    "\n",
    "    def score(self, x, y):\n",
    "        self.y_pred = self.predict(x, weighted=None)\n",
    "        self.acc = len(np.argwhere((self.y_pred - np.array(y)) == 0))/len(y)\n",
    "        return self.acc\n",
    "    \n",
    "    def plot(self, x, y):\n",
    "        if X.shape[1] == 2:\n",
    "            for j in np.unique(y):\n",
    "                plt.scatter(x[y == j, 0], x[y == j, 1])\n",
    "                plt.xlabel('feature 1')\n",
    "                plt.ylabel('feature 2')\n",
    "            plt.show()\n",
    "        else:\n",
    "            print(\"We have only one OR more than two features. 2D plotting is not possible.\")\n",
    "        pass"
   ]
  },
  {
   "cell_type": "code",
   "execution_count": 42,
   "metadata": {},
   "outputs": [],
   "source": [
    "# lets test in on the iris dataset\n",
    "from sklearn.datasets import load_iris\n",
    "import numpy as np\n",
    "import matplotlib.pyplot as plt\n",
    "from sklearn.model_selection import train_test_split\n",
    "\n",
    "# take the synthetic data with 3-feature 2 classes\n",
    "class0_len = 1000\n",
    "X0 = np.random.normal(0, 1, (class0_len, 3))\n",
    "y0 = [0]*class0_len\n",
    "\n",
    "class1_len = 2000\n",
    "X1 = np.random.normal(1, 1, (class1_len, 3))\n",
    "y1 = [1]*class1_len\n",
    "\n",
    "X = np.concatenate((X0, X1))\n",
    "y = y0+y1\n",
    "\n",
    "X_train, X_test, y_train, y_test = train_test_split(X, y, random_state=24)"
   ]
  },
  {
   "cell_type": "code",
   "execution_count": 43,
   "metadata": {},
   "outputs": [
    {
     "data": {
      "text/plain": [
       "array([1, 1, 1, 0, 0, 1, 0, 1, 1, 0, 1, 1, 1, 1, 1, 1, 1, 0, 0, 1, 1, 1,\n",
       "       1, 1, 1, 1, 1, 1, 0, 0, 1, 1, 1, 1, 1, 0, 1, 1, 1, 1, 1, 1, 1, 1,\n",
       "       1, 1, 1, 1, 1, 1, 1, 1, 1, 0, 1, 1, 1, 1, 1, 1, 1, 1, 1, 1, 1, 1,\n",
       "       1, 0, 1, 1, 1, 0, 0, 1, 1, 1, 0, 1, 0, 0, 1, 1, 1, 1, 1, 1, 1, 1,\n",
       "       1, 1, 1, 0, 1, 1, 1, 1, 1, 0, 1, 0, 1, 1, 1, 1, 1, 1, 1, 1, 1, 1,\n",
       "       1, 1, 1, 1, 1, 1, 1, 0, 1, 1, 0, 1, 1, 1, 1, 1, 0, 1, 0, 1, 0, 1,\n",
       "       1, 1, 1, 1, 1, 1, 1, 1, 1, 1, 1, 1, 1, 0, 1, 1, 1, 1, 1, 1, 1, 1,\n",
       "       1, 1, 1, 1, 1, 0, 1, 1, 1, 1, 1, 1, 1, 1, 1, 1, 1, 1, 1, 1, 0, 1,\n",
       "       0, 1, 0, 1, 1, 0, 1, 0, 0, 1, 1, 1, 0, 1, 1, 1, 1, 1, 1, 0, 1, 1,\n",
       "       0, 1, 1, 1, 1, 1, 1, 1, 1, 1, 1, 1, 1, 1, 1, 1, 1, 1, 1, 1, 0, 1,\n",
       "       1, 1, 1, 0, 0, 1, 1, 1, 1, 1, 1, 1, 1, 1, 1, 0, 0, 1, 1, 1, 1, 0,\n",
       "       1, 1, 0, 1, 1, 1, 1, 1, 1, 1, 1, 0, 1, 1, 1, 1, 1, 1, 1, 1, 1, 1,\n",
       "       1, 0, 1, 1, 0, 1, 0, 1, 0, 1, 1, 1, 1, 1, 1, 1, 1, 0, 0, 1, 1, 1,\n",
       "       0, 1, 0, 1, 0, 1, 1, 1, 1, 0, 1, 0, 1, 1, 1, 1, 0, 1, 1, 1, 0, 1,\n",
       "       1, 0, 1, 1, 1, 1, 1, 1, 0, 1, 1, 1, 0, 0, 1, 1, 1, 0, 1, 1, 1, 1,\n",
       "       1, 1, 1, 1, 1, 1, 1, 1, 1, 0, 1, 1, 0, 1, 1, 1, 1, 0, 1, 1, 1, 1,\n",
       "       1, 0, 1, 1, 1, 1, 0, 1, 1, 1, 1, 1, 1, 0, 1, 1, 1, 1, 1, 1, 1, 1,\n",
       "       1, 1, 1, 1, 0, 1, 1, 1, 0, 1, 1, 0, 1, 1, 1, 1, 1, 1, 1, 1, 1, 1,\n",
       "       1, 0, 1, 1, 1, 1, 1, 1, 0, 1, 0, 0, 0, 1, 1, 0, 1, 1, 1, 1, 0, 1,\n",
       "       1, 1, 1, 1, 1, 1, 1, 0, 0, 1, 1, 1, 1, 1, 1, 1, 1, 0, 1, 1, 1, 1,\n",
       "       1, 1, 0, 1, 0, 0, 1, 1, 1, 0, 1, 1, 1, 0, 1, 0, 1, 1, 0, 1, 0, 1,\n",
       "       1, 1, 1, 1, 1, 1, 1, 1, 0, 1, 1, 1, 0, 0, 0, 1, 1, 1, 1, 0, 1, 1,\n",
       "       0, 1, 1, 1, 0, 1, 1, 0, 1, 1, 1, 1, 0, 1, 1, 0, 1, 0, 1, 1, 0, 1,\n",
       "       0, 1, 1, 1, 1, 1, 1, 1, 1, 1, 0, 1, 0, 1, 1, 1, 1, 1, 1, 1, 1, 1,\n",
       "       0, 1, 1, 1, 1, 1, 1, 1, 1, 1, 0, 1, 1, 1, 1, 0, 1, 0, 1, 0, 1, 1,\n",
       "       1, 1, 1, 1, 1, 1, 1, 0, 1, 1, 1, 1, 1, 1, 1, 1, 1, 1, 1, 1, 1, 1,\n",
       "       1, 1, 0, 1, 1, 0, 0, 1, 0, 1, 1, 1, 0, 0, 0, 1, 1, 1, 1, 1, 1, 1,\n",
       "       1, 1, 1, 1, 0, 1, 1, 1, 1, 0, 1, 1, 0, 1, 0, 1, 1, 1, 1, 1, 1, 1,\n",
       "       0, 0, 1, 1, 1, 1, 1, 1, 1, 1, 0, 0, 0, 1, 1, 0, 1, 1, 1, 1, 1, 0,\n",
       "       1, 0, 0, 1, 1, 0, 1, 1, 1, 1, 1, 0, 0, 1, 1, 1, 1, 0, 1, 1, 0, 1,\n",
       "       1, 1, 1, 1, 1, 1, 1, 1, 1, 1, 1, 1, 1, 1, 1, 1, 1, 1, 0, 1, 1, 1,\n",
       "       1, 1, 0, 1, 1, 0, 1, 1, 1, 1, 1, 1, 1, 1, 1, 1, 1, 1, 0, 1, 1, 1,\n",
       "       1, 1, 1, 1, 0, 1, 1, 1, 1, 1, 1, 0, 1, 1, 0, 1, 0, 1, 1, 1, 1, 1,\n",
       "       1, 1, 1, 1, 0, 1, 1, 1, 0, 1, 1, 1, 1, 1, 1, 1, 1, 1, 1, 1, 0, 1,\n",
       "       1, 0])"
      ]
     },
     "execution_count": 43,
     "metadata": {},
     "output_type": "execute_result"
    }
   ],
   "source": [
    "my_nb = my_NaiveBayes()\n",
    "my_model = my_nb.fit(X_train, y_train)\n",
    "predictions = my_nb.predict(X_test)\n",
    "predictions"
   ]
  },
  {
   "cell_type": "code",
   "execution_count": 44,
   "metadata": {},
   "outputs": [
    {
     "name": "stdout",
     "output_type": "stream",
     "text": [
      "my score on the train data: 0.8213333333333334\n",
      "my score on the test data: 0.8013333333333333\n",
      "sklearn's score on the train data: 0.8328888888888889\n",
      "sklearn's score on the test data: 0.82\n"
     ]
    }
   ],
   "source": [
    "#scores\n",
    "my_nb = my_NaiveBayes()\n",
    "my_model = my_nb.fit(X_train, y_train)\n",
    "predictions = my_nb.predict(X_test)\n",
    "\n",
    "print(\"my score on the train data:\", my_nb.score(X_train, y_train))\n",
    "print(\"my score on the test data:\", my_nb.score(X_test, y_test))\n",
    "\n",
    "# compare with sklearn's one\n",
    "from sklearn.naive_bayes import GaussianNB\n",
    "gnb = GaussianNB()\n",
    "gnb.fit(X_train, y_train)\n",
    "\n",
    "print(\"sklearn's score on the train data:\", gnb.score(X_train, y_train))\n",
    "print(\"sklearn's score on the test data:\", gnb.score(X_test, y_test))"
   ]
  },
  {
   "cell_type": "code",
   "execution_count": null,
   "metadata": {},
   "outputs": [],
   "source": []
  }
 ],
 "metadata": {
  "kernelspec": {
   "display_name": "Python 3",
   "language": "python",
   "name": "python3"
  },
  "language_info": {
   "codemirror_mode": {
    "name": "ipython",
    "version": 3
   },
   "file_extension": ".py",
   "mimetype": "text/x-python",
   "name": "python",
   "nbconvert_exporter": "python",
   "pygments_lexer": "ipython3",
   "version": "3.8.5"
  }
 },
 "nbformat": 4,
 "nbformat_minor": 4
}
