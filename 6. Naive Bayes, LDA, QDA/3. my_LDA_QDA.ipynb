{
 "cells": [
  {
   "cell_type": "code",
   "execution_count": 6,
   "metadata": {},
   "outputs": [],
   "source": [
    "class my_LinearDiscriminantAnalysis():\n",
    "    def __init__(self):\n",
    "        self.class_number = 0\n",
    "        self.argwhere_matrix = []\n",
    "        self.pi_hat = []\n",
    "        self.mu_hat = []\n",
    "        self.covar_matrix = []\n",
    "        pass\n",
    "    \n",
    "    def fit(self, x, y):\n",
    "        self.class_number = np.unique(y)\n",
    "        self.covar_matrix = np.zeros((x.shape[1], x.shape[1]))\n",
    "        \n",
    "        for i in self.class_number:\n",
    "            self.argwhere_matrix.append(np.reshape(np.argwhere(np.array(y) == i), -1))\n",
    "            self.pi_hat.append(len(np.argwhere(y == i))/len(y))\n",
    "            self.mu_hat.append(np.mean(x[self.argwhere_matrix[i]], axis = 0))\n",
    "            self.covar_matrix += np.cov(x[self.argwhere_matrix[i]].T)\n",
    "        pass\n",
    "    \n",
    "    def predict_prob(self, x):\n",
    "        self.inv_prod = []\n",
    "        self.pred_vector = []\n",
    "        for i in self.class_number:\n",
    "            self.inv_prod = np.dot(np.linalg.inv(self.covar_matrix), self.mu_hat[i])\n",
    "            self.pred_vector.append(np.dot(x, self.inv_prod) + np.log(self.pi_hat[i]) - 1/2*np.dot(self.mu_hat[i], self.inv_prod))\n",
    "        return self.pred_vector\n",
    "    \n",
    "    def predict(self, x):\n",
    "        self.y_pred = []\n",
    "        for i in range(len(x)):\n",
    "            self.y_pred.append(np.argmax(self.predict_prob(x[i])))\n",
    "        return np.array(self.y_pred)\n",
    "    \n",
    "    def score(self, x, y):\n",
    "        self.pred = self.predict(x)\n",
    "        self.acc = len(np.argwhere((self.pred - np.array(y)) == 0))/len(y)\n",
    "        return self.acc\n",
    "    \n",
    "    def plot(self, x, y):\n",
    "        if X.shape[1] == 2:\n",
    "            for j in np.unique(y):\n",
    "                plt.scatter(x[y == j, 0], x[y == j, 1])\n",
    "                plt.xlabel('feature 1')\n",
    "                plt.ylabel('feature 2')\n",
    "            plt.show()\n",
    "        else:\n",
    "            print(\"We have only one OR more than two features. 2D plotting is not possible.\")\n",
    "        pass"
   ]
  },
  {
   "cell_type": "code",
   "execution_count": 2,
   "metadata": {},
   "outputs": [
    {
     "data": {
      "text/plain": [
       "array([0, 1, 1, ..., 0, 1, 1])"
      ]
     },
     "execution_count": 2,
     "metadata": {},
     "output_type": "execute_result"
    }
   ],
   "source": [
    "import numpy as np\n",
    "from sklearn.model_selection import train_test_split\n",
    "import matplotlib.pyplot as plt\n",
    "\n",
    "class0_len = 2000\n",
    "X0 = np.random.multivariate_normal([1,2,-1], np.array([[1, 0.9, 0.9], [0.9, 1, 0.9], [0.9, 0.9, 1]]), size=class0_len)\n",
    "y0 = [0]*class0_len\n",
    "\n",
    "class1_len = 3000\n",
    "X1 = np.random.multivariate_normal([1,1,0], np.array([[1, 0.9, 0.9], [0.9, 1, 0.9], [0.9, 0.9, 1]]), size=class1_len)\n",
    "y1 = [1]*class1_len\n",
    "\n",
    "X = np.concatenate((X0, X1))\n",
    "y = y0+y1\n",
    "\n",
    "X_train, X_test, y_train, y_test = train_test_split(X, y, random_state=24)\n",
    "\n",
    "# my LDA model\n",
    "\n",
    "my_lda = my_LinearDiscriminantAnalysis()\n",
    "my_model = my_lda.fit(X_train, y_train)\n",
    "predictions = my_lda.predict(X_test)\n",
    "predictions"
   ]
  },
  {
   "cell_type": "code",
   "execution_count": 3,
   "metadata": {},
   "outputs": [
    {
     "data": {
      "text/plain": [
       "array([0, 1, 1, ..., 0, 1, 1])"
      ]
     },
     "execution_count": 3,
     "metadata": {},
     "output_type": "execute_result"
    }
   ],
   "source": [
    "np.array(y_test)"
   ]
  },
  {
   "cell_type": "code",
   "execution_count": 4,
   "metadata": {},
   "outputs": [
    {
     "name": "stdout",
     "output_type": "stream",
     "text": [
      "my score on the train data: 0.9874666666666667\n",
      "my score on the test data: 0.9864\n",
      "sklearn's score on the train data: 0.9885333333333334\n",
      "sklearn's score on the test data: 0.9888\n"
     ]
    }
   ],
   "source": [
    "#scores\n",
    "my_lda = my_LinearDiscriminantAnalysis()\n",
    "my_model = my_lda.fit(X_train, y_train)\n",
    "predictions = my_lda.predict(X_train)\n",
    "\n",
    "print(\"my score on the train data:\", my_lda.score(X_train, y_train))\n",
    "print(\"my score on the test data:\", my_lda.score(X_test, y_test))\n",
    "\n",
    "# comparing with the sklearn's one\n",
    "from sklearn.discriminant_analysis import LinearDiscriminantAnalysis\n",
    "clf = LinearDiscriminantAnalysis()\n",
    "clf.fit(X_train, y_train)\n",
    "\n",
    "print(\"sklearn's score on the train data:\", clf.score(X_train, y_train))\n",
    "print(\"sklearn's score on the test data:\", clf.score(X_test, y_test))"
   ]
  },
  {
   "cell_type": "code",
   "execution_count": null,
   "metadata": {},
   "outputs": [],
   "source": []
  },
  {
   "cell_type": "code",
   "execution_count": 5,
   "metadata": {},
   "outputs": [
    {
     "data": {
      "image/png": "[encoded data removed]",
      "text/plain": [
       "<Figure size 432x288 with 1 Axes>"
      ]
     },
     "metadata": {
      "needs_background": "light"
     },
     "output_type": "display_data"
    }
   ],
   "source": [
    "# some plot for 2-feature case\n",
    "class0_len = 2000\n",
    "X0 = np.random.multivariate_normal([1,2], np.array([[1, 0.9], [0.9, 1]]), size=class0_len)\n",
    "y0 = [0]*class0_len\n",
    "\n",
    "class1_len = 3000\n",
    "X1 = np.random.multivariate_normal([1,1], np.array([[1, 0.9], [0.9, 1]]), size=class1_len)\n",
    "y1 = [1]*class1_len\n",
    "\n",
    "X = np.concatenate((X0, X1))\n",
    "y = y0+y1\n",
    "\n",
    "\n",
    "X_train, X_test, y_train, y_test = train_test_split(X, y, random_state=24)\n",
    "\n",
    "# my LDA model\n",
    "my_lda = my_LinearDiscriminantAnalysis()\n",
    "my_model = my_lda.fit(X_train, y_train)\n",
    "predictions = my_lda.predict(X_test)\n",
    "\n",
    "my_lda.plot(X_test, predictions)"
   ]
  },
  {
   "cell_type": "code",
   "execution_count": null,
   "metadata": {},
   "outputs": [],
   "source": []
  },
  {
   "cell_type": "code",
   "execution_count": null,
   "metadata": {},
   "outputs": [],
   "source": [
    "######### Quadratic Discriminant Analysis"
   ]
  },
  {
   "cell_type": "code",
   "execution_count": 1,
   "metadata": {},
   "outputs": [],
   "source": [
    "class my_QuadraticDiscriminantAnalysis():\n",
    "    def __init__(self):\n",
    "        self.class_number = 0\n",
    "        self.argwhere_matrix = []\n",
    "        self.pi_hat = []\n",
    "        self.mu_hat = []\n",
    "        self.covar_matrix = []\n",
    "        pass\n",
    "    \n",
    "    def fit(self, x, y):\n",
    "        self.class_number = np.unique(y)\n",
    "\n",
    "        for i in self.class_number:\n",
    "            self.argwhere_matrix.append(np.reshape(np.argwhere(np.array(y) == i), -1))\n",
    "            self.pi_hat.append(len(np.argwhere(y == i))/len(y))\n",
    "            self.mu_hat.append(np.mean(x[self.argwhere_matrix[i]], axis = 0))\n",
    "            self.covar_matrix.append(np.cov(x[self.argwhere_matrix[i]].T))\n",
    "        pass\n",
    "    \n",
    "    def predict_prob(self, x):\n",
    "        self.pred_vector = []\n",
    "        for i in self.class_number:\n",
    "            self.pred_vector.append(- 1/2*np.log(np.linalg.det(self.covar_matrix[i])) - 1/2*np.dot(x - self.mu_hat[i], np.dot(np.linalg.inv(self.covar_matrix[i]), x - self.mu_hat[i])) + np.log(self.pi_hat[i]))\n",
    "        return self.pred_vector\n",
    "    \n",
    "    def predict(self, x):\n",
    "        self.y_pred = []\n",
    "        for i in range(len(x)):\n",
    "            self.y_pred.append(np.argmax(self.predict_prob(x[i])))\n",
    "        return np.array(self.y_pred)\n",
    "    \n",
    "    def score(self, x, y):\n",
    "        self.pred = self.predict(x)\n",
    "        self.acc = len(np.argwhere((self.pred - np.array(y)) == 0))/len(y)\n",
    "        return self.acc\n",
    "    \n",
    "    def plot(self, x, y):\n",
    "        if X.shape[1] == 2:\n",
    "            for j in np.unique(y):\n",
    "                plt.scatter(x[y == j, 0], x[y == j, 1])\n",
    "                plt.xlabel('feature 1')\n",
    "                plt.ylabel('feature 2')\n",
    "            plt.show()\n",
    "        else:\n",
    "            print(\"We have only one OR more than two features. 2D plotting is not possible.\")\n",
    "        pass"
   ]
  },
  {
   "cell_type": "code",
   "execution_count": 2,
   "metadata": {},
   "outputs": [
    {
     "data": {
      "text/plain": [
       "array([1, 1, 1, ..., 1, 1, 0])"
      ]
     },
     "execution_count": 2,
     "metadata": {},
     "output_type": "execute_result"
    }
   ],
   "source": [
    "import numpy as np\n",
    "from sklearn.model_selection import train_test_split\n",
    "import matplotlib.pyplot as plt\n",
    "\n",
    "class0_len = 1000\n",
    "X0 = np.random.multivariate_normal([1,2,0], np.array([[1, 0.9, 0.9], [0.9, 1, 0.9], [0.9, 0.9, 1]]), size=class0_len)\n",
    "y0 = [0]*class0_len\n",
    "\n",
    "class1_len = 3000\n",
    "X1 = np.random.multivariate_normal([1,1,0], np.array([[1, 0.4, 0.2], [0.4, 1, 0.8], [0.2, 0.8, 1]]), size=class1_len)\n",
    "y1 = [1]*class1_len\n",
    "\n",
    "X = np.concatenate((X0, X1))\n",
    "y = y0+y1\n",
    "\n",
    "X_train, X_test, y_train, y_test = train_test_split(X, y, random_state=24)\n",
    "\n",
    "# my QDA model\n",
    "\n",
    "my_qda = my_QuadraticDiscriminantAnalysis()\n",
    "my_model = my_qda.fit(X_train, y_train)\n",
    "predictions = my_qda.predict(X_train)\n",
    "predictions"
   ]
  },
  {
   "cell_type": "code",
   "execution_count": 3,
   "metadata": {},
   "outputs": [
    {
     "data": {
      "text/plain": [
       "array([1, 0, 1, ..., 1, 0, 0])"
      ]
     },
     "execution_count": 3,
     "metadata": {},
     "output_type": "execute_result"
    }
   ],
   "source": [
    "np.array(y_train)"
   ]
  },
  {
   "cell_type": "code",
   "execution_count": 4,
   "metadata": {},
   "outputs": [
    {
     "name": "stdout",
     "output_type": "stream",
     "text": [
      "my score on the train data: 0.8966666666666666\n",
      "my score on the test data: 0.908\n",
      "sklearn's score on the train data: 0.8966666666666666\n",
      "sklearn's score on the test data: 0.908\n"
     ]
    }
   ],
   "source": [
    "#scores\n",
    "my_qda = my_QuadraticDiscriminantAnalysis()\n",
    "my_model = my_qda.fit(X_train, y_train)\n",
    "predictions = my_qda.predict(X_train)\n",
    "\n",
    "print(\"my score on the train data:\", my_qda.score(X_train, y_train))\n",
    "print(\"my score on the test data:\", my_qda.score(X_test, y_test))\n",
    "\n",
    "# comparing with the sklearn's one\n",
    "from sklearn.discriminant_analysis import QuadraticDiscriminantAnalysis\n",
    "clf = QuadraticDiscriminantAnalysis()\n",
    "clf.fit(X_train, y_train)\n",
    "\n",
    "print(\"sklearn's score on the train data:\", clf.score(X_train, y_train))\n",
    "print(\"sklearn's score on the test data:\", clf.score(X_test, y_test))"
   ]
  },
  {
   "cell_type": "code",
   "execution_count": null,
   "metadata": {},
   "outputs": [],
   "source": []
  },
  {
   "cell_type": "code",
   "execution_count": 7,
   "metadata": {},
   "outputs": [
    {
     "name": "stdout",
     "output_type": "stream",
     "text": [
      "score on the train data: 0.8423333333333334\n",
      "score on the test data: 0.865\n"
     ]
    }
   ],
   "source": [
    "# my LDA for this case\n",
    "my_lda = my_LinearDiscriminantAnalysis()\n",
    "my_model_linear = my_lda.fit(X_train, y_train)\n",
    "predictions_linear = my_lda.predict(X_train)\n",
    "\n",
    "print(\"score on the train data:\", my_lda.score(X_train, y_train))\n",
    "print(\"score on the test data:\", my_lda.score(X_test, y_test))"
   ]
  },
  {
   "cell_type": "code",
   "execution_count": 6,
   "metadata": {},
   "outputs": [],
   "source": []
  },
  {
   "cell_type": "code",
   "execution_count": 23,
   "metadata": {},
   "outputs": [
    {
     "name": "stdout",
     "output_type": "stream",
     "text": [
      "my lda score on the train data: 0.7646666666666667\n",
      "my lda score on the test data: 0.775\n",
      "my qda score on the train data: 0.785\n",
      "my qda score on the test data: 0.783\n",
      "LDA\n"
     ]
    },
    {
     "data": {
      "image/png": "[encoded data removed]",
      "text/plain": [
       "<Figure size 432x288 with 1 Axes>"
      ]
     },
     "metadata": {
      "needs_background": "light"
     },
     "output_type": "display_data"
    },
    {
     "name": "stdout",
     "output_type": "stream",
     "text": [
      "QDA\n"
     ]
    },
    {
     "data": {
      "image/png": "[encoded data removed]",
      "text/plain": [
       "<Figure size 432x288 with 1 Axes>"
      ]
     },
     "metadata": {
      "needs_background": "light"
     },
     "output_type": "display_data"
    },
    {
     "name": "stdout",
     "output_type": "stream",
     "text": [
      "true\n"
     ]
    },
    {
     "data": {
      "image/png": "[encoded data removed]",
      "text/plain": [
       "<Figure size 432x288 with 1 Axes>"
      ]
     },
     "metadata": {
      "needs_background": "light"
     },
     "output_type": "display_data"
    }
   ],
   "source": [
    "# some plot for 2-feature case\n",
    "class0_len = 1000\n",
    "X0 = np.random.multivariate_normal([0,1], np.array([[1, 0.4], [0.4, 1]]), size=class0_len)\n",
    "y0 = [0]*class0_len\n",
    "\n",
    "class1_len = 3000\n",
    "X1 = np.random.multivariate_normal([1,1], np.array([[1, 0.4], [0.4, 1]]), size=class1_len)\n",
    "y1 = [1]*class1_len\n",
    "\n",
    "X = np.concatenate((X0, X1))\n",
    "y = y0+y1\n",
    "\n",
    "\n",
    "X_train, X_test, y_train, y_test = train_test_split(X, y, random_state=24)\n",
    "\n",
    "\n",
    "# my LDA model\n",
    "my_lda = my_LinearDiscriminantAnalysis()\n",
    "my_model_linear = my_lda.fit(X_train, y_train)\n",
    "predictions_linear = my_lda.predict(X_test)\n",
    "\n",
    "# my QDA model\n",
    "my_qda = my_QuadraticDiscriminantAnalysis()\n",
    "my_model_quadratic = my_qda.fit(X_train, y_train)\n",
    "predictions_quadratic = my_qda.predict(X_test)\n",
    "\n",
    "# my LDA for this case\n",
    "print(\"my lda score on the train data:\", my_lda.score(X_train, y_train))\n",
    "print(\"my lda score on the test data:\", my_lda.score(X_test, y_test))\n",
    "\n",
    "print(\"my qda score on the train data:\", my_qda.score(X_train, y_train))\n",
    "print(\"my qda score on the test data:\", my_qda.score(X_test, y_test))\n",
    "\n",
    "print(\"LDA\")\n",
    "my_lda.plot(X, my_lda.predict(X))\n",
    "\n",
    "print(\"QDA\")\n",
    "my_qda.plot(X, my_qda.predict(X))\n",
    "\n",
    "print(\"true\")\n",
    "my_qda.plot(X, y)"
   ]
  },
  {
   "cell_type": "code",
   "execution_count": null,
   "metadata": {},
   "outputs": [],
   "source": []
  },
  {
   "cell_type": "code",
   "execution_count": null,
   "metadata": {},
   "outputs": [],
   "source": []
  }
 ],
 "metadata": {
  "kernelspec": {
   "display_name": "Python 3",
   "language": "python",
   "name": "python3"
  },
  "language_info": {
   "codemirror_mode": {
    "name": "ipython",
    "version": 3
   },
   "file_extension": ".py",
   "mimetype": "text/x-python",
   "name": "python",
   "nbconvert_exporter": "python",
   "pygments_lexer": "ipython3",
   "version": "3.8.3"
  }
 },
 "nbformat": 4,
 "nbformat_minor": 4
}
