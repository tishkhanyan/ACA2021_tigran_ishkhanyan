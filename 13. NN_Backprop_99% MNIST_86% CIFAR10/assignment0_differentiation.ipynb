{
 "cells": [
  {
   "cell_type": "markdown",
   "metadata": {},
   "source": [
    "# Differentiation "
   ]
  },
  {
   "cell_type": "markdown",
   "metadata": {},
   "source": [
    "Since it easy to google every task please please please try to undestand what's going on. The \"just answer\" thing will be not counted, make sure to present derivation of your solution. It is absolutely OK if you found an answer on web then just exercise in $\\LaTeX$ copying it into here."
   ]
  },
  {
   "cell_type": "markdown",
   "metadata": {},
   "source": [
    "Useful links: \n",
    "[1](http://www.machinelearning.ru/wiki/images/2/2a/Matrix-Gauss.pdf)\n",
    "[2](http://www.atmos.washington.edu/~dennis/MatrixCalculus.pdf)"
   ]
  },
  {
   "cell_type": "markdown",
   "metadata": {},
   "source": [
    "## ex. 1"
   ]
  },
  {
   "cell_type": "markdown",
   "metadata": {},
   "source": [
    "$$  \n",
    "y = x^Tx,  \\quad x \\in \\mathbb{R}^N \n",
    "$$\n",
    "\n",
    "$$  \n",
    "y = \\sum_{n=1}^{N} x_i * x_i \n",
    "$$\n",
    "\n",
    "y is a scalar."
   ]
  },
  {
   "cell_type": "markdown",
   "metadata": {},
   "source": [
    "$$\n",
    "\\frac{\\partial y}{\\partial (x_k)} = 2 x_k\n",
    "$$"
   ]
  },
  {
   "cell_type": "markdown",
   "metadata": {},
   "source": [
    "gradient of y wrt x is:\n",
    "$$\n",
    "\\frac{\\partial y}{\\partial x} = 2 x\n",
    "$$"
   ]
  },
  {
   "cell_type": "markdown",
   "metadata": {},
   "source": [
    "## ex. 2"
   ]
  },
  {
   "cell_type": "markdown",
   "metadata": {},
   "source": [
    "$$ y = tr(AB) \\quad A,B \\in \\mathbb{R}^{N \\times N} $$ "
   ]
  },
  {
   "cell_type": "markdown",
   "metadata": {},
   "source": [
    "step 1:\n",
    "$$ (AB)_{ij} = \\sum_{k=1}^{N} a_{ik} * b_{kj} $$\n",
    "$$ y = tr(AB) = \\sum_{l=1}^{N} (\\sum_{k=1}^{N} a_{lk} * b_{kl}) = (a_{11} b_{11} + a_{12} b_{21} + ... + a_{1N} b_{N1}) + ... + (a_{N1} b_{1N} + a_{N2} b_{2N} + ... + a_{NN} b_{NN})$$"
   ]
  },
  {
   "cell_type": "markdown",
   "metadata": {},
   "source": [
    "then:\n",
    "$$\n",
    "\\frac{\\partial}{\\partial a_{ij}} y = b_{ji}\n",
    "$$\n",
    "\n",
    "and $\\frac{dy}{dA} \\in \\mathbb{R}^{N \\times N}$\n",
    "$$\n",
    "\\frac{dy}{dA} = B^T\n",
    "$$"
   ]
  },
  {
   "cell_type": "markdown",
   "metadata": {},
   "source": [
    "## ex. 3"
   ]
  },
  {
   "cell_type": "markdown",
   "metadata": {},
   "source": [
    "$$  \n",
    "y = x^TAc , \\quad A\\in \\mathbb{R}^{N \\times N}, x\\in \\mathbb{R}^{N}, c\\in \\mathbb{R}^{N} \n",
    "$$\n",
    "\n",
    "1. $$(Ac)_{i} = \\sum_{k=1}^{N} a_{ik} * c_{k} $$\n",
    "2. $$x^TAc = \\sum_{l=1}^{N} x_l * (Ac)_{l} = \\sum_{l=1}^{N} x_l * (\\sum_{k=1}^{N} a_{lk} * c_{k}) = (x_1 * (a_{11}c_1+ a_{12}c_2+...+a_{1N}c_N) + ... + x_N * (a_{N1}c_1+ a_{N2}c_2+...+a_{NN}c_N)) $$\n",
    "\n",
    "3. $$ \\frac{dy}{da_{ij}} = x_i c_j$$"
   ]
  },
  {
   "cell_type": "markdown",
   "metadata": {},
   "source": [
    "Hence, $\\frac{dy}{dA}$ is a matrix $\\in \\mathbb{R}^{N \\times N}$\n",
    "$$\n",
    "\\frac{dy}{dA} = {x_1c_1, ..., x_1c_j,..., x_1c_N}, \\newline ..., ..., ..., ..., ...\\newline {x_Nc_1, ..., x_Nc_i,..., x_Nc_N} = x c^T\n",
    "$$ "
   ]
  },
  {
   "cell_type": "markdown",
   "metadata": {},
   "source": [
    "## ex. 4"
   ]
  },
  {
   "cell_type": "markdown",
   "metadata": {},
   "source": [
    "Classic matrix factorization example. Given matrix $X$ you need to find $A$, $S$ to approximate $X$. This can be done by simple gradient descent iteratively alternating $A$ and $S$ updates.\n",
    "$$\n",
    "J = || X - AS ||_2^2  , \\quad A\\in \\mathbb{R}^{N \\times R} , \\quad S\\in \\mathbb{R}^{R \\times M}\n",
    "$$"
   ]
  },
  {
   "cell_type": "markdown",
   "metadata": {},
   "source": [
    "$$\n",
    "\\frac{dJ}{dS} = ?\n",
    "$$"
   ]
  },
  {
   "cell_type": "markdown",
   "metadata": {},
   "source": [
    "### First approach\n",
    "Using ex.2 and the fact:\n",
    "$$\n",
    "|| X ||_2^2 = tr(XX^T) \n",
    "$$ \n",
    "it is easy to derive gradients (you can find it in one of the refs). "
   ]
  },
  {
   "cell_type": "markdown",
   "metadata": {},
   "source": [
    "### Second approach\n",
    "And finally we can use chain rule! **YOUR TURN** to do it.\n",
    "let $ F = AS $ \n",
    "\n",
    "**Find**"
   ]
  },
  {
   "cell_type": "markdown",
   "metadata": {},
   "source": [
    "$$\n",
    "\\frac{dJ}{dF} = \\frac{tr((X-F)^T(X-F))}{dF}\n",
    "$$ \n",
    "\n",
    "$$\n",
    "(X-F)^T(X-F) = (X^T-F^T)(X-F) = X^T X-X^T F - F^T X + F^T F\n",
    "$$\n",
    "\n",
    "$$\n",
    "\\frac{dJ}{dF} = \\frac{tr(X^T X-X^T F - F^T X + F^T F)}{dF} \n",
    "$$\n",
    "\n",
    "$$\n",
    "\\frac{dJ}{dF} = \\frac{tr(X^T X)}{dF} - \\frac{tr(X^T F)}{dF} - \\frac{tr(F^T X)}{dF} + \\frac{tr(F^T X)}{dF}\n",
    "$$\n",
    "hence, \n",
    "$$\n",
    "\\frac{dJ}{dF} = 0 - X^T - X^T + 2F^T = 2(F^T - X^T)\n",
    "$$"
   ]
  },
  {
   "cell_type": "markdown",
   "metadata": {},
   "source": [
    "and (using my derivations from the ex.4 of 2.Seminar_Differentiaition.ipynb)\n",
    "$$\n",
    "\\frac{dF}{dS} = \\begin{bmatrix}\n",
    "    A & 0 & 0 & \\dots  & 0 \\\\\n",
    "    0 & A & 0 & \\dots  & 0 \\\\\n",
    "    \\vdots & \\vdots & \\vdots & \\ddots & \\vdots \\\\\n",
    "    0 & 0 & 0 & \\dots  & A\n",
    "\\end{bmatrix}\n",
    "$$ \n",
    "(the shape should be $ NM \\times RM )$."
   ]
  },
  {
   "cell_type": "markdown",
   "metadata": {},
   "source": [
    "Now it is easy do get desired gradients:\n",
    "$$\n",
    "\\frac{dJ}{dS} = \\frac{dJ}{dF} * \\frac{dF}{dS} = 2(S^TA^T-X^T)\n",
    "\\begin{bmatrix}\n",
    "    A & 0 & 0 & \\dots  & 0 \\\\\n",
    "    0 & A & 0 & \\dots  & 0 \\\\\n",
    "    \\vdots & \\vdots & \\vdots & \\ddots & \\vdots \\\\\n",
    "    0 & 0 & 0 & \\dots  & A\n",
    "\\end{bmatrix}\n",
    "$$\n",
    "\n",
    "?"
   ]
  },
  {
   "cell_type": "code",
   "execution_count": null,
   "metadata": {},
   "outputs": [],
   "source": []
  }
 ],
 "metadata": {
  "kernelspec": {
   "display_name": "Python 3",
   "language": "python",
   "name": "python3"
  },
  "language_info": {
   "codemirror_mode": {
    "name": "ipython",
    "version": 3
   },
   "file_extension": ".py",
   "mimetype": "text/x-python",
   "name": "python",
   "nbconvert_exporter": "python",
   "pygments_lexer": "ipython3",
   "version": "3.8.3"
  }
 },
 "nbformat": 4,
 "nbformat_minor": 4
}
